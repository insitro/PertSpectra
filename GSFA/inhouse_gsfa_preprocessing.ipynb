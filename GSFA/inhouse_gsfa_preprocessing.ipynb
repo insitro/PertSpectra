{
 "cells": [
  {
   "cell_type": "code",
   "execution_count": 3,
   "id": "0c3f7ba9",
   "metadata": {},
   "outputs": [
    {
     "name": "stdout",
     "output_type": "stream",
     "text": [
      "The autoreload extension is already loaded. To reload it, use:\n",
      "  %reload_ext autoreload\n"
     ]
    }
   ],
   "source": [
    "%load_ext autoreload\n",
    "%autoreload 2"
   ]
  },
  {
   "cell_type": "code",
   "execution_count": 4,
   "id": "dfbdfee5",
   "metadata": {},
   "outputs": [],
   "source": [
    "import sys\n",
    "\n",
    "import numpy as np\n",
    "import pandas as pd\n",
    "\n",
    "sys.path.append(\"..\")\n",
    "from src.Spectra.Spectra_Pert import vectorize_perts\n",
    "from utils import (\n",
    "    filter_noisy_genes,\n",
    "    generate_k_fold,\n",
    "    inhouse_preprocess,\n",
    "    read_aws_h5ad,\n",
    ")"
   ]
  },
  {
   "cell_type": "markdown",
   "id": "426b0898-25f4-492b-b77c-d9f1fc17010f",
   "metadata": {},
   "source": [
    "### Get train/test splits consistent with other models"
   ]
  },
  {
   "cell_type": "code",
   "execution_count": null,
   "id": "1dd10044-66e2-41c3-a724-282c4792f6d8",
   "metadata": {},
   "outputs": [],
   "source": [
    "# use anndata generate by ..data_processing/inhouse_prior_graph_preprocessing.ipynb\n",
    "unfilterd_adata = read_aws_h5ad(\"path to preprocessed h5ad here\")\n",
    "adata = filter_noisy_genes(unfilterd_adata)\n",
    "adata = inhouse_preprocess(adata)\n",
    "adata.layers[\"logcounts\"] = adata.X.copy()\n",
    "adata.X = adata.X.todense()\n",
    "gene_network = adata.uns[\"sparse_gene_network\"].todense()"
   ]
  },
  {
   "cell_type": "code",
   "execution_count": 4,
   "id": "d7e163dc-2a94-41de-b7f5-f717ac47fb4a",
   "metadata": {},
   "outputs": [],
   "source": [
    "# powered perturbations\n",
    "adata.obs[\"condition\"] = adata.obs[\"condition\"].astype(str)\n",
    "adata.obs[\"Treatment\"] = adata.obs[\"Treatment\"].astype(str)\n",
    "adata.obs[\"pert_treat\"] = adata.obs[\"condition\"] + \"+\" + adata.obs[\"Treatment\"]\n",
    "obs_df = pd.DataFrame(adata.obs[\"pert_treat\"])\n",
    "category_counts = obs_df[\"pert_treat\"].value_counts()\n",
    "filtered_categories = category_counts[category_counts >= 50].index\n",
    "adata = adata[adata.obs[\"pert_treat\"].isin(filtered_categories)]"
   ]
  },
  {
   "cell_type": "code",
   "execution_count": 5,
   "id": "2e20577d-23ec-4336-a3f5-8fcae53252a8",
   "metadata": {},
   "outputs": [],
   "source": [
    "train_idx, val_idx, test_idx = generate_k_fold(\n",
    "    adata, adata.X, adata.obs[\"condition\"], fold_idx=0\n",
    ")"
   ]
  },
  {
   "cell_type": "markdown",
   "id": "431abcfa-4929-4c0c-8651-c1f9c35f37f2",
   "metadata": {},
   "source": [
    "### Process GSFA-specifc input"
   ]
  },
  {
   "cell_type": "code",
   "execution_count": null,
   "id": "96e401f3",
   "metadata": {},
   "outputs": [],
   "source": [
    "# use inhouse dataset from s3://pert-spectra\n",
    "adata = read_aws_h5ad(\n",
    "    \"s3://pert-spectra/rnaseq565.filtered.actionet.guide_corrected.h5ad\"\n",
    ")\n",
    "adata = inhouse_preprocess(adata)"
   ]
  },
  {
   "cell_type": "code",
   "execution_count": 7,
   "id": "76e4b5e7",
   "metadata": {},
   "outputs": [],
   "source": [
    "# filter adata to perturbations with at least 50 samples for each treatment\n",
    "adata.obs[\"condition\"] = adata.obs[\"condition\"].astype(str)\n",
    "adata.obs[\"Treatment\"] = adata.obs[\"Treatment\"].astype(str)\n",
    "adata.obs[\"pert_treat\"] = adata.obs[\"condition\"] + \"+\" + adata.obs[\"Treatment\"]\n",
    "obs_df = pd.DataFrame(adata.obs[\"pert_treat\"])\n",
    "category_counts = obs_df[\"pert_treat\"].value_counts()\n",
    "filtered_categories = category_counts[category_counts >= 50].index\n",
    "adata = adata[adata.obs[\"pert_treat\"].isin(filtered_categories)]"
   ]
  },
  {
   "cell_type": "code",
   "execution_count": null,
   "id": "1fdfbf4b",
   "metadata": {},
   "outputs": [],
   "source": [
    "# create binary perturbation matrix\n",
    "D, pert_labels = vectorize_perts(adata, \"condition\", [\"ctrl\", \"nan\"])\n",
    "pert_idx = np.array(\n",
    "    [\n",
    "        adata.var_names.get_loc(i.split(\"_\")[1])\n",
    "        if i.split(\"_\")[1] in adata.var_names\n",
    "        else -1\n",
    "        for i in pert_labels\n",
    "    ]\n",
    ")\n",
    "# add ctrl one-hot-encoding\n",
    "ctrl_vector = np.array([1.0 if i == \"ctrl\" else 0.0 for i in adata.obs[\"condition\"]])\n",
    "D = np.concatenate([D, ctrl_vector.reshape(len(ctrl_vector), 1)], axis=1).astype(\n",
    "    np.float32\n",
    ")\n",
    "pert_idx = np.append(pert_idx, [-1, -1])\n",
    "pert_labels = pert_labels + [\"ctrl\"]\n",
    "print(D.shape)"
   ]
  },
  {
   "cell_type": "code",
   "execution_count": 9,
   "id": "4ac6b398",
   "metadata": {},
   "outputs": [],
   "source": [
    "# subset to kfold and TNFA+ treatment\n",
    "D_train = D[train_idx]\n",
    "adata_train = adata[train_idx]\n",
    "D_train = D_train[adata_train.obs[\"Treatment\"] == \"TNFA+\"]\n",
    "adata_train = adata_train[adata_train.obs[\"Treatment\"] == \"TNFA+\"]"
   ]
  },
  {
   "cell_type": "code",
   "execution_count": 13,
   "id": "0eb35473",
   "metadata": {},
   "outputs": [],
   "source": [
    "# subset further for GSFA to run without OOM issues\n",
    "from sklearn.model_selection import train_test_split\n",
    "\n",
    "Y, _, G, _ = train_test_split(\n",
    "    adata_train.layers[\"counts\"],\n",
    "    D_train,\n",
    "    test_size=0.2,\n",
    "    random_state=42,\n",
    "    stratify=D_train,\n",
    ")"
   ]
  },
  {
   "cell_type": "code",
   "execution_count": 14,
   "id": "5d496dfd-bbdf-4e90-aba2-a224674d2876",
   "metadata": {},
   "outputs": [],
   "source": [
    "# save inputs for GSFA\n",
    "np.savez(\"rna565_GSFA_inputs.npz\", array1=Y.todense(), array2=G)"
   ]
  },
  {
   "cell_type": "code",
   "execution_count": 12,
   "id": "c8d4ae72-33c8-4fe1-997b-47be95d0084b",
   "metadata": {},
   "outputs": [],
   "source": [
    "# save additional perturbation labels for downstream analysis\n",
    "np.savez(\"rna565_G_labels.npz\", pert_labels)"
   ]
  },
  {
   "cell_type": "code",
   "execution_count": null,
   "id": "3c76eeff-6cbb-4d30-a2ae-a336fd6e1794",
   "metadata": {},
   "outputs": [],
   "source": []
  }
 ],
 "metadata": {
  "kernelspec": {
   "display_name": "pertspectra",
   "language": "python",
   "name": "pertspectra"
  },
  "language_info": {
   "codemirror_mode": {
    "name": "ipython",
    "version": 3
   },
   "file_extension": ".py",
   "mimetype": "text/x-python",
   "name": "python",
   "nbconvert_exporter": "python",
   "pygments_lexer": "ipython3",
   "version": "3.11.0"
  }
 },
 "nbformat": 4,
 "nbformat_minor": 5
}
