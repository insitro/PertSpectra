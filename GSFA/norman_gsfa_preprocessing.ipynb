{
 "cells": [
  {
   "cell_type": "code",
   "execution_count": 10,
   "id": "0c3f7ba9",
   "metadata": {},
   "outputs": [
    {
     "name": "stdout",
     "output_type": "stream",
     "text": [
      "The autoreload extension is already loaded. To reload it, use:\n",
      "  %reload_ext autoreload\n"
     ]
    }
   ],
   "source": [
    "%load_ext autoreload\n",
    "%autoreload 2"
   ]
  },
  {
   "cell_type": "code",
   "execution_count": 11,
   "id": "dfbdfee5",
   "metadata": {},
   "outputs": [],
   "source": [
    "import sys\n",
    "\n",
    "import numpy as np\n",
    "import pandas as pd\n",
    "\n",
    "sys.path.append(\"..\")\n",
    "from src.Spectra.Spectra_Pert import vectorize_perts\n",
    "from utils import (\n",
    "    filter_noisy_genes,\n",
    "    generate_k_fold,\n",
    "    read_aws_h5ad,\n",
    ")"
   ]
  },
  {
   "cell_type": "markdown",
   "id": "15d54d79-721c-4e13-869d-b398460d7fb7",
   "metadata": {},
   "source": [
    "### Get train/test split consistent with other models"
   ]
  },
  {
   "cell_type": "code",
   "execution_count": null,
   "id": "1868a84f-9b4a-4853-8658-e597e027af94",
   "metadata": {},
   "outputs": [],
   "source": [
    "# use anndata generate by ..data_processing/norman_prior_graph_preprocessing.ipynb\n",
    "unfiltered_adata = read_aws_h5ad(\"path to preprocessed h5ad here\")\n",
    "adata = filter_noisy_genes(unfiltered_adata)\n",
    "adata.layers[\"logcounts\"] = adata.X.copy()\n",
    "adata.X = adata.X.todense()\n",
    "gene_network = adata.uns[\"sparse_gene_network\"].todense()"
   ]
  },
  {
   "cell_type": "code",
   "execution_count": 4,
   "id": "b62c8814-501e-4f9d-a5f9-f7ac30f16912",
   "metadata": {},
   "outputs": [],
   "source": [
    "# subset to powered perturbations\n",
    "obs_df = pd.DataFrame(adata.obs[\"perturbation_name\"])\n",
    "category_counts = obs_df[\"perturbation_name\"].value_counts()\n",
    "filtered_categories = category_counts[category_counts >= 50].index\n",
    "adata = adata[adata.obs[\"perturbation_name\"].isin(filtered_categories)]"
   ]
  },
  {
   "cell_type": "code",
   "execution_count": 5,
   "id": "0ffce6f2-b975-40f6-ab97-0f676c5bb0d9",
   "metadata": {},
   "outputs": [],
   "source": [
    "# retrieve same data splits for consistency\n",
    "train_idx, val_idx, test_idx = generate_k_fold(\n",
    "    adata,\n",
    "    adata.X,\n",
    "    adata.obs[\"perturbation_name\"],\n",
    "    fold_idx=0,\n",
    "    perturbation_key=\"perturbation_name\",\n",
    ")"
   ]
  },
  {
   "cell_type": "markdown",
   "id": "347d91bf-eb3f-470b-8fff-956b1dedd41a",
   "metadata": {},
   "source": [
    "### Process GSFA-specifc inputs"
   ]
  },
  {
   "cell_type": "code",
   "execution_count": 6,
   "id": "96e401f3",
   "metadata": {},
   "outputs": [],
   "source": [
    "# use Norman dataset from https://github.com/theislab/sc-pert\n",
    "adata = read_aws_h5ad(\"path to h5ad here\")"
   ]
  },
  {
   "cell_type": "code",
   "execution_count": 7,
   "id": "76e4b5e7",
   "metadata": {},
   "outputs": [],
   "source": [
    "# subset to powered perturbations\n",
    "obs_df = pd.DataFrame(adata.obs[\"perturbation_name\"])\n",
    "category_counts = obs_df[\"perturbation_name\"].value_counts()\n",
    "filtered_categories = category_counts[category_counts >= 50].index\n",
    "adata = adata[adata.obs[\"perturbation_name\"].isin(filtered_categories)]"
   ]
  },
  {
   "cell_type": "code",
   "execution_count": null,
   "id": "1fdfbf4b",
   "metadata": {},
   "outputs": [],
   "source": [
    "# create binary perturbation matrix\n",
    "D, pert_labels = vectorize_perts(adata, \"perturbation_name\", [\"control\", \"nan\"])\n",
    "pert_idx = np.array(\n",
    "    [\n",
    "        adata.var_names.get_loc(i.split(\"_\")[1])\n",
    "        if i.split(\"_\")[1] in adata.var_names\n",
    "        else -1\n",
    "        for i in pert_labels\n",
    "    ]\n",
    ")\n",
    "# add ctrl one-hot-encoding\n",
    "ctrl_vector = np.array(\n",
    "    [1.0 if i == \"control\" else 0.0 for i in adata.obs[\"perturbation_name\"]]\n",
    ")\n",
    "D = np.concatenate([D, ctrl_vector.reshape(len(ctrl_vector), 1)], axis=1).astype(\n",
    "    np.float32\n",
    ")\n",
    "pert_idx = np.append(pert_idx, [-1, -1])\n",
    "pert_labels = pert_labels + [\"ctrl\"]\n",
    "print(D.shape)"
   ]
  },
  {
   "cell_type": "code",
   "execution_count": 10,
   "id": "4ac6b398",
   "metadata": {},
   "outputs": [],
   "source": [
    "# subset to kfold\n",
    "adata_train = adata[train_idx]"
   ]
  },
  {
   "cell_type": "code",
   "execution_count": 11,
   "id": "0eb35473",
   "metadata": {},
   "outputs": [],
   "source": [
    "# subset further for GSFA to run without OOM issues\n",
    "from sklearn.model_selection import train_test_split\n",
    "\n",
    "Y, _, G, _ = train_test_split(\n",
    "    adata_train.layers[\"counts\"],\n",
    "    D[train_idx],\n",
    "    test_size=0.70,\n",
    "    random_state=42,\n",
    "    stratify=D[train_idx],\n",
    ")"
   ]
  },
  {
   "cell_type": "code",
   "execution_count": 12,
   "id": "5d496dfd-bbdf-4e90-aba2-a224674d2876",
   "metadata": {},
   "outputs": [],
   "source": [
    "# save inputs for GSFA\n",
    "np.savez(\"norman_GSFA_inputs.npz\", array1=Y.todense(), array2=G)"
   ]
  },
  {
   "cell_type": "code",
   "execution_count": 13,
   "id": "c8d4ae72-33c8-4fe1-997b-47be95d0084b",
   "metadata": {},
   "outputs": [],
   "source": [
    "# save perturbation labels for downstream analysis\n",
    "np.savez(\"norman_G_labels.npz\", pert_labels)"
   ]
  },
  {
   "cell_type": "code",
   "execution_count": null,
   "id": "17c84b85-395a-4b9c-adef-3b505a5b8fb0",
   "metadata": {},
   "outputs": [],
   "source": []
  }
 ],
 "metadata": {
  "kernelspec": {
   "display_name": "pertspectra",
   "language": "python",
   "name": "pertspectra"
  },
  "language_info": {
   "codemirror_mode": {
    "name": "ipython",
    "version": 3
   },
   "file_extension": ".py",
   "mimetype": "text/x-python",
   "name": "python",
   "nbconvert_exporter": "python",
   "pygments_lexer": "ipython3",
   "version": "3.11.0"
  }
 },
 "nbformat": 4,
 "nbformat_minor": 5
}
