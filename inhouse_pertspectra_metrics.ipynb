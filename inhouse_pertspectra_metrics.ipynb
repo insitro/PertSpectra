{
 "cells": [
  {
   "cell_type": "code",
   "execution_count": 1,
   "id": "b8270f66-7a27-4263-aa97-25abeb2cf34d",
   "metadata": {},
   "outputs": [],
   "source": [
    "%load_ext autoreload\n",
    "%autoreload 2 "
   ]
  },
  {
   "cell_type": "code",
   "execution_count": 1,
   "id": "529f64f3-c83e-481d-872c-df89b9dd063b",
   "metadata": {},
   "outputs": [],
   "source": [
    "import pickle\n",
    "\n",
    "import matplotlib.pyplot as plt\n",
    "import numpy as np\n",
    "import pandas as pd\n",
    "import seaborn as sns\n",
    "\n",
    "from utils import (\n",
    "    auprc,\n",
    "    factor_enrichment_gsea,\n",
    "    generate_k_fold,\n",
    "    get_gprofiler,\n",
    "    perturbation_signal_recovery,\n",
    "    read_aws_csv,\n",
    "    read_aws_h5ad,\n",
    "    read_aws_pickle,\n",
    "    retrieve_stringdb_neighbors,\n",
    "    set_seed,\n",
    ")"
   ]
  },
  {
   "cell_type": "code",
   "execution_count": null,
   "id": "8adbe3c2-a83b-4a8a-95ec-5f4c103f316c",
   "metadata": {},
   "outputs": [],
   "source": [
    "# read in trained model outputs generated from ./PertSpectra_load_checkpoints/pertspectra_inhouse.ipynb\n",
    "adata = read_aws_h5ad(\n",
    "    \"s3://pert-spectra/PertSpectra_checkpoints/pertspectra_inhouse/fold_0.h5ad\"\n",
    ")"
   ]
  },
  {
   "cell_type": "markdown",
   "id": "5b7bf773-5e0c-43b8-8df2-4ce3376be959",
   "metadata": {},
   "source": [
    "# Reconstruction"
   ]
  },
  {
   "cell_type": "markdown",
   "id": "3b4b092b-2120-48c6-a492-84656e8b7169",
   "metadata": {},
   "source": [
    "## Spearman Coefficient\n",
    "- Spearman correlation between predicted and observed expression of test set\n",
    "- Compute correlation for the mean expression aggregated on perturbation, across all kfolds"
   ]
  },
  {
   "cell_type": "code",
   "execution_count": 8,
   "id": "d62bb784-fd4f-4a86-acd4-fd54e784aa73",
   "metadata": {},
   "outputs": [],
   "source": [
    "n_folds = 5\n",
    "model_adatas = []\n",
    "for n in range(0, n_folds):\n",
    "    # new adata\n",
    "    adata_n = adata.copy()\n",
    "    # load model from checkpoint\n",
    "    s3_dir = \"s3://pert-spectra/PertSpectra_checkpoints/\"\n",
    "    experiment_name = \"pertspectra_inhouse/\"\n",
    "    model_name = f\"fold_{n}.h5ad\"\n",
    "    m_adata = read_aws_h5ad(s3_dir + experiment_name + model_name)\n",
    "    model_adatas.append(m_adata)"
   ]
  },
  {
   "cell_type": "code",
   "execution_count": 11,
   "id": "ac5cff31-fd20-4c61-8d0b-7eb7d25a213b",
   "metadata": {},
   "outputs": [],
   "source": [
    "# iterate through all models and get the losses and correlations\n",
    "# take the mean loss and correlation for the test set\n",
    "from scipy.stats import spearmanr\n",
    "\n",
    "test_corr_singles = []\n",
    "test_corr_combos = []\n",
    "\n",
    "set_seed(0)\n",
    "\n",
    "for n in range(n_folds):\n",
    "    adata_n = model_adatas[n]\n",
    "    train_idx, val_idx, test_idx = generate_k_fold(\n",
    "        adata_n, adata_n.X, adata_n.obs[\"condition\"], fold_idx=n\n",
    "    )\n",
    "    loss_weights = np.ones(adata_n.shape[0])\n",
    "    adata_test = adata_n[test_idx]\n",
    "\n",
    "    for pert in adata_test.obs[\"condition\"].unique():\n",
    "        hold_idx = [\n",
    "            i\n",
    "            for i, x in enumerate(\n",
    "                adata_test[adata_test.obs[\"Treatment\"] == \"TNFA+\"].obs[\"condition\"]\n",
    "            )\n",
    "            if x == pert\n",
    "        ]\n",
    "        recon = adata_test.uns[\"recon\"]\n",
    "        # correlation\n",
    "        mean_reconstruction = recon.mean(axis=0)\n",
    "        mean_observed = np.squeeze(\n",
    "            np.array(\n",
    "                adata_test[adata_test.obs[\"Treatment\"] == \"TNFA+\"][hold_idx].X.mean(\n",
    "                    axis=0\n",
    "                )\n",
    "            )\n",
    "        )\n",
    "        if (\"+\" in pert) and (\"ctrl\" not in pert):\n",
    "            test_corr_combos.append(\n",
    "                [pert, spearmanr(mean_reconstruction, mean_observed)[0], n]\n",
    "            )\n",
    "        else:\n",
    "            test_corr_singles.append(\n",
    "                [pert, spearmanr(mean_reconstruction, mean_observed)[0], n]\n",
    "            )"
   ]
  },
  {
   "cell_type": "code",
   "execution_count": 12,
   "id": "62812bb6-f82a-4c0b-ad92-18ec1bb9084d",
   "metadata": {},
   "outputs": [
    {
     "data": {
      "image/png": "[encoded data removed]",
      "text/plain": [
       "<Figure size 640x480 with 1 Axes>"
      ]
     },
     "metadata": {},
     "output_type": "display_data"
    }
   ],
   "source": [
    "# plot train correlation distribution vs test correlation distribution\n",
    "test_corr = np.array(test_corr_singles + test_corr_combos)[:, 1].astype(float)\n",
    "sns.histplot(test_corr, label=\"test_corr\")\n",
    "plt.title(\"Correlation between predicted and observed expression per perturbation\")\n",
    "plt.xlabel(\"Spearman Correlation\")\n",
    "plt.show()"
   ]
  },
  {
   "cell_type": "code",
   "execution_count": 11,
   "id": "2336d296-2911-4607-a902-552a7e7b92fd",
   "metadata": {},
   "outputs": [],
   "source": [
    "np.savetxt(\n",
    "    \"figures/reconstruction_spearmans/pertspectra_inhouse_spearman_correlations.csv\",\n",
    "    test_corr,\n",
    "    delimiter=\",\",\n",
    "    fmt=\"%.2f\",\n",
    ")"
   ]
  },
  {
   "cell_type": "markdown",
   "id": "64fc0b35-f87e-4d8a-87f1-e6080a3ee83f",
   "metadata": {},
   "source": [
    "# Perturbation Embedding Heatmap"
   ]
  },
  {
   "cell_type": "markdown",
   "id": "c36ebe2b-2835-44ed-9f71-a52b522125b1",
   "metadata": {},
   "source": [
    "## Hierarchical Clustering + Enrichment\n",
    "- Perform enrichment tests (gprofiler) on hierarchical clustering of perturbation embeddings"
   ]
  },
  {
   "cell_type": "code",
   "execution_count": null,
   "id": "0aaf8dc3-7e5b-4748-8685-fc8560bf7fc7",
   "metadata": {},
   "outputs": [],
   "source": [
    "from scipy.spatial.distance import pdist, squareform\n",
    "\n",
    "# Compute the pairwise distances\n",
    "tnfa_pos_pert_embeddings_df = pd.DataFrame(\n",
    "    adata.uns[\"SPECTRA_pert_scores\"], index=adata.uns[\"Spectra_pert_labels\"]\n",
    ")\n",
    "df = tnfa_pos_pert_embeddings_df.drop(index=[\"basal\", \"ctrl\", \"intergenic\"])\n",
    "\n",
    "distance = \"euclidean\"\n",
    "distances = pdist(df.values, metric=distance)\n",
    "\n",
    "# Convert the distances into a square distance matrix\n",
    "distance_matrix = pd.DataFrame(squareform(distances), index=df.index, columns=df.index)\n",
    "clustermap = sns.clustermap(distance_matrix, cmap=\"viridis_r\")\n",
    "clustermap.fig.suptitle(f\"Pairwise {distance} distance of perturbation latent vectors\")\n",
    "# clustermap.ax_row_dendrogram.set_visible(False)\n",
    "clustermap.ax_col_dendrogram.set_visible(False)\n",
    "plt.show()"
   ]
  },
  {
   "cell_type": "code",
   "execution_count": 5,
   "id": "b2181a72-86cf-47a0-aa04-ab154fe0bf95",
   "metadata": {},
   "outputs": [
    {
     "data": {
      "image/png": "[encoded data removed]",
      "text/plain": [
       "<Figure size 640x480 with 1 Axes>"
      ]
     },
     "metadata": {},
     "output_type": "display_data"
    }
   ],
   "source": [
    "from scipy.cluster.hierarchy import dendrogram\n",
    "\n",
    "den = dendrogram(\n",
    "    clustermap.dendrogram_col.linkage,\n",
    "    labels=distance_matrix.index,\n",
    "    color_threshold=0.01,\n",
    ")"
   ]
  },
  {
   "cell_type": "code",
   "execution_count": 8,
   "id": "00c46f2e-04d9-4b79-bc0e-b1362d6af844",
   "metadata": {},
   "outputs": [],
   "source": [
    "# extract clusters and perform gprofiler\n",
    "from collections import defaultdict\n",
    "\n",
    "\n",
    "def get_cluster_classes(den, label=\"ivl\"):\n",
    "    cluster_idxs = defaultdict(list)\n",
    "    for c, pi in zip(den[\"color_list\"], den[\"icoord\"]):\n",
    "        for leg in pi[1:3]:\n",
    "            i = (leg - 5.0) / 10.0\n",
    "            if abs(i - int(i)) < 1e-5:\n",
    "                cluster_idxs[c].append(int(i))\n",
    "    cluster_classes = {}\n",
    "    for c, l in cluster_idxs.items():  # noqa\n",
    "        i_l = [den[label][i] for i in l]\n",
    "        cluster_classes[c] = i_l\n",
    "    return cluster_classes\n",
    "\n",
    "\n",
    "clusters = get_cluster_classes(den)\n",
    "# extract functions for clusters\n",
    "cluster_process = {}\n",
    "for c in clusters:\n",
    "    cluster_df = pd.DataFrame(clusters[c], columns=[\"gene_symbol\"])\n",
    "    res = get_gprofiler(cluster_df)\n",
    "    cluster_process[c] = res[res[\"p_value\"] <= 0.05]"
   ]
  },
  {
   "cell_type": "code",
   "execution_count": 10,
   "id": "ebfece22-89bd-4010-bcb9-e99431c63e94",
   "metadata": {},
   "outputs": [],
   "source": [
    "# save grpofiler results\n",
    "with open(\n",
    "    \"figures/pert_embedding_cluster_gprofiler/pertspectra_inhouse_pert_emb_gprofiler.pickle\",\n",
    "    \"wb\",\n",
    ") as handle:\n",
    "    pickle.dump(cluster_process, handle, protocol=pickle.HIGHEST_PROTOCOL)"
   ]
  },
  {
   "cell_type": "markdown",
   "id": "55eaf3f0-4b9f-4028-a042-f6f03996350f",
   "metadata": {},
   "source": [
    "## PR Curve+AUC\n",
    "- AUCPR using prior graph as binary label"
   ]
  },
  {
   "cell_type": "code",
   "execution_count": 10,
   "id": "ffd66c94-5f10-407c-b019-17d09a11a0ca",
   "metadata": {},
   "outputs": [
    {
     "name": "stdout",
     "output_type": "stream",
     "text": [
      "               AUC\n",
      "StringDB  0.675809\n",
      "CORUM     0.705489\n",
      "                F1  Threshold\n",
      "StringDB  0.697966   0.007078\n",
      "CORUM     0.639556   0.160069\n"
     ]
    }
   ],
   "source": [
    "aucpr_df, f1_df, pr_dict = auprc(distance_matrix)\n",
    "print(aucpr_df)\n",
    "print(f1_df)\n",
    "aucpr_df.to_csv(\"figures/pert_embedding_recall/pertspectra_inhouse_aucpr.csv\")\n",
    "f1_df.to_csv(\"figures/pert_embedding_recall/pertspectra_inhouse_f1.csv\")"
   ]
  },
  {
   "cell_type": "code",
   "execution_count": 11,
   "id": "c3ef0a88-3b42-4d4c-b7f4-79c018ee3f45",
   "metadata": {},
   "outputs": [
    {
     "data": {
      "image/png": "[encoded data removed]",
      "text/plain": [
       "<Figure size 800x600 with 1 Axes>"
      ]
     },
     "metadata": {},
     "output_type": "display_data"
    }
   ],
   "source": [
    "# Plot the precision-recall curve\n",
    "prior = \"StringDB\"\n",
    "plt.figure(figsize=(8, 6))\n",
    "plt.plot(\n",
    "    pr_dict[prior][\"recall\"],\n",
    "    pr_dict[prior][\"precision\"],\n",
    "    marker=\".\",\n",
    "    label=\"Precision-Recall Curve\",\n",
    ")\n",
    "# Adding labels and title\n",
    "plt.xlabel(\"Recall\")\n",
    "plt.ylabel(\"Precision\")\n",
    "plt.title(\"Precision-Recall Curve\")\n",
    "plt.legend()\n",
    "# Save the plot\n",
    "plt.show()"
   ]
  },
  {
   "cell_type": "markdown",
   "id": "8fdff66a-8f20-4268-8520-d33a0fa4969a",
   "metadata": {},
   "source": [
    "# Interpretability of our learned latent space"
   ]
  },
  {
   "cell_type": "markdown",
   "id": "1ec54f80-8a0f-41f0-8c55-edd2b1fbfb3c",
   "metadata": {},
   "source": [
    "## Factor Enrichment\n",
    "- GSEA on log transformed latent-by-gene factors\n",
    "- Then associate each perturbation to its top latent factors"
   ]
  },
  {
   "cell_type": "code",
   "execution_count": null,
   "id": "35eb8169-15b1-4b5b-b926-d5b7238f372a",
   "metadata": {},
   "outputs": [],
   "source": [
    "factor_to_go = factor_enrichment_gsea(adata, adata.uns[\"SPECTRA_factors\"], fdr=1e-2)"
   ]
  },
  {
   "cell_type": "code",
   "execution_count": 14,
   "id": "814189ce-53f3-4716-834a-a4f0ea6efcf9",
   "metadata": {},
   "outputs": [],
   "source": [
    "# filter and add description to processes\n",
    "go_df = read_aws_csv(\"s3://pert-spectra/references/GO_to_Description.txt\")\n",
    "go_df.set_index(\"Term\", inplace=True)\n",
    "go_dict = go_df.to_dict()[\"Description\"]\n",
    "\n",
    "filtered_factor_to_go = {}\n",
    "for i in factor_to_go:\n",
    "    proc = factor_to_go[i]\n",
    "    proc[\"descr\"] = [go_dict[x] for x in proc[\"GO_ID\"]]\n",
    "    filtered_factor_to_go[i] = proc"
   ]
  },
  {
   "cell_type": "code",
   "execution_count": 15,
   "id": "999ea1a6-b9f9-4cdd-a8cc-15e4db23f7f7",
   "metadata": {},
   "outputs": [],
   "source": [
    "# save latent enrichment results\n",
    "with open(\n",
    "    \"figures/factor_enrichments/pertspectra_inhouse_factor_enrichment.pickle\", \"wb\"\n",
    ") as handle:\n",
    "    pickle.dump(filtered_factor_to_go, handle, protocol=pickle.HIGHEST_PROTOCOL)"
   ]
  },
  {
   "cell_type": "markdown",
   "id": "78d01afb-6501-4424-99f5-05839747f118",
   "metadata": {},
   "source": [
    "## Overlap with prior knowledge/ground truth (stringdb)\n",
    "- Group A: a set of GO terms associated with a perturbation (either drivers from msigdb, or from literature) and its neighbors in stringdb\n",
    "- Group B: a set of GO terms from the interpretability analysis\n",
    "- Hypergeometric test on the overlap of the two groups"
   ]
  },
  {
   "cell_type": "code",
   "execution_count": 16,
   "id": "d0274191-ea1a-4abf-8704-53f99a08fa3c",
   "metadata": {},
   "outputs": [],
   "source": [
    "# load precomputed factor_to_go dict if available\n",
    "filtered_factor_to_go = read_aws_pickle(\n",
    "    \"s3://pert-spectra/figures/factor_enrichments/pertspectra_inhouse_factor_enrichment.pickle\"\n",
    ")"
   ]
  },
  {
   "cell_type": "code",
   "execution_count": null,
   "id": "782c4388-f53b-4963-8ee1-578de81d67de",
   "metadata": {},
   "outputs": [],
   "source": [
    "# get neighbors for each perturbation\n",
    "pert_neighbors = retrieve_stringdb_neighbors(adata.uns[\"Spectra_pert_labels\"])"
   ]
  },
  {
   "cell_type": "code",
   "execution_count": 23,
   "id": "abfc3fd4-806e-459d-af34-0b9f365a8e91",
   "metadata": {},
   "outputs": [],
   "source": [
    "# construct group A - known processes for each perturbation\n",
    "gene_sets = read_aws_pickle(\"s3://pert-spectra/references/GO_to_Gene.pickle\")\n",
    "# BP only go terms\n",
    "go_reference = read_aws_csv(\"s3://pert-spectra/references/GO_terms.txt.gz\", zipped=True)\n",
    "go_bp = go_reference[go_reference[\"go_category\"] == \"biological_process\"]\n",
    "go_bp_ids = set(go_bp[\"go_id\"].values)\n",
    "filtered_go_terms = {key: gene_sets[key] for key in go_bp_ids if key in gene_sets}\n",
    "\n",
    "# GO terms per perturbation AND its neighbors in stringdb\n",
    "pert_to_go = {key: set() for key in adata.uns[\"Spectra_pert_labels\"]}\n",
    "for goterm in filtered_go_terms:\n",
    "    for pert in adata.uns[\"Spectra_pert_labels\"]:\n",
    "        if pert in filtered_go_terms[goterm] and set(\n",
    "            filtered_go_terms[goterm]\n",
    "        ).intersection(pert_neighbors[pert]):\n",
    "            pert_to_go[pert].add(goterm)"
   ]
  },
  {
   "cell_type": "code",
   "execution_count": 24,
   "id": "3245b161-3e6c-4966-99d9-b7bb1d2ba6e6",
   "metadata": {},
   "outputs": [],
   "source": [
    "# construct set B - model identified processes for each perturbation\n",
    "n = 2  # number of top factors to get processes from\n",
    "model_pert_to_go = {}\n",
    "for pert in adata.uns[\"Spectra_pert_labels\"]:\n",
    "    if pert in [\"ctrl\", \"intergenic\", \"basal\"]:\n",
    "        continue\n",
    "    # get top factors\n",
    "    tnfa_pos_pert_embeddings_df = pd.DataFrame(\n",
    "        adata.uns[\"SPECTRA_pert_scores\"], index=adata.uns[\"Spectra_pert_labels\"]\n",
    "    )\n",
    "    pert_loading = tnfa_pos_pert_embeddings_df.loc[pert]\n",
    "    intergenic_loading = tnfa_pos_pert_embeddings_df.loc[\"intergenic\"]\n",
    "    delta_loading = np.abs(np.log(pert_loading) - np.log(intergenic_loading))\n",
    "    top_n_factors = np.argpartition(np.array(delta_loading), -n)[-n:]\n",
    "    # get processes\n",
    "    model_processes = set()\n",
    "    for f in top_n_factors:\n",
    "        proc = filtered_factor_to_go[f]\n",
    "        model_processes = model_processes.union(set(proc[\"Term\"]))\n",
    "    model_pert_to_go[pert] = model_processes"
   ]
  },
  {
   "cell_type": "code",
   "execution_count": 25,
   "id": "e6a99270-618f-467b-8c0c-67610171ddbd",
   "metadata": {
    "scrolled": true
   },
   "outputs": [
    {
     "name": "stdout",
     "output_type": "stream",
     "text": [
      "Overlap for SKP2: 2 out of 6 in researchDB\n",
      "P-value for SKP2: 0.005521122949289679\n",
      "Overlap for NFKBIA: 4 out of 28 in researchDB\n",
      "P-value for NFKBIA: 0.0018530509193777707\n",
      "Overlap for TRAF2: 12 out of 29 in researchDB\n",
      "P-value for TRAF2: 9.372890092145309e-14\n",
      "Overlap for BIRC2: 12 out of 30 in researchDB\n",
      "P-value for BIRC2: 1.5352819800190863e-13\n",
      "Overlap for TAB1: 6 out of 9 in researchDB\n",
      "P-value for TAB1: 9.880142853042106e-07\n",
      "Overlap for UBE2N: 6 out of 16 in researchDB\n",
      "P-value for UBE2N: 3.5981263241025083e-07\n",
      "Overlap for CHUK: 12 out of 21 in researchDB\n",
      "P-value for CHUK: 8.970401417521286e-16\n",
      "Overlap for RBCK1: 8 out of 11 in researchDB\n",
      "P-value for RBCK1: 4.469976857613242e-09\n",
      "Overlap for IKBKB: 15 out of 24 in researchDB\n",
      "P-value for IKBKB: 1.262837991043831e-14\n",
      "Overlap for TNFRSF1A: 12 out of 21 in researchDB\n",
      "P-value for TNFRSF1A: 3.557360199375414e-11\n",
      "Overlap for TRAF6: 14 out of 46 in researchDB\n",
      "P-value for TRAF6: 8.701845914835026e-14\n",
      "Overlap for BIRC3: 8 out of 20 in researchDB\n",
      "P-value for BIRC3: 2.0442561238209195e-09\n",
      "Overlap for TRADD: 11 out of 13 in researchDB\n",
      "P-value for TRADD: 2.20628781790212e-13\n",
      "Overlap for TRAF5: 9 out of 14 in researchDB\n",
      "P-value for TRAF5: 8.644484310231755e-13\n",
      "Overlap for IKBKG: 12 out of 17 in researchDB\n",
      "P-value for IKBKG: 7.268024700298374e-13\n",
      "Overlap for TAB2: 5 out of 5 in researchDB\n",
      "P-value for TAB2: 2.730409006194343e-07\n",
      "Overlap for RIPK1: 28 out of 38 in researchDB\n",
      "P-value for RIPK1: 3.1419351093251465e-29\n",
      "Overlap for SKP1: 3 out of 7 in researchDB\n",
      "P-value for SKP1: 0.00023036479244599009\n",
      "Overlap for MAP3K7: 10 out of 23 in researchDB\n",
      "P-value for MAP3K7: 4.7379439102193765e-08\n",
      "Overlap for FBXW11: 11 out of 13 in researchDB\n",
      "P-value for FBXW11: 2.0898341048664293e-13\n",
      "Overlap for CUL1: 2 out of 7 in researchDB\n",
      "P-value for CUL1: 0.007218985999647311\n"
     ]
    }
   ],
   "source": [
    "pvals = perturbation_signal_recovery(\n",
    "    pert_to_go,\n",
    "    model_pert_to_go,\n",
    "    list(filtered_go_terms.keys()),\n",
    "    list(adata.uns[\"Spectra_pert_labels\"]),\n",
    ")"
   ]
  },
  {
   "cell_type": "code",
   "execution_count": 26,
   "id": "b057ceb0-49b0-4c4d-870d-d9a3fe7b1428",
   "metadata": {},
   "outputs": [],
   "source": [
    "# save as csv for visualization\n",
    "pd.DataFrame.from_dict(data=pvals, orient=\"index\").to_csv(\n",
    "    \"figures/process_recovery_hypergeo_pvals/MODEL_inhouse_hypergeo_neighbors_recovery_pvalues.csv\",\n",
    "    header=False,\n",
    ")"
   ]
  },
  {
   "cell_type": "code",
   "execution_count": null,
   "id": "99859d27-3a23-42f0-9d01-1087d698d118",
   "metadata": {},
   "outputs": [],
   "source": []
  }
 ],
 "metadata": {
  "kernelspec": {
   "display_name": "pertspectra",
   "language": "python",
   "name": "pertspectra"
  },
  "language_info": {
   "codemirror_mode": {
    "name": "ipython",
    "version": 3
   },
   "file_extension": ".py",
   "mimetype": "text/x-python",
   "name": "python",
   "nbconvert_exporter": "python",
   "pygments_lexer": "ipython3",
   "version": "3.11.0"
  }
 },
 "nbformat": 4,
 "nbformat_minor": 5
}
