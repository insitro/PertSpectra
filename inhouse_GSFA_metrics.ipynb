{
 "cells": [
  {
   "cell_type": "code",
   "execution_count": 1,
   "id": "b8270f66-7a27-4263-aa97-25abeb2cf34d",
   "metadata": {},
   "outputs": [],
   "source": [
    "%load_ext autoreload\n",
    "%autoreload 2 "
   ]
  },
  {
   "cell_type": "code",
   "execution_count": 2,
   "id": "529f64f3-c83e-481d-872c-df89b9dd063b",
   "metadata": {},
   "outputs": [],
   "source": [
    "import pickle\n",
    "\n",
    "import matplotlib.pyplot as plt\n",
    "import numpy as np\n",
    "import pandas as pd\n",
    "\n",
    "from utils import (\n",
    "    auprc,\n",
    "    factor_enrichment_gsea,\n",
    "    get_gprofiler,\n",
    "    inhouse_preprocess,\n",
    "    perturbation_signal_recovery,\n",
    "    read_aws_csv,\n",
    "    read_aws_h5ad,\n",
    "    read_aws_npz,\n",
    "    read_aws_pickle,\n",
    "    retrieve_stringdb_neighbors,\n",
    ")"
   ]
  },
  {
   "cell_type": "code",
   "execution_count": 4,
   "id": "39762015-fa94-4ae8-9038-405f7c56a03b",
   "metadata": {},
   "outputs": [],
   "source": [
    "# read learned parameters\n",
    "Z = read_aws_csv(\n",
    "    \"s3://pert-spectra/gsfa_checkpoints/inhouse_gsfa_outputs/Z.csv\"\n",
    ").to_numpy()\n",
    "W = read_aws_csv(\n",
    "    \"s3://pert-spectra/gsfa_checkpoints/inhouse_gsfa_outputs/W.csv\"\n",
    ").to_numpy()\n",
    "F = read_aws_csv(\n",
    "    \"s3://pert-spectra/gsfa_checkpoints/inhouse_gsfa_outputs/F.csv\"\n",
    ").to_numpy()\n",
    "beta = read_aws_csv(\n",
    "    \"s3://pert-spectra/gsfa_checkpoints/inhouse_gsfa_outputs/beta.csv\"\n",
    ").to_numpy()\n",
    "lsfr = read_aws_csv(\n",
    "    \"s3://pert-spectra/gsfa_checkpoints/inhouse_gsfa_outputs/lsfr.csv\"\n",
    ").to_numpy()\n",
    "# read gene and perturbation information\n",
    "gene_labels = read_aws_csv(\"s3://pert-spectra/gsfa_checkpoints/inhouse_top_genes.csv\")[\n",
    "    \"x\"\n",
    "].to_numpy()\n",
    "pert_labels = read_aws_npz(\"s3://pert-spectra/gsfa_checkpoints/inhouse_G_labels.npz\")[\n",
    "    \"arr_0\"\n",
    "]\n",
    "pert_labels = [x.split(\"_\")[1] for x in pert_labels[:-1]]\n",
    "pert_labels = pert_labels + [\"ctrl\"]\n",
    "# read inputs and preprocessed input\n",
    "preprocessed_Y = read_aws_npz(\n",
    "    \"s3://pert-spectra/gsfa_checkpoints/inhouse_GSFA_preprocessed.npz\"\n",
    ")[\"array1\"]\n",
    "G = read_aws_npz(\"s3://pert-spectra/gsfa_checkpoints/inhouse_GSFA_inputs.npz\")[\"array2\"]"
   ]
  },
  {
   "cell_type": "code",
   "execution_count": null,
   "id": "601bbfb0-17ed-4694-850c-fcbf1fef961b",
   "metadata": {},
   "outputs": [],
   "source": [
    "# read in adata of raw data for reference\n",
    "adata = read_aws_h5ad(\"path to raw inhouse h5ad\")\n",
    "adata = adata[:, gene_labels - 1]\n",
    "adata = inhouse_preprocess(adata)"
   ]
  },
  {
   "cell_type": "code",
   "execution_count": 6,
   "id": "a6ea3e4a-7c2f-41ba-b136-9ef9a6ab3029",
   "metadata": {},
   "outputs": [],
   "source": [
    "# filter adata to perturbations with at least 50 samples for each treatment\n",
    "adata.obs[\"condition\"] = adata.obs[\"condition\"].astype(str)\n",
    "adata.obs[\"Treatment\"] = adata.obs[\"Treatment\"].astype(str)\n",
    "adata.obs[\"pert_treat\"] = adata.obs[\"condition\"] + \"+\" + adata.obs[\"Treatment\"]\n",
    "obs_df = pd.DataFrame(adata.obs[\"pert_treat\"])\n",
    "category_counts = obs_df[\"pert_treat\"].value_counts()\n",
    "filtered_categories = category_counts[category_counts >= 50].index\n",
    "adata = adata[adata.obs[\"pert_treat\"].isin(filtered_categories)]"
   ]
  },
  {
   "cell_type": "markdown",
   "id": "5b7bf773-5e0c-43b8-8df2-4ce3376be959",
   "metadata": {},
   "source": [
    "# Reconstruction"
   ]
  },
  {
   "cell_type": "markdown",
   "id": "3b4b092b-2120-48c6-a492-84656e8b7169",
   "metadata": {},
   "source": [
    "## Spearman Coefficient\n",
    "- Spearman correlation between predicted and observed expression (on DE genes if available)"
   ]
  },
  {
   "cell_type": "code",
   "execution_count": 7,
   "id": "e2885bd3-5433-47d6-88d5-47be83df5b5a",
   "metadata": {},
   "outputs": [],
   "source": [
    "# for GSFA, measure reconstruction on training\n",
    "from scipy.stats import spearmanr\n",
    "\n",
    "reconstruction = Z @ W.T\n",
    "# rebuild pert labels\n",
    "G_labels = []\n",
    "for row in G:\n",
    "    pert_idx = np.where(row == 1)[0].tolist()\n",
    "    perts = [pert_labels[i] for i in pert_idx]\n",
    "    G_labels.append(\"+\".join(perts))\n",
    "test_corr_singles = []\n",
    "test_corr_combos = []\n",
    "\n",
    "for pert in set(G_labels):\n",
    "    hold_idx = [i for i, x in enumerate(G_labels) if x == pert]\n",
    "    if not hold_idx:\n",
    "        continue\n",
    "    recon = reconstruction[hold_idx]\n",
    "    # correlation\n",
    "    mean_reconstruction = recon.mean(axis=0)\n",
    "    mean_observed = preprocessed_Y[hold_idx].mean(axis=0)\n",
    "    if (\"+\" in pert) and (\"ctrl\" not in pert):\n",
    "        test_corr_combos.append(\n",
    "            [pert, spearmanr(mean_reconstruction, mean_observed)[0]]\n",
    "        )\n",
    "    else:\n",
    "        test_corr_singles.append(\n",
    "            [pert, spearmanr(mean_reconstruction, mean_observed)[0]]\n",
    "        )"
   ]
  },
  {
   "cell_type": "code",
   "execution_count": 8,
   "id": "971dead3-70d4-41a5-98c0-ab485b32da4f",
   "metadata": {},
   "outputs": [
    {
     "data": {
      "image/png": "[encoded data removed]",
      "text/plain": [
       "<Figure size 640x480 with 1 Axes>"
      ]
     },
     "metadata": {},
     "output_type": "display_data"
    }
   ],
   "source": [
    "# plot train correlation distribution vs test correlation distribution\n",
    "import seaborn as sns\n",
    "\n",
    "test_corr = np.array(test_corr_singles + test_corr_combos)[:, 1].astype(float)\n",
    "sns.histplot(test_corr, label=\"test_corr\")\n",
    "plt.title(\"Correlation between predicted and observed expression per perturbation\")\n",
    "plt.xlabel(\"Spearman Correlation\")\n",
    "plt.show()"
   ]
  },
  {
   "cell_type": "code",
   "execution_count": 95,
   "id": "cfa5cc5e-a7c8-44b2-92de-2c5d083721a1",
   "metadata": {},
   "outputs": [],
   "source": [
    "np.savetxt(\n",
    "    \"figures/reconstruction_spearmans/GSFA_inhouse_spearman_correlations.csv\",\n",
    "    test_corr,\n",
    "    delimiter=\",\",\n",
    "    fmt=\"%.2f\",\n",
    ")"
   ]
  },
  {
   "cell_type": "markdown",
   "id": "64fc0b35-f87e-4d8a-87f1-e6080a3ee83f",
   "metadata": {},
   "source": [
    "# Perturbation Embedding Heatmap"
   ]
  },
  {
   "cell_type": "markdown",
   "id": "c36ebe2b-2835-44ed-9f71-a52b522125b1",
   "metadata": {},
   "source": [
    "## Hierarchical Clustering + Enrichment\n",
    "- Perform enrichment tests (gprofiler) on hierarchical clustering of perturbation embeddings"
   ]
  },
  {
   "cell_type": "code",
   "execution_count": null,
   "id": "0aaf8dc3-7e5b-4748-8685-fc8560bf7fc7",
   "metadata": {},
   "outputs": [],
   "source": [
    "import pandas as pd\n",
    "import seaborn as sns\n",
    "from scipy.spatial.distance import pdist, squareform\n",
    "\n",
    "# Put into df\n",
    "pert_emb_df = pd.DataFrame(beta[:-1], index=pert_labels)\n",
    "pert_emb_df = pert_emb_df.drop(columns=[0]).astype(\"float\")\n",
    "\n",
    "# Compute the pairwise distances\n",
    "df = pert_emb_df.drop(index=[\"ctrl\", \"intergenic\"])\n",
    "\n",
    "distance = \"euclidean\"\n",
    "\n",
    "distances = pdist(df.values, metric=distance)\n",
    "\n",
    "# Convert the distances into a square distance matrix\n",
    "distance_matrix = pd.DataFrame(squareform(distances), index=df.index, columns=df.index)\n",
    "clustermap = sns.clustermap(distance_matrix, cmap=\"viridis_r\")\n",
    "clustermap.fig.suptitle(f\"Pairwise {distance} distance of perturbation latent vectors\")\n",
    "# clustermap.ax_row_dendrogram.set_visible(False)\n",
    "clustermap.ax_col_dendrogram.set_visible(False)\n",
    "plt.show()"
   ]
  },
  {
   "cell_type": "code",
   "execution_count": 10,
   "id": "5c7d0199-28ac-4e7c-b4b5-180844815fe6",
   "metadata": {},
   "outputs": [
    {
     "data": {
      "image/png": "[encoded data removed]",
      "text/plain": [
       "<Figure size 640x480 with 1 Axes>"
      ]
     },
     "metadata": {},
     "output_type": "display_data"
    }
   ],
   "source": [
    "from scipy.cluster.hierarchy import dendrogram\n",
    "\n",
    "den = dendrogram(\n",
    "    clustermap.dendrogram_col.linkage, labels=distance_matrix.index, color_threshold=2\n",
    ")"
   ]
  },
  {
   "cell_type": "code",
   "execution_count": 12,
   "id": "0a73d648-3099-47e8-b7d2-6c9e54b4b8c5",
   "metadata": {},
   "outputs": [],
   "source": [
    "# extract clusters and perform gprofiler\n",
    "from collections import defaultdict\n",
    "\n",
    "\n",
    "def get_cluster_classes(den, label=\"ivl\"):\n",
    "    cluster_idxs = defaultdict(list)\n",
    "    for c, pi in zip(den[\"color_list\"], den[\"icoord\"]):\n",
    "        for leg in pi[1:3]:\n",
    "            i = (leg - 5.0) / 10.0\n",
    "            if abs(i - int(i)) < 1e-5:\n",
    "                cluster_idxs[c].append(int(i))\n",
    "    cluster_classes = {}\n",
    "    for c, l in cluster_idxs.items():  # noqa\n",
    "        i_l = [den[label][i] for i in l]\n",
    "        cluster_classes[c] = i_l\n",
    "    return cluster_classes\n",
    "\n",
    "\n",
    "clusters = get_cluster_classes(den)\n",
    "# extract functions for clusters\n",
    "cluster_process = {}\n",
    "for c in clusters:\n",
    "    cluster_df = pd.DataFrame(clusters[c], columns=[\"gene_symbol\"])\n",
    "    res = get_gprofiler(cluster_df)\n",
    "    cluster_process[c] = res[res[\"p_value\"] <= 0.05]"
   ]
  },
  {
   "cell_type": "code",
   "execution_count": 266,
   "id": "fa1a6087-7597-4ac7-8c6b-ebc945044ef8",
   "metadata": {},
   "outputs": [],
   "source": [
    "# save grpofiler results\n",
    "with open(\n",
    "    \"figures/pert_embedding_cluster_gprofiler/GSFA_inhouse_pert_emb_gprofiler.pickle\",\n",
    "    \"wb\",\n",
    ") as handle:\n",
    "    pickle.dump(cluster_process, handle, protocol=pickle.HIGHEST_PROTOCOL)"
   ]
  },
  {
   "cell_type": "markdown",
   "id": "2b11d8f8-00ca-47cf-acde-53d5d1c88bef",
   "metadata": {},
   "source": [
    "## PR Curve+AUC\n",
    "- AUCPR using prior graph as binary label"
   ]
  },
  {
   "cell_type": "code",
   "execution_count": 268,
   "id": "16fceeb8-b9a3-495f-a799-f733d21cba7b",
   "metadata": {},
   "outputs": [
    {
     "name": "stdout",
     "output_type": "stream",
     "text": [
      "               AUC\n",
      "StringDB  0.685749\n",
      "CORUM     0.536772\n",
      "                F1  Threshold\n",
      "StringDB  0.689548   0.011192\n",
      "CORUM     0.632953   0.016780\n"
     ]
    }
   ],
   "source": [
    "aucpr_df, f1_df, pr_dict = auprc(distance_matrix)\n",
    "print(aucpr_df)\n",
    "print(f1_df)\n",
    "aucpr_df.to_csv(\"figures/pert_embedding_recall/GSFA_inhouse_aucpr.csv\")\n",
    "f1_df.to_csv(\"figures/pert_embedding_recall/GSFA_inhouse_f1.csv\")"
   ]
  },
  {
   "cell_type": "markdown",
   "id": "8fdff66a-8f20-4268-8520-d33a0fa4969a",
   "metadata": {},
   "source": [
    "# Interpretability of our learned latent space"
   ]
  },
  {
   "cell_type": "markdown",
   "id": "1ec54f80-8a0f-41f0-8c55-edd2b1fbfb3c",
   "metadata": {},
   "source": [
    "## Factor Enrichment\n",
    "- GSEA on log transformed latent-by-gene factors\n",
    "- Then associate each perturbation to its top latent factors"
   ]
  },
  {
   "cell_type": "code",
   "execution_count": null,
   "id": "35eb8169-15b1-4b5b-b926-d5b7238f372a",
   "metadata": {},
   "outputs": [],
   "source": [
    "factor_to_go = factor_enrichment_gsea(adata, W.T, fdr=5e-2)"
   ]
  },
  {
   "cell_type": "code",
   "execution_count": null,
   "id": "814189ce-53f3-4716-834a-a4f0ea6efcf9",
   "metadata": {},
   "outputs": [],
   "source": [
    "# filter and add description to processes\n",
    "go_df = read_aws_csv(\"s3://pert-spectra/references/GO_to_Description.txt\")\n",
    "go_df.set_index(\"Term\", inplace=True)\n",
    "go_dict = go_df.to_dict()[\"Description\"]\n",
    "\n",
    "filtered_factor_to_go = {}\n",
    "for i in factor_to_go:\n",
    "    proc = factor_to_go[i]\n",
    "    proc[\"descr\"] = [go_dict[x] for x in proc[\"GO_ID\"]]\n",
    "    filtered_factor_to_go[i] = proc"
   ]
  },
  {
   "cell_type": "code",
   "execution_count": 98,
   "id": "a9e4b2f0-41d1-434d-b67e-94c6bef8ddd4",
   "metadata": {},
   "outputs": [],
   "source": [
    "with open(\n",
    "    \"figures/factor_enrichments/GSFA_inhouse_factor_enrichment.pickle\", \"wb\"\n",
    ") as handle:\n",
    "    pickle.dump(filtered_factor_to_go, handle, protocol=pickle.HIGHEST_PROTOCOL)"
   ]
  },
  {
   "cell_type": "markdown",
   "id": "c48ac5d8-e953-4b82-b6ca-9e59bc8e49bf",
   "metadata": {},
   "source": [
    "## Overlap with prior knowledge/ground truth (stringdb)\n",
    "- Group A: a set of GO terms associated with a perturbation (either drivers from msigdb, or from literature) and its neighbors in stringdb\n",
    "- Group B: a set of GO terms from the interpretability analysis\n",
    "- Hypergeometric test on the overlap of the two groups"
   ]
  },
  {
   "cell_type": "code",
   "execution_count": 14,
   "id": "6867de68-b31b-452d-8f3f-167e5af8d2c9",
   "metadata": {},
   "outputs": [],
   "source": [
    "# load precomputed factor_to_go dict if available\n",
    "filtered_factor_to_go = read_aws_pickle(\n",
    "    \"s3://pert-spectra/figures/factor_enrichments/GSFA_inhouse_factor_enrichment.pickle\"\n",
    ")"
   ]
  },
  {
   "cell_type": "code",
   "execution_count": 17,
   "id": "bf3b1040-d325-4154-9f9e-92d4ec8d9ab7",
   "metadata": {},
   "outputs": [],
   "source": [
    "# get neighbors for each perturbation\n",
    "pert_neighbors = retrieve_stringdb_neighbors(pert_labels)"
   ]
  },
  {
   "cell_type": "code",
   "execution_count": 18,
   "id": "781275db-dc25-4733-84e6-010ebbc17cdd",
   "metadata": {},
   "outputs": [],
   "source": [
    "# construct group A - known processes for each perturbation\n",
    "gene_sets = read_aws_pickle(\"s3://pert-spectra/references/GO_to_Gene.pickle\")\n",
    "# subset to biological processes\n",
    "go_reference = read_aws_csv(\"s3://pert-spectra/references/GO_terms.txt.gz\", zipped=True)\n",
    "go_bp = go_reference[go_reference[\"go_category\"] == \"biological_process\"]\n",
    "go_bp_ids = set(go_bp[\"go_id\"].values)\n",
    "filtered_go_terms = {key: gene_sets[key] for key in go_bp_ids if key in gene_sets}\n",
    "\n",
    "# GO terms per perturbation AND its neighbors in stringdb\n",
    "pert_to_go = {key: set() for key in df.index}\n",
    "for goterm in filtered_go_terms:\n",
    "    for pert in df.index:\n",
    "        if pert in filtered_go_terms[goterm] and set(\n",
    "            filtered_go_terms[goterm]\n",
    "        ).intersection(pert_neighbors[pert]):\n",
    "            pert_to_go[pert].add(goterm)"
   ]
  },
  {
   "cell_type": "code",
   "execution_count": 19,
   "id": "acdb19ec-92d3-4d85-9a0b-23c3711b879b",
   "metadata": {},
   "outputs": [
    {
     "name": "stderr",
     "output_type": "stream",
     "text": [
      "/tmp/ipykernel_32012/994851414.py:11: RuntimeWarning: divide by zero encountered in log\n",
      "  delta_loading = np.abs(np.log(np.abs(pert_loading))-np.log(np.abs(ctrl_loading)))\n"
     ]
    }
   ],
   "source": [
    "# construct set B - model identified processes for each perturbation\n",
    "n = 2  # number of top factors to get processes from\n",
    "model_pert_to_go = {}\n",
    "for pert in pert_emb_df.index:\n",
    "    if pert in [\"ctrl\", \"intergenic\", \"basal\"]:\n",
    "        continue\n",
    "    # get top factors\n",
    "    pert_emb_df = pd.DataFrame(beta[:-1], index=pert_labels)\n",
    "    pert_loading = pert_emb_df.loc[pert].to_numpy()[1:].astype(float)\n",
    "    ctrl_loading = pert_emb_df.loc[\"intergenic\"].to_numpy()[1:].astype(float)\n",
    "    delta_loading = np.abs(np.log(np.abs(pert_loading)) - np.log(np.abs(ctrl_loading)))\n",
    "    top_n_factors = np.argpartition(np.array(delta_loading), -n)[-n:]\n",
    "    # get processes\n",
    "    model_processes = set()\n",
    "    for f in top_n_factors:\n",
    "        proc = filtered_factor_to_go[f]\n",
    "        model_processes = model_processes.union(set(proc[\"Term\"]))\n",
    "    model_pert_to_go[pert] = model_processes"
   ]
  },
  {
   "cell_type": "code",
   "execution_count": 20,
   "id": "26781b0d-61c6-45ca-9b42-ee77c73ceed2",
   "metadata": {
    "scrolled": true
   },
   "outputs": [
    {
     "name": "stdout",
     "output_type": "stream",
     "text": [
      "Overlap for RIPK1: 9 out of 38 in researchDB\n",
      "P-value for RIPK1: 1.1308619075120921e-07\n",
      "Overlap for MAP3K7: 0 out of 23 in researchDB\n",
      "P-value for MAP3K7: 1.0\n",
      "Overlap for IKBKB: 7 out of 24 in researchDB\n",
      "P-value for IKBKB: 3.830013304044622e-07\n",
      "Overlap for SKP1: 0 out of 7 in researchDB\n",
      "P-value for SKP1: 1.0\n",
      "Overlap for BIRC3: 3 out of 20 in researchDB\n",
      "P-value for BIRC3: 0.007686716976516679\n",
      "Overlap for TAB2: 0 out of 5 in researchDB\n",
      "P-value for TAB2: 1.0\n",
      "Overlap for NFKBIA: 6 out of 28 in researchDB\n",
      "P-value for NFKBIA: 1.8192895607157648e-05\n",
      "Overlap for SKP2: 1 out of 6 in researchDB\n",
      "P-value for SKP2: 0.11702982854059442\n",
      "Overlap for TRAF6: 4 out of 46 in researchDB\n",
      "P-value for TRAF6: 0.018440536255468803\n",
      "Overlap for FBXW11: 5 out of 13 in researchDB\n",
      "P-value for FBXW11: 3.4478778936666224e-06\n",
      "Overlap for TRAF5: 4 out of 14 in researchDB\n",
      "P-value for TRAF5: 0.00020482544648502187\n",
      "Overlap for CHUK: 7 out of 21 in researchDB\n",
      "P-value for CHUK: 1.84359744108617e-07\n",
      "Overlap for RBCK1: 0 out of 11 in researchDB\n",
      "P-value for RBCK1: 1.0\n",
      "Overlap for TAB1: 0 out of 9 in researchDB\n",
      "P-value for TAB1: 1.0\n",
      "Overlap for IKBKG: 5 out of 17 in researchDB\n",
      "P-value for IKBKG: 2.6711340009329823e-05\n",
      "Overlap for CUL1: 2 out of 7 in researchDB\n",
      "P-value for CUL1: 0.008357243957233893\n",
      "Overlap for TNFRSF1A: 7 out of 21 in researchDB\n",
      "P-value for TNFRSF1A: 2.298789369209975e-07\n",
      "Overlap for TRAF2: 1 out of 29 in researchDB\n",
      "P-value for TRAF2: 0.2850611728304155\n",
      "Overlap for TRADD: 6 out of 13 in researchDB\n",
      "P-value for TRADD: 1.0736863763836888e-07\n",
      "Overlap for BIRC2: 4 out of 30 in researchDB\n",
      "P-value for BIRC2: 0.0024805517666413985\n",
      "Overlap for UBE2N: 0 out of 16 in researchDB\n",
      "P-value for UBE2N: 1.0\n"
     ]
    }
   ],
   "source": [
    "pvals = perturbation_signal_recovery(\n",
    "    pert_to_go,\n",
    "    model_pert_to_go,\n",
    "    list(filtered_go_terms.keys()),\n",
    "    list(pert_emb_df.index),\n",
    ")"
   ]
  },
  {
   "cell_type": "code",
   "execution_count": 262,
   "id": "c3e93509-ea30-44d2-b978-5627a449c255",
   "metadata": {},
   "outputs": [],
   "source": [
    "# save as csv for visualization\n",
    "pd.DataFrame.from_dict(data=pvals, orient=\"index\").to_csv(\n",
    "    \"figures/process_recovery_hypergeo_pvals/GSFA_inhouse_hypergeo_neighbors_recovery_pvalues.csv\",\n",
    "    header=False,\n",
    ")"
   ]
  },
  {
   "cell_type": "code",
   "execution_count": null,
   "id": "0c7cbc9b-d955-4778-82ea-9e31b1934f59",
   "metadata": {},
   "outputs": [],
   "source": []
  }
 ],
 "metadata": {
  "kernelspec": {
   "display_name": "pertspectra",
   "language": "python",
   "name": "pertspectra"
  },
  "language_info": {
   "codemirror_mode": {
    "name": "ipython",
    "version": 3
   },
   "file_extension": ".py",
   "mimetype": "text/x-python",
   "name": "python",
   "nbconvert_exporter": "python",
   "pygments_lexer": "ipython3",
   "version": "3.11.0"
  }
 },
 "nbformat": 4,
 "nbformat_minor": 5
}
