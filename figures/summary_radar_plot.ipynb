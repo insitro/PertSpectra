{
 "cells": [
  {
   "cell_type": "code",
   "execution_count": null,
   "id": "d93d54a2",
   "metadata": {},
   "outputs": [],
   "source": [
    "from os import listdir\n",
    "\n",
    "import numpy as np\n",
    "import pandas as pd\n",
    "import plotly.express as px"
   ]
  },
  {
   "cell_type": "code",
   "execution_count": 2,
   "id": "d9d985c5",
   "metadata": {},
   "outputs": [
    {
     "name": "stdout",
     "output_type": "stream",
     "text": [
      "download: s3://pert-spectra/figures/pert_embedding_cluster_gprofiler/pertspectra_inhouse_pert_emb_gprofiler.pickle to pert_embedding_cluster_gprofiler/pertspectra_inhouse_pert_emb_gprofiler.pickle\n",
      "download: s3://pert-spectra/figures/pert_embedding_cluster_gprofiler/pertspectra_norman_pert_emb_gprofiler.pickle to pert_embedding_cluster_gprofiler/pertspectra_norman_pert_emb_gprofiler.pickle\n",
      "download: s3://pert-spectra/figures/factor_enrichments/GSFA_norman_factor_enrichment.pickle to factor_enrichments/GSFA_norman_factor_enrichment.pickle\n",
      "download: s3://pert-spectra/figures/pert_embedding_cluster_gprofiler/GSFA_norman_pert_emb_gprofiler.pickle to pert_embedding_cluster_gprofiler/GSFA_norman_pert_emb_gprofiler.pickle\n",
      "download: s3://pert-spectra/figures/factor_enrichments/GSFA_inhouse_factor_enrichment.pickle to factor_enrichments/GSFA_inhouse_factor_enrichment.pickle\n",
      "download: s3://pert-spectra/figures/pert_embedding_cluster_gprofiler/GSFA_inhouse_pert_emb_gprofiler.pickle to pert_embedding_cluster_gprofiler/GSFA_inhouse_pert_emb_gprofiler.pickle\n",
      "download: s3://pert-spectra/figures/pert_embedding_recall/GSFA_inhouse_aucpr.csv to pert_embedding_recall/GSFA_inhouse_aucpr.csv\n",
      "download: s3://pert-spectra/figures/pert_embedding_recall/GSFA_inhouse_f1.csv to pert_embedding_recall/GSFA_inhouse_f1.csv\n",
      "download: s3://pert-spectra/figures/pert_embedding_recall/GSFA_norman_f1.csv to pert_embedding_recall/GSFA_norman_f1.csv\n",
      "download: s3://pert-spectra/figures/pert_embedding_cluster_gprofiler/scETM_inhouse_pert_emb_gprofiler.pickle to pert_embedding_cluster_gprofiler/scETM_inhouse_pert_emb_gprofiler.pickle\n",
      "download: s3://pert-spectra/figures/pert_embedding_recall/GSFA_norman_aucpr.csv to pert_embedding_recall/GSFA_norman_aucpr.csv\n",
      "download: s3://pert-spectra/figures/pert_embedding_recall/pertspectra_inhouse_aucpr.csv to pert_embedding_recall/pertspectra_inhouse_aucpr.csv\n",
      "download: s3://pert-spectra/figures/pert_embedding_recall/pertspectra_inhouse_f1.csv to pert_embedding_recall/pertspectra_inhouse_f1.csv\n",
      "download: s3://pert-spectra/figures/pert_embedding_recall/pertspectra_norman_f1.csv to pert_embedding_recall/pertspectra_norman_f1.csv\n",
      "download: s3://pert-spectra/figures/pert_embedding_recall/pertspectra_replogle_aucpr.csv to pert_embedding_recall/pertspectra_replogle_aucpr.csv\n",
      "download: s3://pert-spectra/figures/pert_embedding_recall/pertspectra_replogle_f1.csv to pert_embedding_recall/pertspectra_replogle_f1.csv\n",
      "download: s3://pert-spectra/figures/pert_embedding_cluster_gprofiler/pertspectra_replogle_pert_emb_gprofiler.pickle to pert_embedding_cluster_gprofiler/pertspectra_replogle_pert_emb_gprofiler.pickle\n",
      "download: s3://pert-spectra/figures/pert_embedding_recall/pertspectra_norman_aucpr.csv to pert_embedding_recall/pertspectra_norman_aucpr.csv\n",
      "download: s3://pert-spectra/figures/pert_embedding_recall/scETM_inhouse_aucpr.csv to pert_embedding_recall/scETM_inhouse_aucpr.csv\n",
      "download: s3://pert-spectra/figures/pert_embedding_recall/scETM_inhouse_f1.csv to pert_embedding_recall/scETM_inhouse_f1.csv\n",
      "download: s3://pert-spectra/figures/pert_embedding_recall/scETM_norman_f1.csv to pert_embedding_recall/scETM_norman_f1.csv\n",
      "download: s3://pert-spectra/figures/pert_embedding_recall/scETM_norman_aucpr.csv to pert_embedding_recall/scETM_norman_aucpr.csv\n",
      "download: s3://pert-spectra/figures/pert_embedding_recall/scETM_replogle_aucpr.csv to pert_embedding_recall/scETM_replogle_aucpr.csv\n",
      "download: s3://pert-spectra/figures/pert_embedding_recall/scETM_replogle_f1.csv to pert_embedding_recall/scETM_replogle_f1.csv\n",
      "download: s3://pert-spectra/figures/pert_embedding_cluster_gprofiler/scETM_norman_pert_emb_gprofiler.pickle to pert_embedding_cluster_gprofiler/scETM_norman_pert_emb_gprofiler.pickle\n",
      "download: s3://pert-spectra/figures/process_recovery_hypergeo_pvals/GSFA_norman_hypergeo_neighbors_recovery_pvalues.csv to process_recovery_hypergeo_pvals/GSFA_norman_hypergeo_neighbors_recovery_pvalues.csv\n",
      "download: s3://pert-spectra/figures/process_recovery_hypergeo_pvals/pertspectra_inhouse_hypergeo_neighbors_recovery_pvalues.csv to process_recovery_hypergeo_pvals/pertspectra_inhouse_hypergeo_neighbors_recovery_pvalues.csv\n",
      "download: s3://pert-spectra/figures/process_recovery_hypergeo_pvals/pertspectra_norman_hypergeo_neighbors_recovery_pvalues.csv to process_recovery_hypergeo_pvals/pertspectra_norman_hypergeo_neighbors_recovery_pvalues.csv\n",
      "download: s3://pert-spectra/figures/process_recovery_hypergeo_pvals/GSFA_inhouse_hypergeo_neighbors_recovery_pvalues.csv to process_recovery_hypergeo_pvals/GSFA_inhouse_hypergeo_neighbors_recovery_pvalues.csv\n",
      "download: s3://pert-spectra/figures/process_recovery_hypergeo_pvals/pertspectra_replogle_hypergeo_neighbors_recovery_pvalues.csv to process_recovery_hypergeo_pvals/pertspectra_replogle_hypergeo_neighbors_recovery_pvalues.csv\n",
      "download: s3://pert-spectra/figures/pert_embedding_cluster_gprofiler/scETM_replogle_pert_emb_gprofiler.pickle to pert_embedding_cluster_gprofiler/scETM_replogle_pert_emb_gprofiler.pickle\n",
      "download: s3://pert-spectra/figures/reconstruction_spearmans/GSFA_inhouse_spearman_correlations.csv to reconstruction_spearmans/GSFA_inhouse_spearman_correlations.csv\n",
      "download: s3://pert-spectra/figures/reconstruction_spearmans/scETM_inhouse_spearman_correlations.csv to reconstruction_spearmans/scETM_inhouse_spearman_correlations.csv\n",
      "download: s3://pert-spectra/figures/factor_enrichments/pertspectra_inhouse_factor_enrichment.pickle to factor_enrichments/pertspectra_inhouse_factor_enrichment.pickle\n",
      "download: s3://pert-spectra/figures/reconstruction_spearmans/pertspectra_inhouse_spearman_correlations.csv to reconstruction_spearmans/pertspectra_inhouse_spearman_correlations.csv\n",
      "download: s3://pert-spectra/figures/reconstruction_spearmans/GSFA_norman_spearman_correlations.csv to reconstruction_spearmans/GSFA_norman_spearman_correlations.csv\n",
      "download: s3://pert-spectra/figures/runtime/.ipynb_checkpoints/time_complexity_cells-checkpoint.txt to runtime/.ipynb_checkpoints/time_complexity_cells-checkpoint.txt\n",
      "download: s3://pert-spectra/figures/reconstruction_spearmans/scETM_norman_spearman_correlations.csv to reconstruction_spearmans/scETM_norman_spearman_correlations.csv\n",
      "download: s3://pert-spectra/figures/reconstruction_spearmans/pertspectra_replogle_spearman_correlations.csv to reconstruction_spearmans/pertspectra_replogle_spearman_correlations.csv\n",
      "download: s3://pert-spectra/figures/runtime/.ipynb_checkpoints/time_complexity_perts-checkpoint.txt to runtime/.ipynb_checkpoints/time_complexity_perts-checkpoint.txt\n",
      "download: s3://pert-spectra/figures/factor_enrichments/pertspectra_norman_factor_enrichment.pickle to factor_enrichments/pertspectra_norman_factor_enrichment.pickle\n",
      "download: s3://pert-spectra/figures/factor_enrichments/pertspectra_replogle_factor_enrichment.pickle to factor_enrichments/pertspectra_replogle_factor_enrichment.pickle\n",
      "download: s3://pert-spectra/figures/reconstruction_spearmans/scETM_replogle_spearman_correlations.csv to reconstruction_spearmans/scETM_replogle_spearman_correlations.csv\n",
      "download: s3://pert-spectra/figures/runtime/time_complexity_cells.txt to runtime/time_complexity_cells.txt\n",
      "download: s3://pert-spectra/figures/reconstruction_spearmans/pertspectra_norman_spearman_correlations.csv to reconstruction_spearmans/pertspectra_norman_spearman_correlations.csv\n"
     ]
    }
   ],
   "source": [
    "!aws s3 cp --recursive s3://pert-spectra/figures/ . "
   ]
  },
  {
   "cell_type": "code",
   "execution_count": 12,
   "id": "88d496c9",
   "metadata": {},
   "outputs": [],
   "source": [
    "reconstruction_spearman_files = listdir(\"reconstruction_spearmans/\")\n",
    "reconstruction_spearman_dict = {}\n",
    "for fname in reconstruction_spearman_files:\n",
    "    method = fname.split(\"_\")[0]\n",
    "    if method not in reconstruction_spearman_dict:\n",
    "        reconstruction_spearman_dict[method] = {}\n",
    "    dataset = fname.split(\"_\")[1]\n",
    "    perf = np.mean(\n",
    "        [\n",
    "            float(i)\n",
    "            for i in open(f\"reconstruction_spearmans/{fname}\", \"r\")\n",
    "            .read()\n",
    "            .strip()\n",
    "            .split(\"\\n\")\n",
    "        ]\n",
    "    )\n",
    "    reconstruction_spearman_dict[method][dataset] = perf\n",
    "spearman_df = pd.DataFrame.from_dict(reconstruction_spearman_dict).transpose()\n",
    "spearman_df.reset_index(inplace=True)\n",
    "spearman_df.rename(columns={\"index\": \"model\"}, inplace=True)\n",
    "spearman_df = spearman_df.melt(\"model\", var_name=\"Dataset\", value_name=\"Spearman\")\n",
    "spearman_df.loc[spearman_df[\"model\"] == \"pertspectra\", \"model\"] = \"PertSpectra\""
   ]
  },
  {
   "cell_type": "code",
   "execution_count": 13,
   "id": "59db6493",
   "metadata": {},
   "outputs": [],
   "source": [
    "runtimes = pd.read_csv(\"runtime/time_complexity_cells.txt\", header=0, sep=\",\")\n",
    "runtimes = runtimes.loc[runtimes[\"cells\"] == 10000]\n",
    "runtimes[\"time\"] = -1 * np.log10(runtimes[\"time\"])\n",
    "runtimes[\"Dataset\"] = \"norman\"\n",
    "runtimes2 = runtimes.copy()\n",
    "runtimes2[\"Dataset\"] = \"replogle\"\n",
    "runtimes3 = runtimes.copy()\n",
    "runtimes3[\"Dataset\"] = \"inhouse\"\n",
    "runtimes = pd.concat([runtimes, runtimes2, runtimes3])\n",
    "runtimes.drop(columns=[\"cells\", \"perturbations\"], inplace=True)"
   ]
  },
  {
   "cell_type": "code",
   "execution_count": 14,
   "id": "2e29c05a",
   "metadata": {},
   "outputs": [
    {
     "data": {
      "text/html": [
       "<div>\n",
       "<style scoped>\n",
       "    .dataframe tbody tr th:only-of-type {\n",
       "        vertical-align: middle;\n",
       "    }\n",
       "\n",
       "    .dataframe tbody tr th {\n",
       "        vertical-align: top;\n",
       "    }\n",
       "\n",
       "    .dataframe thead th {\n",
       "        text-align: right;\n",
       "    }\n",
       "</style>\n",
       "<table border=\"1\" class=\"dataframe\">\n",
       "  <thead>\n",
       "    <tr style=\"text-align: right;\">\n",
       "      <th></th>\n",
       "      <th>model</th>\n",
       "      <th>time</th>\n",
       "      <th>Dataset</th>\n",
       "    </tr>\n",
       "  </thead>\n",
       "  <tbody>\n",
       "    <tr>\n",
       "      <th>3</th>\n",
       "      <td>GSFA</td>\n",
       "      <td>-4.137166</td>\n",
       "      <td>norman</td>\n",
       "    </tr>\n",
       "    <tr>\n",
       "      <th>7</th>\n",
       "      <td>scETM</td>\n",
       "      <td>-2.995324</td>\n",
       "      <td>norman</td>\n",
       "    </tr>\n",
       "    <tr>\n",
       "      <th>11</th>\n",
       "      <td>PertSpectra</td>\n",
       "      <td>-2.718502</td>\n",
       "      <td>norman</td>\n",
       "    </tr>\n",
       "    <tr>\n",
       "      <th>3</th>\n",
       "      <td>GSFA</td>\n",
       "      <td>-4.137166</td>\n",
       "      <td>replogle</td>\n",
       "    </tr>\n",
       "    <tr>\n",
       "      <th>7</th>\n",
       "      <td>scETM</td>\n",
       "      <td>-2.995324</td>\n",
       "      <td>replogle</td>\n",
       "    </tr>\n",
       "    <tr>\n",
       "      <th>11</th>\n",
       "      <td>PertSpectra</td>\n",
       "      <td>-2.718502</td>\n",
       "      <td>replogle</td>\n",
       "    </tr>\n",
       "    <tr>\n",
       "      <th>3</th>\n",
       "      <td>GSFA</td>\n",
       "      <td>-4.137166</td>\n",
       "      <td>inhouse</td>\n",
       "    </tr>\n",
       "    <tr>\n",
       "      <th>7</th>\n",
       "      <td>scETM</td>\n",
       "      <td>-2.995324</td>\n",
       "      <td>inhouse</td>\n",
       "    </tr>\n",
       "    <tr>\n",
       "      <th>11</th>\n",
       "      <td>PertSpectra</td>\n",
       "      <td>-2.718502</td>\n",
       "      <td>inhouse</td>\n",
       "    </tr>\n",
       "  </tbody>\n",
       "</table>\n",
       "</div>"
      ],
      "text/plain": [
       "          model      time   Dataset\n",
       "3          GSFA -4.137166    norman\n",
       "7         scETM -2.995324    norman\n",
       "11  PertSpectra -2.718502    norman\n",
       "3          GSFA -4.137166  replogle\n",
       "7         scETM -2.995324  replogle\n",
       "11  PertSpectra -2.718502  replogle\n",
       "3          GSFA -4.137166   inhouse\n",
       "7         scETM -2.995324   inhouse\n",
       "11  PertSpectra -2.718502   inhouse"
      ]
     },
     "execution_count": 14,
     "metadata": {},
     "output_type": "execute_result"
    }
   ],
   "source": [
    "runtimes"
   ]
  },
  {
   "cell_type": "code",
   "execution_count": 15,
   "id": "3deb102a",
   "metadata": {},
   "outputs": [
    {
     "name": "stdout",
     "output_type": "stream",
     "text": [
      "         0         1\n",
      "0  ATP6AP1  1.000000\n",
      "1    RPL30  1.000000\n",
      "2    DDX21  0.000379\n",
      "3      PHB  0.025197\n",
      "4    DMAP1  0.100606\n",
      "         0             1\n",
      "0      AHR  2.638282e-11\n",
      "1   ARID1A  1.923624e-01\n",
      "2     BAK1  1.453943e-04\n",
      "3  BCL2L11  6.373444e-05\n",
      "4      CBL  2.470848e-04\n",
      "         0             1\n",
      "0      AHR  7.461950e-07\n",
      "1   ARID1A  6.365297e-06\n",
      "2     BAK1  8.785246e-04\n",
      "3  BCL2L11  1.197726e-02\n",
      "4      CBL  2.916654e-04\n",
      "        0         1\n",
      "0   RIPK1  0.000001\n",
      "1  MAP3K7  1.000000\n",
      "2   IKBKB  0.000002\n",
      "3    SKP1  1.000000\n",
      "4   BIRC3  0.014625\n",
      "        0             1\n",
      "0    SKP2  5.679505e-05\n",
      "1  NFKBIA  1.931082e-08\n",
      "2   TRAF2  1.415568e-15\n",
      "3   BIRC2  1.293259e-16\n",
      "4    TAB1  7.861270e-06\n"
     ]
    }
   ],
   "source": [
    "reconstruction_hypergeo_files = listdir(\"process_recovery_hypergeo_pvals/\")\n",
    "reconstruction_hypergeo_dict = {}\n",
    "for fname in reconstruction_hypergeo_files:\n",
    "    method = fname.split(\"_\")[0]\n",
    "    if method not in reconstruction_hypergeo_dict:\n",
    "        reconstruction_hypergeo_dict[method] = {}\n",
    "    dataset = fname.split(\"_\")[1]\n",
    "    perf = pd.read_csv(f\"process_recovery_hypergeo_pvals/{fname}\", header=None, sep=\",\")\n",
    "    print(perf.head())\n",
    "    perf[1] = -1 * np.log10(perf[1])\n",
    "    perf = np.mean(perf[1])\n",
    "    reconstruction_hypergeo_dict[method][dataset] = perf\n",
    "hypergeo_df = pd.DataFrame.from_dict(reconstruction_hypergeo_dict).transpose()\n",
    "hypergeo_df.reset_index(inplace=True)\n",
    "hypergeo_df.rename(columns={\"index\": \"model\"}, inplace=True)\n",
    "hypergeo_df = hypergeo_df.melt(\"model\", var_name=\"Dataset\", value_name=\"hypergeo\")\n",
    "hypergeo_df.loc[hypergeo_df[\"model\"] == \"pertspectra\", \"model\"] = \"PertSpectra\""
   ]
  },
  {
   "cell_type": "code",
   "execution_count": 17,
   "id": "49c8b694",
   "metadata": {},
   "outputs": [
    {
     "name": "stdout",
     "output_type": "stream",
     "text": [
      "0.2785192646688491\n",
      "0.8294573643410853\n",
      "0.8203125\n",
      "0.6979655712050078\n",
      "0.2461233916199274\n",
      "0.8203125\n",
      "0.6796407185628742\n",
      "0.6895475819032763\n"
     ]
    }
   ],
   "source": [
    "reconstruction_f1_files = listdir(\"pert_embedding_recall_f1\")\n",
    "reconstruction_f1_dict = {}\n",
    "for fname in reconstruction_f1_files:\n",
    "    method = fname.split(\"_\")[0]\n",
    "    if method not in reconstruction_f1_dict:\n",
    "        reconstruction_f1_dict[method] = {}\n",
    "    dataset = fname.split(\"_\")[1]\n",
    "    perf = pd.read_csv(\n",
    "        f\"pert_embedding_recall_f1/{fname}\", header=0, index_col=0, sep=\",\"\n",
    "    )\n",
    "    perf = perf.loc[\"StringDB\", \"F1\"]\n",
    "    print(perf)\n",
    "    reconstruction_f1_dict[method][dataset] = perf\n",
    "f1_df = pd.DataFrame.from_dict(reconstruction_f1_dict).transpose()\n",
    "f1_df.reset_index(inplace=True)\n",
    "f1_df.rename(columns={\"index\": \"model\"}, inplace=True)\n",
    "f1_df = f1_df.melt(\"model\", var_name=\"Dataset\", value_name=\"F1\")\n",
    "f1_df.loc[f1_df[\"model\"] == \"pertspectra\", \"model\"] = \"PertSpectra\""
   ]
  },
  {
   "cell_type": "code",
   "execution_count": 18,
   "id": "2b55a0b4",
   "metadata": {},
   "outputs": [
    {
     "name": "stdout",
     "output_type": "stream",
     "text": [
      "0.7530475544691059\n",
      "0.685748863225066\n",
      "0.215161882377014\n",
      "0.2525738309904994\n",
      "0.7260584258594132\n",
      "0.7327761570507714\n",
      "0.675809046108318\n",
      "0.5736430637940849\n"
     ]
    }
   ],
   "source": [
    "reconstruction_aucpr_files = listdir(\"pert_embedding_recall_aucpr\")\n",
    "reconstruction_aucpr_dict = {}\n",
    "for fname in reconstruction_aucpr_files:\n",
    "    method = fname.split(\"_\")[0]\n",
    "    if method not in reconstruction_aucpr_dict:\n",
    "        reconstruction_aucpr_dict[method] = {}\n",
    "    dataset = fname.split(\"_\")[1]\n",
    "    perf = pd.read_csv(\n",
    "        f\"pert_embedding_recall_aucpr/{fname}\", header=0, index_col=0, sep=\",\"\n",
    "    )\n",
    "    perf = perf.loc[\"StringDB\", \"AUC\"]\n",
    "    print(perf)\n",
    "    reconstruction_aucpr_dict[method][dataset] = perf\n",
    "aucpr_df = pd.DataFrame.from_dict(reconstruction_aucpr_dict).transpose()\n",
    "aucpr_df.reset_index(inplace=True)\n",
    "aucpr_df.rename(columns={\"index\": \"model\"}, inplace=True)\n",
    "aucpr_df = aucpr_df.melt(\"model\", var_name=\"Dataset\", value_name=\"auPRC\")\n",
    "aucpr_df.loc[aucpr_df[\"model\"] == \"pertspectra\", \"model\"] = \"PertSpectra\""
   ]
  },
  {
   "cell_type": "code",
   "execution_count": 35,
   "id": "59c55378",
   "metadata": {},
   "outputs": [],
   "source": [
    "# combine the metrics into 1 df\n",
    "all_perf = (\n",
    "    spearman_df.merge(runtimes, on=[\"model\", \"Dataset\"], how=\"outer\")\n",
    "    .merge(hypergeo_df, on=[\"model\", \"Dataset\"], how=\"outer\")\n",
    "    .merge(f1_df, on=[\"model\", \"Dataset\"], how=\"outer\")\n",
    "    .merge(aucpr_df, on=[\"model\", \"Dataset\"], how=\"outer\")\n",
    ")\n",
    "all_perf.rename(\n",
    "    columns={\n",
    "        \"model\": \"Model\",\n",
    "        \"Spearman\": \"Spearman R\",\n",
    "        \"time\": \"Runtime -log10(sec)<br>21 perts,10K cells\",\n",
    "        \"hypergeo\": \"Recovery Known Biological Functions<br>Hypergeometric Test -log10(FDR)\",\n",
    "        \"F1\": \"Recall:F1\",\n",
    "        \"auPRC\": \"Recall:auPRC\",\n",
    "    },\n",
    "    inplace=True,\n",
    ")\n",
    "all_perf.loc[all_perf[\"Dataset\"] == \"norman\", \"Dataset\"] = \"Norman\"\n",
    "all_perf.loc[all_perf[\"Dataset\"] == \"inhouse\", \"Dataset\"] = \"Inhouse\"\n",
    "all_perf.loc[all_perf[\"Dataset\"] == \"replogle\", \"Dataset\"] = \"Replogle\"\n",
    "\n",
    "for column in all_perf.columns[2::]:\n",
    "    all_perf[column] = (all_perf[column] - all_perf[column].min()) / (\n",
    "        all_perf[column].max() - all_perf[column].min()\n",
    "    )"
   ]
  },
  {
   "cell_type": "code",
   "execution_count": 36,
   "id": "a705ce3a",
   "metadata": {},
   "outputs": [],
   "source": [
    "all_perf.fillna(0, inplace=True)"
   ]
  },
  {
   "cell_type": "code",
   "execution_count": 37,
   "id": "9a8f2cf6",
   "metadata": {},
   "outputs": [],
   "source": [
    "all_perf_melted = all_perf.melt(id_vars=[\"Model\", \"Dataset\"], var_name=\"Metric\")"
   ]
  },
  {
   "cell_type": "code",
   "execution_count": 38,
   "id": "d964f716",
   "metadata": {},
   "outputs": [
    {
     "data": {
      "application/vnd.plotly.v1+json": {
       "config": {
        "plotlyServerURL": "https://plot.ly"
       },
       "data": [
        {
         "hovertemplate": "Model=GSFA<br>Dataset=Inhouse<br>value=%{r}<br>Metric=%{theta}<extra></extra>",
         "legendgroup": "GSFA, Inhouse",
         "line": {
          "color": "#ff0000",
          "dash": "solid"
         },
         "marker": {
          "symbol": "circle"
         },
         "mode": "lines",
         "name": "GSFA, Inhouse",
         "r": [
          0.011130752463737357,
          0,
          0.0990448741980258,
          0.7601549215706523,
          0.8748829077705612,
          0.011130752463737357
         ],
         "showlegend": true,
         "subplot": "polar",
         "theta": [
          "Spearman R",
          "Runtime -log10(sec)<br>21 perts,10K cells",
          "Recovery Known Biological Functions<br>Hypergeometric Test -log10(FDR)",
          "Recall:F1",
          "Recall:auPRC",
          "Spearman R"
         ],
         "type": "scatterpolar"
        },
        {
         "hovertemplate": "Model=GSFA<br>Dataset=Norman<br>value=%{r}<br>Metric=%{theta}<extra></extra>",
         "legendgroup": "GSFA, Norman",
         "line": {
          "color": "#ff0000",
          "dash": "dot"
         },
         "marker": {
          "symbol": "circle"
         },
         "mode": "lines",
         "name": "GSFA, Norman",
         "r": [
          0,
          0,
          0.24331602055827575,
          0.9843231068843358,
          0.9623128139117564,
          0
         ],
         "showlegend": true,
         "subplot": "polar",
         "theta": [
          "Spearman R",
          "Runtime -log10(sec)<br>21 perts,10K cells",
          "Recovery Known Biological Functions<br>Hypergeometric Test -log10(FDR)",
          "Recall:F1",
          "Recall:auPRC",
          "Spearman R"
         ],
         "type": "scatterpolar"
        },
        {
         "hovertemplate": "Model=GSFA<br>Dataset=Replogle<br>value=%{r}<br>Metric=%{theta}<extra></extra>",
         "legendgroup": "GSFA, Replogle",
         "line": {
          "color": "#ff0000",
          "dash": "dash"
         },
         "marker": {
          "symbol": "circle"
         },
         "mode": "lines",
         "name": "GSFA, Replogle",
         "r": [
          0,
          0,
          0,
          0,
          0,
          0
         ],
         "showlegend": true,
         "subplot": "polar",
         "theta": [
          "Spearman R",
          "Runtime -log10(sec)<br>21 perts,10K cells",
          "Recovery Known Biological Functions<br>Hypergeometric Test -log10(FDR)",
          "Recall:F1",
          "Recall:auPRC",
          "Spearman R"
         ],
         "type": "scatterpolar"
        },
        {
         "hovertemplate": "Model=PertSpectra<br>Dataset=Inhouse<br>value=%{r}<br>Metric=%{theta}<extra></extra>",
         "legendgroup": "PertSpectra, Inhouse",
         "line": {
          "color": "#00ff00",
          "dash": "solid"
         },
         "marker": {
          "symbol": "circle"
         },
         "mode": "lines",
         "name": "PertSpectra, Inhouse",
         "r": [
          1,
          1,
          1,
          0.7745857445560906,
          0.856403484293659,
          1
         ],
         "showlegend": true,
         "subplot": "polar",
         "theta": [
          "Spearman R",
          "Runtime -log10(sec)<br>21 perts,10K cells",
          "Recovery Known Biological Functions<br>Hypergeometric Test -log10(FDR)",
          "Recall:F1",
          "Recall:auPRC",
          "Spearman R"
         ],
         "type": "scatterpolar"
        },
        {
         "hovertemplate": "Model=PertSpectra<br>Dataset=Norman<br>value=%{r}<br>Metric=%{theta}<extra></extra>",
         "legendgroup": "PertSpectra, Norman",
         "line": {
          "color": "#00ff00",
          "dash": "dot"
         },
         "marker": {
          "symbol": "circle"
         },
         "mode": "lines",
         "name": "PertSpectra, Norman",
         "r": [
          0.9934537881913026,
          1,
          0.5005301087955898,
          1,
          1,
          0.9934537881913026
         ],
         "showlegend": true,
         "subplot": "polar",
         "theta": [
          "Spearman R",
          "Runtime -log10(sec)<br>21 perts,10K cells",
          "Recovery Known Biological Functions<br>Hypergeometric Test -log10(FDR)",
          "Recall:F1",
          "Recall:auPRC",
          "Spearman R"
         ],
         "type": "scatterpolar"
        },
        {
         "hovertemplate": "Model=PertSpectra<br>Dataset=Replogle<br>value=%{r}<br>Metric=%{theta}<extra></extra>",
         "legendgroup": "PertSpectra, Replogle",
         "line": {
          "color": "#00ff00",
          "dash": "dash"
         },
         "marker": {
          "symbol": "circle"
         },
         "mode": "lines",
         "name": "PertSpectra, Replogle",
         "r": [
          0.9714246276290128,
          1,
          0,
          0,
          0,
          0.9714246276290128
         ],
         "showlegend": true,
         "subplot": "polar",
         "theta": [
          "Spearman R",
          "Runtime -log10(sec)<br>21 perts,10K cells",
          "Recovery Known Biological Functions<br>Hypergeometric Test -log10(FDR)",
          "Recall:F1",
          "Recall:auPRC",
          "Spearman R"
         ],
         "type": "scatterpolar"
        },
        {
         "hovertemplate": "Model=scETM<br>Dataset=Inhouse<br>value=%{r}<br>Metric=%{theta}<extra></extra>",
         "legendgroup": "scETM, Inhouse",
         "line": {
          "color": "#0000ff",
          "dash": "solid"
         },
         "marker": {
          "symbol": "circle"
         },
         "mode": "lines",
         "name": "scETM, Inhouse",
         "r": [
          0.9929171151899834,
          0.8048713983489332,
          0,
          0.7431717458879673,
          0.666463525646199,
          0.9929171151899834
         ],
         "showlegend": true,
         "subplot": "polar",
         "theta": [
          "Spearman R",
          "Runtime -log10(sec)<br>21 perts,10K cells",
          "Recovery Known Biological Functions<br>Hypergeometric Test -log10(FDR)",
          "Recall:F1",
          "Recall:auPRC",
          "Spearman R"
         ],
         "type": "scatterpolar"
        },
        {
         "hovertemplate": "Model=scETM<br>Dataset=Norman<br>value=%{r}<br>Metric=%{theta}<extra></extra>",
         "legendgroup": "scETM, Norman",
         "line": {
          "color": "#0000ff",
          "dash": "dot"
         },
         "marker": {
          "symbol": "circle"
         },
         "mode": "lines",
         "name": "scETM, Norman",
         "r": [
          0.9925487919516428,
          0.8048713983489332,
          0,
          0.9843231068843358,
          0.9498236706980512,
          0.9925487919516428
         ],
         "showlegend": true,
         "subplot": "polar",
         "theta": [
          "Spearman R",
          "Runtime -log10(sec)<br>21 perts,10K cells",
          "Recovery Known Biological Functions<br>Hypergeometric Test -log10(FDR)",
          "Recall:F1",
          "Recall:auPRC",
          "Spearman R"
         ],
         "type": "scatterpolar"
        },
        {
         "hovertemplate": "Model=scETM<br>Dataset=Replogle<br>value=%{r}<br>Metric=%{theta}<extra></extra>",
         "legendgroup": "scETM, Replogle",
         "line": {
          "color": "#0000ff",
          "dash": "dash"
         },
         "marker": {
          "symbol": "circle"
         },
         "mode": "lines",
         "name": "scETM, Replogle",
         "r": [
          0.8292982343569246,
          0.8048713983489332,
          0,
          0.05553572149724144,
          0.06955371848439953,
          0.8292982343569246
         ],
         "showlegend": true,
         "subplot": "polar",
         "theta": [
          "Spearman R",
          "Runtime -log10(sec)<br>21 perts,10K cells",
          "Recovery Known Biological Functions<br>Hypergeometric Test -log10(FDR)",
          "Recall:F1",
          "Recall:auPRC",
          "Spearman R"
         ],
         "type": "scatterpolar"
        }
       ],
       "layout": {
        "legend": {
         "title": {
          "text": "Model, Dataset"
         },
         "tracegroupgap": 0
        },
        "margin": {
         "t": 60
        },
        "polar": {
         "angularaxis": {
          "direction": "counterclockwise",
          "rotation": 45
         },
         "domain": {
          "x": [
           0,
           1
          ],
          "y": [
           0,
           1
          ]
         }
        },
        "template": {
         "data": {
          "bar": [
           {
            "error_x": {
             "color": "#2a3f5f"
            },
            "error_y": {
             "color": "#2a3f5f"
            },
            "marker": {
             "line": {
              "color": "white",
              "width": 0.5
             },
             "pattern": {
              "fillmode": "overlay",
              "size": 10,
              "solidity": 0.2
             }
            },
            "type": "bar"
           }
          ],
          "barpolar": [
           {
            "marker": {
             "line": {
              "color": "white",
              "width": 0.5
             },
             "pattern": {
              "fillmode": "overlay",
              "size": 10,
              "solidity": 0.2
             }
            },
            "type": "barpolar"
           }
          ],
          "carpet": [
           {
            "aaxis": {
             "endlinecolor": "#2a3f5f",
             "gridcolor": "#C8D4E3",
             "linecolor": "#C8D4E3",
             "minorgridcolor": "#C8D4E3",
             "startlinecolor": "#2a3f5f"
            },
            "baxis": {
             "endlinecolor": "#2a3f5f",
             "gridcolor": "#C8D4E3",
             "linecolor": "#C8D4E3",
             "minorgridcolor": "#C8D4E3",
             "startlinecolor": "#2a3f5f"
            },
            "type": "carpet"
           }
          ],
          "choropleth": [
           {
            "colorbar": {
             "outlinewidth": 0,
             "ticks": ""
            },
            "type": "choropleth"
           }
          ],
          "contour": [
           {
            "colorbar": {
             "outlinewidth": 0,
             "ticks": ""
            },
            "colorscale": [
             [
              0,
              "#0d0887"
             ],
             [
              0.1111111111111111,
              "#46039f"
             ],
             [
              0.2222222222222222,
              "#7201a8"
             ],
             [
              0.3333333333333333,
              "#9c179e"
             ],
             [
              0.4444444444444444,
              "#bd3786"
             ],
             [
              0.5555555555555556,
              "#d8576b"
             ],
             [
              0.6666666666666666,
              "#ed7953"
             ],
             [
              0.7777777777777778,
              "#fb9f3a"
             ],
             [
              0.8888888888888888,
              "#fdca26"
             ],
             [
              1,
              "#f0f921"
             ]
            ],
            "type": "contour"
           }
          ],
          "contourcarpet": [
           {
            "colorbar": {
             "outlinewidth": 0,
             "ticks": ""
            },
            "type": "contourcarpet"
           }
          ],
          "heatmap": [
           {
            "colorbar": {
             "outlinewidth": 0,
             "ticks": ""
            },
            "colorscale": [
             [
              0,
              "#0d0887"
             ],
             [
              0.1111111111111111,
              "#46039f"
             ],
             [
              0.2222222222222222,
              "#7201a8"
             ],
             [
              0.3333333333333333,
              "#9c179e"
             ],
             [
              0.4444444444444444,
              "#bd3786"
             ],
             [
              0.5555555555555556,
              "#d8576b"
             ],
             [
              0.6666666666666666,
              "#ed7953"
             ],
             [
              0.7777777777777778,
              "#fb9f3a"
             ],
             [
              0.8888888888888888,
              "#fdca26"
             ],
             [
              1,
              "#f0f921"
             ]
            ],
            "type": "heatmap"
           }
          ],
          "heatmapgl": [
           {
            "colorbar": {
             "outlinewidth": 0,
             "ticks": ""
            },
            "colorscale": [
             [
              0,
              "#0d0887"
             ],
             [
              0.1111111111111111,
              "#46039f"
             ],
             [
              0.2222222222222222,
              "#7201a8"
             ],
             [
              0.3333333333333333,
              "#9c179e"
             ],
             [
              0.4444444444444444,
              "#bd3786"
             ],
             [
              0.5555555555555556,
              "#d8576b"
             ],
             [
              0.6666666666666666,
              "#ed7953"
             ],
             [
              0.7777777777777778,
              "#fb9f3a"
             ],
             [
              0.8888888888888888,
              "#fdca26"
             ],
             [
              1,
              "#f0f921"
             ]
            ],
            "type": "heatmapgl"
           }
          ],
          "histogram": [
           {
            "marker": {
             "pattern": {
              "fillmode": "overlay",
              "size": 10,
              "solidity": 0.2
             }
            },
            "type": "histogram"
           }
          ],
          "histogram2d": [
           {
            "colorbar": {
             "outlinewidth": 0,
             "ticks": ""
            },
            "colorscale": [
             [
              0,
              "#0d0887"
             ],
             [
              0.1111111111111111,
              "#46039f"
             ],
             [
              0.2222222222222222,
              "#7201a8"
             ],
             [
              0.3333333333333333,
              "#9c179e"
             ],
             [
              0.4444444444444444,
              "#bd3786"
             ],
             [
              0.5555555555555556,
              "#d8576b"
             ],
             [
              0.6666666666666666,
              "#ed7953"
             ],
             [
              0.7777777777777778,
              "#fb9f3a"
             ],
             [
              0.8888888888888888,
              "#fdca26"
             ],
             [
              1,
              "#f0f921"
             ]
            ],
            "type": "histogram2d"
           }
          ],
          "histogram2dcontour": [
           {
            "colorbar": {
             "outlinewidth": 0,
             "ticks": ""
            },
            "colorscale": [
             [
              0,
              "#0d0887"
             ],
             [
              0.1111111111111111,
              "#46039f"
             ],
             [
              0.2222222222222222,
              "#7201a8"
             ],
             [
              0.3333333333333333,
              "#9c179e"
             ],
             [
              0.4444444444444444,
              "#bd3786"
             ],
             [
              0.5555555555555556,
              "#d8576b"
             ],
             [
              0.6666666666666666,
              "#ed7953"
             ],
             [
              0.7777777777777778,
              "#fb9f3a"
             ],
             [
              0.8888888888888888,
              "#fdca26"
             ],
             [
              1,
              "#f0f921"
             ]
            ],
            "type": "histogram2dcontour"
           }
          ],
          "mesh3d": [
           {
            "colorbar": {
             "outlinewidth": 0,
             "ticks": ""
            },
            "type": "mesh3d"
           }
          ],
          "parcoords": [
           {
            "line": {
             "colorbar": {
              "outlinewidth": 0,
              "ticks": ""
             }
            },
            "type": "parcoords"
           }
          ],
          "pie": [
           {
            "automargin": true,
            "type": "pie"
           }
          ],
          "scatter": [
           {
            "fillpattern": {
             "fillmode": "overlay",
             "size": 10,
             "solidity": 0.2
            },
            "type": "scatter"
           }
          ],
          "scatter3d": [
           {
            "line": {
             "colorbar": {
              "outlinewidth": 0,
              "ticks": ""
             }
            },
            "marker": {
             "colorbar": {
              "outlinewidth": 0,
              "ticks": ""
             }
            },
            "type": "scatter3d"
           }
          ],
          "scattercarpet": [
           {
            "marker": {
             "colorbar": {
              "outlinewidth": 0,
              "ticks": ""
             }
            },
            "type": "scattercarpet"
           }
          ],
          "scattergeo": [
           {
            "marker": {
             "colorbar": {
              "outlinewidth": 0,
              "ticks": ""
             }
            },
            "type": "scattergeo"
           }
          ],
          "scattergl": [
           {
            "marker": {
             "colorbar": {
              "outlinewidth": 0,
              "ticks": ""
             }
            },
            "type": "scattergl"
           }
          ],
          "scattermapbox": [
           {
            "marker": {
             "colorbar": {
              "outlinewidth": 0,
              "ticks": ""
             }
            },
            "type": "scattermapbox"
           }
          ],
          "scatterpolar": [
           {
            "marker": {
             "colorbar": {
              "outlinewidth": 0,
              "ticks": ""
             }
            },
            "type": "scatterpolar"
           }
          ],
          "scatterpolargl": [
           {
            "marker": {
             "colorbar": {
              "outlinewidth": 0,
              "ticks": ""
             }
            },
            "type": "scatterpolargl"
           }
          ],
          "scatterternary": [
           {
            "marker": {
             "colorbar": {
              "outlinewidth": 0,
              "ticks": ""
             }
            },
            "type": "scatterternary"
           }
          ],
          "surface": [
           {
            "colorbar": {
             "outlinewidth": 0,
             "ticks": ""
            },
            "colorscale": [
             [
              0,
              "#0d0887"
             ],
             [
              0.1111111111111111,
              "#46039f"
             ],
             [
              0.2222222222222222,
              "#7201a8"
             ],
             [
              0.3333333333333333,
              "#9c179e"
             ],
             [
              0.4444444444444444,
              "#bd3786"
             ],
             [
              0.5555555555555556,
              "#d8576b"
             ],
             [
              0.6666666666666666,
              "#ed7953"
             ],
             [
              0.7777777777777778,
              "#fb9f3a"
             ],
             [
              0.8888888888888888,
              "#fdca26"
             ],
             [
              1,
              "#f0f921"
             ]
            ],
            "type": "surface"
           }
          ],
          "table": [
           {
            "cells": {
             "fill": {
              "color": "#EBF0F8"
             },
             "line": {
              "color": "white"
             }
            },
            "header": {
             "fill": {
              "color": "#C8D4E3"
             },
             "line": {
              "color": "white"
             }
            },
            "type": "table"
           }
          ]
         },
         "layout": {
          "annotationdefaults": {
           "arrowcolor": "#2a3f5f",
           "arrowhead": 0,
           "arrowwidth": 1
          },
          "autotypenumbers": "strict",
          "coloraxis": {
           "colorbar": {
            "outlinewidth": 0,
            "ticks": ""
           }
          },
          "colorscale": {
           "diverging": [
            [
             0,
             "#8e0152"
            ],
            [
             0.1,
             "#c51b7d"
            ],
            [
             0.2,
             "#de77ae"
            ],
            [
             0.3,
             "#f1b6da"
            ],
            [
             0.4,
             "#fde0ef"
            ],
            [
             0.5,
             "#f7f7f7"
            ],
            [
             0.6,
             "#e6f5d0"
            ],
            [
             0.7,
             "#b8e186"
            ],
            [
             0.8,
             "#7fbc41"
            ],
            [
             0.9,
             "#4d9221"
            ],
            [
             1,
             "#276419"
            ]
           ],
           "sequential": [
            [
             0,
             "#0d0887"
            ],
            [
             0.1111111111111111,
             "#46039f"
            ],
            [
             0.2222222222222222,
             "#7201a8"
            ],
            [
             0.3333333333333333,
             "#9c179e"
            ],
            [
             0.4444444444444444,
             "#bd3786"
            ],
            [
             0.5555555555555556,
             "#d8576b"
            ],
            [
             0.6666666666666666,
             "#ed7953"
            ],
            [
             0.7777777777777778,
             "#fb9f3a"
            ],
            [
             0.8888888888888888,
             "#fdca26"
            ],
            [
             1,
             "#f0f921"
            ]
           ],
           "sequentialminus": [
            [
             0,
             "#0d0887"
            ],
            [
             0.1111111111111111,
             "#46039f"
            ],
            [
             0.2222222222222222,
             "#7201a8"
            ],
            [
             0.3333333333333333,
             "#9c179e"
            ],
            [
             0.4444444444444444,
             "#bd3786"
            ],
            [
             0.5555555555555556,
             "#d8576b"
            ],
            [
             0.6666666666666666,
             "#ed7953"
            ],
            [
             0.7777777777777778,
             "#fb9f3a"
            ],
            [
             0.8888888888888888,
             "#fdca26"
            ],
            [
             1,
             "#f0f921"
            ]
           ]
          },
          "colorway": [
           "#636efa",
           "#EF553B",
           "#00cc96",
           "#ab63fa",
           "#FFA15A",
           "#19d3f3",
           "#FF6692",
           "#B6E880",
           "#FF97FF",
           "#FECB52"
          ],
          "font": {
           "color": "#2a3f5f"
          },
          "geo": {
           "bgcolor": "white",
           "lakecolor": "white",
           "landcolor": "white",
           "showlakes": true,
           "showland": true,
           "subunitcolor": "#C8D4E3"
          },
          "hoverlabel": {
           "align": "left"
          },
          "hovermode": "closest",
          "mapbox": {
           "style": "light"
          },
          "paper_bgcolor": "white",
          "plot_bgcolor": "white",
          "polar": {
           "angularaxis": {
            "gridcolor": "#EBF0F8",
            "linecolor": "#EBF0F8",
            "ticks": ""
           },
           "bgcolor": "white",
           "radialaxis": {
            "gridcolor": "#EBF0F8",
            "linecolor": "#EBF0F8",
            "ticks": ""
           }
          },
          "scene": {
           "xaxis": {
            "backgroundcolor": "white",
            "gridcolor": "#DFE8F3",
            "gridwidth": 2,
            "linecolor": "#EBF0F8",
            "showbackground": true,
            "ticks": "",
            "zerolinecolor": "#EBF0F8"
           },
           "yaxis": {
            "backgroundcolor": "white",
            "gridcolor": "#DFE8F3",
            "gridwidth": 2,
            "linecolor": "#EBF0F8",
            "showbackground": true,
            "ticks": "",
            "zerolinecolor": "#EBF0F8"
           },
           "zaxis": {
            "backgroundcolor": "white",
            "gridcolor": "#DFE8F3",
            "gridwidth": 2,
            "linecolor": "#EBF0F8",
            "showbackground": true,
            "ticks": "",
            "zerolinecolor": "#EBF0F8"
           }
          },
          "shapedefaults": {
           "line": {
            "color": "#2a3f5f"
           }
          },
          "ternary": {
           "aaxis": {
            "gridcolor": "#DFE8F3",
            "linecolor": "#A2B1C6",
            "ticks": ""
           },
           "baxis": {
            "gridcolor": "#DFE8F3",
            "linecolor": "#A2B1C6",
            "ticks": ""
           },
           "bgcolor": "white",
           "caxis": {
            "gridcolor": "#DFE8F3",
            "linecolor": "#A2B1C6",
            "ticks": ""
           }
          },
          "title": {
           "x": 0.05
          },
          "xaxis": {
           "automargin": true,
           "gridcolor": "#EBF0F8",
           "linecolor": "#EBF0F8",
           "ticks": "",
           "title": {
            "standoff": 15
           },
           "zerolinecolor": "#EBF0F8",
           "zerolinewidth": 2
          },
          "yaxis": {
           "automargin": true,
           "gridcolor": "#EBF0F8",
           "linecolor": "#EBF0F8",
           "ticks": "",
           "title": {
            "standoff": 15
           },
           "zerolinecolor": "#EBF0F8",
           "zerolinewidth": 2
          }
         }
        }
       }
      },
      "text/html": [
       "<div>                            <div id=\"2246993e-b88f-4bbb-a1e6-74e67bc12d83\" class=\"plotly-graph-div\" style=\"height:525px; width:100%;\"></div>            <script type=\"text/javascript\">                require([\"plotly\"], function(Plotly) {                    window.PLOTLYENV=window.PLOTLYENV || {};                                    if (document.getElementById(\"2246993e-b88f-4bbb-a1e6-74e67bc12d83\")) {                    Plotly.newPlot(                        \"2246993e-b88f-4bbb-a1e6-74e67bc12d83\",                        [{\"hovertemplate\":\"Model=GSFA\\u003cbr\\u003eDataset=Inhouse\\u003cbr\\u003evalue=%{r}\\u003cbr\\u003eMetric=%{theta}\\u003cextra\\u003e\\u003c\\u002fextra\\u003e\",\"legendgroup\":\"GSFA, Inhouse\",\"line\":{\"color\":\"#ff0000\",\"dash\":\"solid\"},\"marker\":{\"symbol\":\"circle\"},\"mode\":\"lines\",\"name\":\"GSFA, Inhouse\",\"r\":[0.011130752463737357,0.0,0.09904487419802581,0.7601549215706523,0.8748829077705612,0.011130752463737357],\"showlegend\":true,\"subplot\":\"polar\",\"theta\":[\"Spearman R\",\"Runtime -log10(sec)\\u003cbr\\u003e21 perts,10K cells\",\"Recovery Known Biological Functions\\u003cbr\\u003eHypergeometric Test -log10(FDR)\",\"Recall:F1\",\"Recall:auPRC\",\"Spearman R\"],\"type\":\"scatterpolar\"},{\"hovertemplate\":\"Model=GSFA\\u003cbr\\u003eDataset=Norman\\u003cbr\\u003evalue=%{r}\\u003cbr\\u003eMetric=%{theta}\\u003cextra\\u003e\\u003c\\u002fextra\\u003e\",\"legendgroup\":\"GSFA, Norman\",\"line\":{\"color\":\"#ff0000\",\"dash\":\"dot\"},\"marker\":{\"symbol\":\"circle\"},\"mode\":\"lines\",\"name\":\"GSFA, Norman\",\"r\":[0.0,0.0,0.24331602055827578,0.9843231068843358,0.9623128139117565,0.0],\"showlegend\":true,\"subplot\":\"polar\",\"theta\":[\"Spearman R\",\"Runtime -log10(sec)\\u003cbr\\u003e21 perts,10K cells\",\"Recovery Known Biological Functions\\u003cbr\\u003eHypergeometric Test -log10(FDR)\",\"Recall:F1\",\"Recall:auPRC\",\"Spearman R\"],\"type\":\"scatterpolar\"},{\"hovertemplate\":\"Model=GSFA\\u003cbr\\u003eDataset=Replogle\\u003cbr\\u003evalue=%{r}\\u003cbr\\u003eMetric=%{theta}\\u003cextra\\u003e\\u003c\\u002fextra\\u003e\",\"legendgroup\":\"GSFA, Replogle\",\"line\":{\"color\":\"#ff0000\",\"dash\":\"dash\"},\"marker\":{\"symbol\":\"circle\"},\"mode\":\"lines\",\"name\":\"GSFA, Replogle\",\"r\":[0.0,0.0,0.0,0.0,0.0,0.0],\"showlegend\":true,\"subplot\":\"polar\",\"theta\":[\"Spearman R\",\"Runtime -log10(sec)\\u003cbr\\u003e21 perts,10K cells\",\"Recovery Known Biological Functions\\u003cbr\\u003eHypergeometric Test -log10(FDR)\",\"Recall:F1\",\"Recall:auPRC\",\"Spearman R\"],\"type\":\"scatterpolar\"},{\"hovertemplate\":\"Model=PertSpectra\\u003cbr\\u003eDataset=Inhouse\\u003cbr\\u003evalue=%{r}\\u003cbr\\u003eMetric=%{theta}\\u003cextra\\u003e\\u003c\\u002fextra\\u003e\",\"legendgroup\":\"PertSpectra, Inhouse\",\"line\":{\"color\":\"#00ff00\",\"dash\":\"solid\"},\"marker\":{\"symbol\":\"circle\"},\"mode\":\"lines\",\"name\":\"PertSpectra, Inhouse\",\"r\":[1.0,1.0,1.0,0.7745857445560906,0.856403484293659,1.0],\"showlegend\":true,\"subplot\":\"polar\",\"theta\":[\"Spearman R\",\"Runtime -log10(sec)\\u003cbr\\u003e21 perts,10K cells\",\"Recovery Known Biological Functions\\u003cbr\\u003eHypergeometric Test -log10(FDR)\",\"Recall:F1\",\"Recall:auPRC\",\"Spearman R\"],\"type\":\"scatterpolar\"},{\"hovertemplate\":\"Model=PertSpectra\\u003cbr\\u003eDataset=Norman\\u003cbr\\u003evalue=%{r}\\u003cbr\\u003eMetric=%{theta}\\u003cextra\\u003e\\u003c\\u002fextra\\u003e\",\"legendgroup\":\"PertSpectra, Norman\",\"line\":{\"color\":\"#00ff00\",\"dash\":\"dot\"},\"marker\":{\"symbol\":\"circle\"},\"mode\":\"lines\",\"name\":\"PertSpectra, Norman\",\"r\":[0.9934537881913026,1.0,0.5005301087955898,1.0,1.0,0.9934537881913026],\"showlegend\":true,\"subplot\":\"polar\",\"theta\":[\"Spearman R\",\"Runtime -log10(sec)\\u003cbr\\u003e21 perts,10K cells\",\"Recovery Known Biological Functions\\u003cbr\\u003eHypergeometric Test -log10(FDR)\",\"Recall:F1\",\"Recall:auPRC\",\"Spearman R\"],\"type\":\"scatterpolar\"},{\"hovertemplate\":\"Model=PertSpectra\\u003cbr\\u003eDataset=Replogle\\u003cbr\\u003evalue=%{r}\\u003cbr\\u003eMetric=%{theta}\\u003cextra\\u003e\\u003c\\u002fextra\\u003e\",\"legendgroup\":\"PertSpectra, Replogle\",\"line\":{\"color\":\"#00ff00\",\"dash\":\"dash\"},\"marker\":{\"symbol\":\"circle\"},\"mode\":\"lines\",\"name\":\"PertSpectra, Replogle\",\"r\":[0.9714246276290127,1.0,0.0,0.0,0.0,0.9714246276290127],\"showlegend\":true,\"subplot\":\"polar\",\"theta\":[\"Spearman R\",\"Runtime -log10(sec)\\u003cbr\\u003e21 perts,10K cells\",\"Recovery Known Biological Functions\\u003cbr\\u003eHypergeometric Test -log10(FDR)\",\"Recall:F1\",\"Recall:auPRC\",\"Spearman R\"],\"type\":\"scatterpolar\"},{\"hovertemplate\":\"Model=scETM\\u003cbr\\u003eDataset=Inhouse\\u003cbr\\u003evalue=%{r}\\u003cbr\\u003eMetric=%{theta}\\u003cextra\\u003e\\u003c\\u002fextra\\u003e\",\"legendgroup\":\"scETM, Inhouse\",\"line\":{\"color\":\"#0000ff\",\"dash\":\"solid\"},\"marker\":{\"symbol\":\"circle\"},\"mode\":\"lines\",\"name\":\"scETM, Inhouse\",\"r\":[0.9929171151899834,0.8048713983489332,0.0,0.7431717458879673,0.666463525646199,0.9929171151899834],\"showlegend\":true,\"subplot\":\"polar\",\"theta\":[\"Spearman R\",\"Runtime -log10(sec)\\u003cbr\\u003e21 perts,10K cells\",\"Recovery Known Biological Functions\\u003cbr\\u003eHypergeometric Test -log10(FDR)\",\"Recall:F1\",\"Recall:auPRC\",\"Spearman R\"],\"type\":\"scatterpolar\"},{\"hovertemplate\":\"Model=scETM\\u003cbr\\u003eDataset=Norman\\u003cbr\\u003evalue=%{r}\\u003cbr\\u003eMetric=%{theta}\\u003cextra\\u003e\\u003c\\u002fextra\\u003e\",\"legendgroup\":\"scETM, Norman\",\"line\":{\"color\":\"#0000ff\",\"dash\":\"dot\"},\"marker\":{\"symbol\":\"circle\"},\"mode\":\"lines\",\"name\":\"scETM, Norman\",\"r\":[0.9925487919516429,0.8048713983489332,0.0,0.9843231068843358,0.9498236706980513,0.9925487919516429],\"showlegend\":true,\"subplot\":\"polar\",\"theta\":[\"Spearman R\",\"Runtime -log10(sec)\\u003cbr\\u003e21 perts,10K cells\",\"Recovery Known Biological Functions\\u003cbr\\u003eHypergeometric Test -log10(FDR)\",\"Recall:F1\",\"Recall:auPRC\",\"Spearman R\"],\"type\":\"scatterpolar\"},{\"hovertemplate\":\"Model=scETM\\u003cbr\\u003eDataset=Replogle\\u003cbr\\u003evalue=%{r}\\u003cbr\\u003eMetric=%{theta}\\u003cextra\\u003e\\u003c\\u002fextra\\u003e\",\"legendgroup\":\"scETM, Replogle\",\"line\":{\"color\":\"#0000ff\",\"dash\":\"dash\"},\"marker\":{\"symbol\":\"circle\"},\"mode\":\"lines\",\"name\":\"scETM, Replogle\",\"r\":[0.8292982343569246,0.8048713983489332,0.0,0.05553572149724144,0.06955371848439953,0.8292982343569246],\"showlegend\":true,\"subplot\":\"polar\",\"theta\":[\"Spearman R\",\"Runtime -log10(sec)\\u003cbr\\u003e21 perts,10K cells\",\"Recovery Known Biological Functions\\u003cbr\\u003eHypergeometric Test -log10(FDR)\",\"Recall:F1\",\"Recall:auPRC\",\"Spearman R\"],\"type\":\"scatterpolar\"}],                        {\"template\":{\"data\":{\"barpolar\":[{\"marker\":{\"line\":{\"color\":\"white\",\"width\":0.5},\"pattern\":{\"fillmode\":\"overlay\",\"size\":10,\"solidity\":0.2}},\"type\":\"barpolar\"}],\"bar\":[{\"error_x\":{\"color\":\"#2a3f5f\"},\"error_y\":{\"color\":\"#2a3f5f\"},\"marker\":{\"line\":{\"color\":\"white\",\"width\":0.5},\"pattern\":{\"fillmode\":\"overlay\",\"size\":10,\"solidity\":0.2}},\"type\":\"bar\"}],\"carpet\":[{\"aaxis\":{\"endlinecolor\":\"#2a3f5f\",\"gridcolor\":\"#C8D4E3\",\"linecolor\":\"#C8D4E3\",\"minorgridcolor\":\"#C8D4E3\",\"startlinecolor\":\"#2a3f5f\"},\"baxis\":{\"endlinecolor\":\"#2a3f5f\",\"gridcolor\":\"#C8D4E3\",\"linecolor\":\"#C8D4E3\",\"minorgridcolor\":\"#C8D4E3\",\"startlinecolor\":\"#2a3f5f\"},\"type\":\"carpet\"}],\"choropleth\":[{\"colorbar\":{\"outlinewidth\":0,\"ticks\":\"\"},\"type\":\"choropleth\"}],\"contourcarpet\":[{\"colorbar\":{\"outlinewidth\":0,\"ticks\":\"\"},\"type\":\"contourcarpet\"}],\"contour\":[{\"colorbar\":{\"outlinewidth\":0,\"ticks\":\"\"},\"colorscale\":[[0.0,\"#0d0887\"],[0.1111111111111111,\"#46039f\"],[0.2222222222222222,\"#7201a8\"],[0.3333333333333333,\"#9c179e\"],[0.4444444444444444,\"#bd3786\"],[0.5555555555555556,\"#d8576b\"],[0.6666666666666666,\"#ed7953\"],[0.7777777777777778,\"#fb9f3a\"],[0.8888888888888888,\"#fdca26\"],[1.0,\"#f0f921\"]],\"type\":\"contour\"}],\"heatmapgl\":[{\"colorbar\":{\"outlinewidth\":0,\"ticks\":\"\"},\"colorscale\":[[0.0,\"#0d0887\"],[0.1111111111111111,\"#46039f\"],[0.2222222222222222,\"#7201a8\"],[0.3333333333333333,\"#9c179e\"],[0.4444444444444444,\"#bd3786\"],[0.5555555555555556,\"#d8576b\"],[0.6666666666666666,\"#ed7953\"],[0.7777777777777778,\"#fb9f3a\"],[0.8888888888888888,\"#fdca26\"],[1.0,\"#f0f921\"]],\"type\":\"heatmapgl\"}],\"heatmap\":[{\"colorbar\":{\"outlinewidth\":0,\"ticks\":\"\"},\"colorscale\":[[0.0,\"#0d0887\"],[0.1111111111111111,\"#46039f\"],[0.2222222222222222,\"#7201a8\"],[0.3333333333333333,\"#9c179e\"],[0.4444444444444444,\"#bd3786\"],[0.5555555555555556,\"#d8576b\"],[0.6666666666666666,\"#ed7953\"],[0.7777777777777778,\"#fb9f3a\"],[0.8888888888888888,\"#fdca26\"],[1.0,\"#f0f921\"]],\"type\":\"heatmap\"}],\"histogram2dcontour\":[{\"colorbar\":{\"outlinewidth\":0,\"ticks\":\"\"},\"colorscale\":[[0.0,\"#0d0887\"],[0.1111111111111111,\"#46039f\"],[0.2222222222222222,\"#7201a8\"],[0.3333333333333333,\"#9c179e\"],[0.4444444444444444,\"#bd3786\"],[0.5555555555555556,\"#d8576b\"],[0.6666666666666666,\"#ed7953\"],[0.7777777777777778,\"#fb9f3a\"],[0.8888888888888888,\"#fdca26\"],[1.0,\"#f0f921\"]],\"type\":\"histogram2dcontour\"}],\"histogram2d\":[{\"colorbar\":{\"outlinewidth\":0,\"ticks\":\"\"},\"colorscale\":[[0.0,\"#0d0887\"],[0.1111111111111111,\"#46039f\"],[0.2222222222222222,\"#7201a8\"],[0.3333333333333333,\"#9c179e\"],[0.4444444444444444,\"#bd3786\"],[0.5555555555555556,\"#d8576b\"],[0.6666666666666666,\"#ed7953\"],[0.7777777777777778,\"#fb9f3a\"],[0.8888888888888888,\"#fdca26\"],[1.0,\"#f0f921\"]],\"type\":\"histogram2d\"}],\"histogram\":[{\"marker\":{\"pattern\":{\"fillmode\":\"overlay\",\"size\":10,\"solidity\":0.2}},\"type\":\"histogram\"}],\"mesh3d\":[{\"colorbar\":{\"outlinewidth\":0,\"ticks\":\"\"},\"type\":\"mesh3d\"}],\"parcoords\":[{\"line\":{\"colorbar\":{\"outlinewidth\":0,\"ticks\":\"\"}},\"type\":\"parcoords\"}],\"pie\":[{\"automargin\":true,\"type\":\"pie\"}],\"scatter3d\":[{\"line\":{\"colorbar\":{\"outlinewidth\":0,\"ticks\":\"\"}},\"marker\":{\"colorbar\":{\"outlinewidth\":0,\"ticks\":\"\"}},\"type\":\"scatter3d\"}],\"scattercarpet\":[{\"marker\":{\"colorbar\":{\"outlinewidth\":0,\"ticks\":\"\"}},\"type\":\"scattercarpet\"}],\"scattergeo\":[{\"marker\":{\"colorbar\":{\"outlinewidth\":0,\"ticks\":\"\"}},\"type\":\"scattergeo\"}],\"scattergl\":[{\"marker\":{\"colorbar\":{\"outlinewidth\":0,\"ticks\":\"\"}},\"type\":\"scattergl\"}],\"scattermapbox\":[{\"marker\":{\"colorbar\":{\"outlinewidth\":0,\"ticks\":\"\"}},\"type\":\"scattermapbox\"}],\"scatterpolargl\":[{\"marker\":{\"colorbar\":{\"outlinewidth\":0,\"ticks\":\"\"}},\"type\":\"scatterpolargl\"}],\"scatterpolar\":[{\"marker\":{\"colorbar\":{\"outlinewidth\":0,\"ticks\":\"\"}},\"type\":\"scatterpolar\"}],\"scatter\":[{\"fillpattern\":{\"fillmode\":\"overlay\",\"size\":10,\"solidity\":0.2},\"type\":\"scatter\"}],\"scatterternary\":[{\"marker\":{\"colorbar\":{\"outlinewidth\":0,\"ticks\":\"\"}},\"type\":\"scatterternary\"}],\"surface\":[{\"colorbar\":{\"outlinewidth\":0,\"ticks\":\"\"},\"colorscale\":[[0.0,\"#0d0887\"],[0.1111111111111111,\"#46039f\"],[0.2222222222222222,\"#7201a8\"],[0.3333333333333333,\"#9c179e\"],[0.4444444444444444,\"#bd3786\"],[0.5555555555555556,\"#d8576b\"],[0.6666666666666666,\"#ed7953\"],[0.7777777777777778,\"#fb9f3a\"],[0.8888888888888888,\"#fdca26\"],[1.0,\"#f0f921\"]],\"type\":\"surface\"}],\"table\":[{\"cells\":{\"fill\":{\"color\":\"#EBF0F8\"},\"line\":{\"color\":\"white\"}},\"header\":{\"fill\":{\"color\":\"#C8D4E3\"},\"line\":{\"color\":\"white\"}},\"type\":\"table\"}]},\"layout\":{\"annotationdefaults\":{\"arrowcolor\":\"#2a3f5f\",\"arrowhead\":0,\"arrowwidth\":1},\"autotypenumbers\":\"strict\",\"coloraxis\":{\"colorbar\":{\"outlinewidth\":0,\"ticks\":\"\"}},\"colorscale\":{\"diverging\":[[0,\"#8e0152\"],[0.1,\"#c51b7d\"],[0.2,\"#de77ae\"],[0.3,\"#f1b6da\"],[0.4,\"#fde0ef\"],[0.5,\"#f7f7f7\"],[0.6,\"#e6f5d0\"],[0.7,\"#b8e186\"],[0.8,\"#7fbc41\"],[0.9,\"#4d9221\"],[1,\"#276419\"]],\"sequential\":[[0.0,\"#0d0887\"],[0.1111111111111111,\"#46039f\"],[0.2222222222222222,\"#7201a8\"],[0.3333333333333333,\"#9c179e\"],[0.4444444444444444,\"#bd3786\"],[0.5555555555555556,\"#d8576b\"],[0.6666666666666666,\"#ed7953\"],[0.7777777777777778,\"#fb9f3a\"],[0.8888888888888888,\"#fdca26\"],[1.0,\"#f0f921\"]],\"sequentialminus\":[[0.0,\"#0d0887\"],[0.1111111111111111,\"#46039f\"],[0.2222222222222222,\"#7201a8\"],[0.3333333333333333,\"#9c179e\"],[0.4444444444444444,\"#bd3786\"],[0.5555555555555556,\"#d8576b\"],[0.6666666666666666,\"#ed7953\"],[0.7777777777777778,\"#fb9f3a\"],[0.8888888888888888,\"#fdca26\"],[1.0,\"#f0f921\"]]},\"colorway\":[\"#636efa\",\"#EF553B\",\"#00cc96\",\"#ab63fa\",\"#FFA15A\",\"#19d3f3\",\"#FF6692\",\"#B6E880\",\"#FF97FF\",\"#FECB52\"],\"font\":{\"color\":\"#2a3f5f\"},\"geo\":{\"bgcolor\":\"white\",\"lakecolor\":\"white\",\"landcolor\":\"white\",\"showlakes\":true,\"showland\":true,\"subunitcolor\":\"#C8D4E3\"},\"hoverlabel\":{\"align\":\"left\"},\"hovermode\":\"closest\",\"mapbox\":{\"style\":\"light\"},\"paper_bgcolor\":\"white\",\"plot_bgcolor\":\"white\",\"polar\":{\"angularaxis\":{\"gridcolor\":\"#EBF0F8\",\"linecolor\":\"#EBF0F8\",\"ticks\":\"\"},\"bgcolor\":\"white\",\"radialaxis\":{\"gridcolor\":\"#EBF0F8\",\"linecolor\":\"#EBF0F8\",\"ticks\":\"\"}},\"scene\":{\"xaxis\":{\"backgroundcolor\":\"white\",\"gridcolor\":\"#DFE8F3\",\"gridwidth\":2,\"linecolor\":\"#EBF0F8\",\"showbackground\":true,\"ticks\":\"\",\"zerolinecolor\":\"#EBF0F8\"},\"yaxis\":{\"backgroundcolor\":\"white\",\"gridcolor\":\"#DFE8F3\",\"gridwidth\":2,\"linecolor\":\"#EBF0F8\",\"showbackground\":true,\"ticks\":\"\",\"zerolinecolor\":\"#EBF0F8\"},\"zaxis\":{\"backgroundcolor\":\"white\",\"gridcolor\":\"#DFE8F3\",\"gridwidth\":2,\"linecolor\":\"#EBF0F8\",\"showbackground\":true,\"ticks\":\"\",\"zerolinecolor\":\"#EBF0F8\"}},\"shapedefaults\":{\"line\":{\"color\":\"#2a3f5f\"}},\"ternary\":{\"aaxis\":{\"gridcolor\":\"#DFE8F3\",\"linecolor\":\"#A2B1C6\",\"ticks\":\"\"},\"baxis\":{\"gridcolor\":\"#DFE8F3\",\"linecolor\":\"#A2B1C6\",\"ticks\":\"\"},\"bgcolor\":\"white\",\"caxis\":{\"gridcolor\":\"#DFE8F3\",\"linecolor\":\"#A2B1C6\",\"ticks\":\"\"}},\"title\":{\"x\":0.05},\"xaxis\":{\"automargin\":true,\"gridcolor\":\"#EBF0F8\",\"linecolor\":\"#EBF0F8\",\"ticks\":\"\",\"title\":{\"standoff\":15},\"zerolinecolor\":\"#EBF0F8\",\"zerolinewidth\":2},\"yaxis\":{\"automargin\":true,\"gridcolor\":\"#EBF0F8\",\"linecolor\":\"#EBF0F8\",\"ticks\":\"\",\"title\":{\"standoff\":15},\"zerolinecolor\":\"#EBF0F8\",\"zerolinewidth\":2}}},\"polar\":{\"domain\":{\"x\":[0.0,1.0],\"y\":[0.0,1.0]},\"angularaxis\":{\"direction\":\"counterclockwise\",\"rotation\":45}},\"legend\":{\"title\":{\"text\":\"Model, Dataset\"},\"tracegroupgap\":0},\"margin\":{\"t\":60}},                        {\"responsive\": true}                    ).then(function(){\n",
       "                            \n",
       "var gd = document.getElementById('2246993e-b88f-4bbb-a1e6-74e67bc12d83');\n",
       "var x = new MutationObserver(function (mutations, observer) {{\n",
       "        var display = window.getComputedStyle(gd).display;\n",
       "        if (!display || display === 'none') {{\n",
       "            console.log([gd, 'removed!']);\n",
       "            Plotly.purge(gd);\n",
       "            observer.disconnect();\n",
       "        }}\n",
       "}});\n",
       "\n",
       "// Listen for the removal of the full notebook cells\n",
       "var notebookContainer = gd.closest('#notebook-container');\n",
       "if (notebookContainer) {{\n",
       "    x.observe(notebookContainer, {childList: true});\n",
       "}}\n",
       "\n",
       "// Listen for the clearing of the current output cell\n",
       "var outputEl = gd.closest('.output');\n",
       "if (outputEl) {{\n",
       "    x.observe(outputEl, {childList: true});\n",
       "}}\n",
       "\n",
       "                        })                };                });            </script>        </div>"
      ]
     },
     "metadata": {},
     "output_type": "display_data"
    }
   ],
   "source": [
    "df = all_perf_melted\n",
    "fig = px.line_polar(\n",
    "    df,\n",
    "    r=\"value\",\n",
    "    theta=\"Metric\",\n",
    "    color=\"Model\",\n",
    "    line_dash=\"Dataset\",\n",
    "    line_close=True,\n",
    "    color_discrete_sequence=[\"#ff0000\", \"#00ff00\", \"#0000ff\"],\n",
    "    direction=\"counterclockwise\",\n",
    "    start_angle=45,\n",
    "    template=\"plotly_white\",\n",
    ")\n",
    "fig.show()"
   ]
  },
  {
   "cell_type": "code",
   "execution_count": 39,
   "id": "c00ef03f",
   "metadata": {},
   "outputs": [
    {
     "name": "stdout",
     "output_type": "stream",
     "text": [
      "Help on function line_polar in module plotly.express._chart_types:\n",
      "\n",
      "line_polar(data_frame=None, r=None, theta=None, color=None, line_dash=None, hover_name=None, hover_data=None, custom_data=None, line_group=None, text=None, symbol=None, animation_frame=None, animation_group=None, category_orders=None, labels=None, color_discrete_sequence=None, color_discrete_map=None, line_dash_sequence=None, line_dash_map=None, symbol_sequence=None, symbol_map=None, markers=False, direction='clockwise', start_angle=90, line_close=False, line_shape=None, render_mode='auto', range_r=None, range_theta=None, log_r=False, title=None, template=None, width=None, height=None) -> plotly.graph_objs._figure.Figure\n",
      "        In a polar line plot, each row of `data_frame` is represented as vertex\n",
      "        of a polyline mark in polar coordinates.\n",
      "        \n",
      "    Parameters\n",
      "    ----------\n",
      "    data_frame: DataFrame or array-like or dict\n",
      "        This argument needs to be passed for column names (and not keyword\n",
      "        names) to be used. Array-like and dict are transformed internally to a\n",
      "        pandas DataFrame. Optional: if missing, a DataFrame gets constructed\n",
      "        under the hood using the other arguments.\n",
      "    r: str or int or Series or array-like\n",
      "        Either a name of a column in `data_frame`, or a pandas Series or\n",
      "        array_like object. Values from this column or array_like are used to\n",
      "        position marks along the radial axis in polar coordinates.\n",
      "    theta: str or int or Series or array-like\n",
      "        Either a name of a column in `data_frame`, or a pandas Series or\n",
      "        array_like object. Values from this column or array_like are used to\n",
      "        position marks along the angular axis in polar coordinates.\n",
      "    color: str or int or Series or array-like\n",
      "        Either a name of a column in `data_frame`, or a pandas Series or\n",
      "        array_like object. Values from this column or array_like are used to\n",
      "        assign color to marks.\n",
      "    line_dash: str or int or Series or array-like\n",
      "        Either a name of a column in `data_frame`, or a pandas Series or\n",
      "        array_like object. Values from this column or array_like are used to\n",
      "        assign dash-patterns to lines.\n",
      "    hover_name: str or int or Series or array-like\n",
      "        Either a name of a column in `data_frame`, or a pandas Series or\n",
      "        array_like object. Values from this column or array_like appear in bold\n",
      "        in the hover tooltip.\n",
      "    hover_data: str, or list of str or int, or Series or array-like, or dict\n",
      "        Either a name or list of names of columns in `data_frame`, or pandas\n",
      "        Series, or array_like objects or a dict with column names as keys, with\n",
      "        values True (for default formatting) False (in order to remove this\n",
      "        column from hover information), or a formatting string, for example\n",
      "        ':.3f' or '|%a' or list-like data to appear in the hover tooltip or\n",
      "        tuples with a bool or formatting string as first element, and list-like\n",
      "        data to appear in hover as second element Values from these columns\n",
      "        appear as extra data in the hover tooltip.\n",
      "    custom_data: str, or list of str or int, or Series or array-like\n",
      "        Either name or list of names of columns in `data_frame`, or pandas\n",
      "        Series, or array_like objects Values from these columns are extra data,\n",
      "        to be used in widgets or Dash callbacks for example. This data is not\n",
      "        user-visible but is included in events emitted by the figure (lasso\n",
      "        selection etc.)\n",
      "    line_group: str or int or Series or array-like\n",
      "        Either a name of a column in `data_frame`, or a pandas Series or\n",
      "        array_like object. Values from this column or array_like are used to\n",
      "        group rows of `data_frame` into lines.\n",
      "    text: str or int or Series or array-like\n",
      "        Either a name of a column in `data_frame`, or a pandas Series or\n",
      "        array_like object. Values from this column or array_like appear in the\n",
      "        figure as text labels.\n",
      "    symbol: str or int or Series or array-like\n",
      "        Either a name of a column in `data_frame`, or a pandas Series or\n",
      "        array_like object. Values from this column or array_like are used to\n",
      "        assign symbols to marks.\n",
      "    animation_frame: str or int or Series or array-like\n",
      "        Either a name of a column in `data_frame`, or a pandas Series or\n",
      "        array_like object. Values from this column or array_like are used to\n",
      "        assign marks to animation frames.\n",
      "    animation_group: str or int or Series or array-like\n",
      "        Either a name of a column in `data_frame`, or a pandas Series or\n",
      "        array_like object. Values from this column or array_like are used to\n",
      "        provide object-constancy across animation frames: rows with matching\n",
      "        `animation_group`s will be treated as if they describe the same object\n",
      "        in each frame.\n",
      "    category_orders: dict with str keys and list of str values (default `{}`)\n",
      "        By default, in Python 3.6+, the order of categorical values in axes,\n",
      "        legends and facets depends on the order in which these values are first\n",
      "        encountered in `data_frame` (and no order is guaranteed by default in\n",
      "        Python below 3.6). This parameter is used to force a specific ordering\n",
      "        of values per column. The keys of this dict should correspond to column\n",
      "        names, and the values should be lists of strings corresponding to the\n",
      "        specific display order desired.\n",
      "    labels: dict with str keys and str values (default `{}`)\n",
      "        By default, column names are used in the figure for axis titles, legend\n",
      "        entries and hovers. This parameter allows this to be overridden. The\n",
      "        keys of this dict should correspond to column names, and the values\n",
      "        should correspond to the desired label to be displayed.\n",
      "    color_discrete_sequence: list of str\n",
      "        Strings should define valid CSS-colors. When `color` is set and the\n",
      "        values in the corresponding column are not numeric, values in that\n",
      "        column are assigned colors by cycling through `color_discrete_sequence`\n",
      "        in the order described in `category_orders`, unless the value of\n",
      "        `color` is a key in `color_discrete_map`. Various useful color\n",
      "        sequences are available in the `plotly.express.colors` submodules,\n",
      "        specifically `plotly.express.colors.qualitative`.\n",
      "    color_discrete_map: dict with str keys and str values (default `{}`)\n",
      "        String values should define valid CSS-colors Used to override\n",
      "        `color_discrete_sequence` to assign a specific colors to marks\n",
      "        corresponding with specific values. Keys in `color_discrete_map` should\n",
      "        be values in the column denoted by `color`. Alternatively, if the\n",
      "        values of `color` are valid colors, the string `'identity'` may be\n",
      "        passed to cause them to be used directly.\n",
      "    line_dash_sequence: list of str\n",
      "        Strings should define valid plotly.js dash-patterns. When `line_dash`\n",
      "        is set, values in that column are assigned dash-patterns by cycling\n",
      "        through `line_dash_sequence` in the order described in\n",
      "        `category_orders`, unless the value of `line_dash` is a key in\n",
      "        `line_dash_map`.\n",
      "    line_dash_map: dict with str keys and str values (default `{}`)\n",
      "        Strings values define plotly.js dash-patterns. Used to override\n",
      "        `line_dash_sequences` to assign a specific dash-patterns to lines\n",
      "        corresponding with specific values. Keys in `line_dash_map` should be\n",
      "        values in the column denoted by `line_dash`. Alternatively, if the\n",
      "        values of `line_dash` are valid line-dash names, the string\n",
      "        `'identity'` may be passed to cause them to be used directly.\n",
      "    symbol_sequence: list of str\n",
      "        Strings should define valid plotly.js symbols. When `symbol` is set,\n",
      "        values in that column are assigned symbols by cycling through\n",
      "        `symbol_sequence` in the order described in `category_orders`, unless\n",
      "        the value of `symbol` is a key in `symbol_map`.\n",
      "    symbol_map: dict with str keys and str values (default `{}`)\n",
      "        String values should define plotly.js symbols Used to override\n",
      "        `symbol_sequence` to assign a specific symbols to marks corresponding\n",
      "        with specific values. Keys in `symbol_map` should be values in the\n",
      "        column denoted by `symbol`. Alternatively, if the values of `symbol`\n",
      "        are valid symbol names, the string `'identity'` may be passed to cause\n",
      "        them to be used directly.\n",
      "    markers: boolean (default `False`)\n",
      "        If `True`, markers are shown on lines.\n",
      "    direction: str\n",
      "        One of '`counterclockwise'` or `'clockwise'`. Default is `'clockwise'`\n",
      "        Sets the direction in which increasing values of the angular axis are\n",
      "        drawn.\n",
      "    start_angle: int (default `90`)\n",
      "        Sets start angle for the angular axis, with 0 being due east and 90\n",
      "        being due north.\n",
      "    line_close: boolean (default `False`)\n",
      "        If `True`, an extra line segment is drawn between the first and last\n",
      "        point.\n",
      "    line_shape: str (default `'linear'`)\n",
      "        One of `'linear'`, `'spline'`, `'hv'`, `'vh'`, `'hvh'`, or `'vhv'`\n",
      "    render_mode: str\n",
      "        One of `'auto'`, `'svg'` or `'webgl'`, default `'auto'` Controls the\n",
      "        browser API used to draw marks. `'svg'` is appropriate for figures of\n",
      "        less than 1000 data points, and will allow for fully-vectorized output.\n",
      "        `'webgl'` is likely necessary for acceptable performance above 1000\n",
      "        points but rasterizes part of the output.  `'auto'` uses heuristics to\n",
      "        choose the mode.\n",
      "    range_r: list of two numbers\n",
      "        If provided, overrides auto-scaling on the radial axis in polar\n",
      "        coordinates.\n",
      "    range_theta: list of two numbers\n",
      "        If provided, overrides auto-scaling on the angular axis in polar\n",
      "        coordinates.\n",
      "    log_r: boolean (default `False`)\n",
      "        If `True`, the radial axis is log-scaled in polar coordinates.\n",
      "    title: str\n",
      "        The figure title.\n",
      "    template: str or dict or plotly.graph_objects.layout.Template instance\n",
      "        The figure template name (must be a key in plotly.io.templates) or\n",
      "        definition.\n",
      "    width: int (default `None`)\n",
      "        The figure width in pixels.\n",
      "    height: int (default `None`)\n",
      "        The figure height in pixels.\n",
      "    \n",
      "    Returns\n",
      "    -------\n",
      "        plotly.graph_objects.Figure\n",
      "\n"
     ]
    }
   ],
   "source": [
    "help(px.line_polar)"
   ]
  },
  {
   "cell_type": "code",
   "execution_count": null,
   "id": "c75a64d4",
   "metadata": {},
   "outputs": [],
   "source": []
  }
 ],
 "metadata": {
  "kernelspec": {
   "display_name": "pertspectra",
   "language": "python",
   "name": "pertspectra"
  },
  "language_info": {
   "codemirror_mode": {
    "name": "ipython",
    "version": 3
   },
   "file_extension": ".py",
   "mimetype": "text/x-python",
   "name": "python",
   "nbconvert_exporter": "python",
   "pygments_lexer": "ipython3",
   "version": "3.11.0"
  }
 },
 "nbformat": 4,
 "nbformat_minor": 5
}
