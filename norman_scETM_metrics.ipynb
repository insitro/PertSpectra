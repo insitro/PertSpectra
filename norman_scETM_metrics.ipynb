{
 "cells": [
  {
   "cell_type": "code",
   "execution_count": 12,
   "id": "b8270f66-7a27-4263-aa97-25abeb2cf34d",
   "metadata": {},
   "outputs": [
    {
     "name": "stdout",
     "output_type": "stream",
     "text": [
      "The autoreload extension is already loaded. To reload it, use:\n",
      "  %reload_ext autoreload\n"
     ]
    }
   ],
   "source": [
    "%load_ext autoreload\n",
    "%autoreload 2 "
   ]
  },
  {
   "cell_type": "code",
   "execution_count": 52,
   "id": "529f64f3-c83e-481d-872c-df89b9dd063b",
   "metadata": {},
   "outputs": [],
   "source": [
    "import pickle\n",
    "\n",
    "import matplotlib.pyplot as plt\n",
    "import numpy as np\n",
    "import pandas as pd\n",
    "\n",
    "from utils import (\n",
    "    auprc,\n",
    "    factor_enrichment_gsea,\n",
    "    get_gprofiler,\n",
    "    read_aws_csv,\n",
    "    read_aws_h5ad,\n",
    ")"
   ]
  },
  {
   "cell_type": "code",
   "execution_count": null,
   "id": "00d0db8a-5c3d-4e9f-bce0-46c90135cab4",
   "metadata": {},
   "outputs": [],
   "source": [
    "# read in scETM results\n",
    "adata = read_aws_h5ad(\"s3://pert-spectra/scETM_checkpoints/scetm_norman/fold_0.h5ad\")\n",
    "# read in pertspectra results to retrieve gene labels\n",
    "ref_adata = read_aws_h5ad(\n",
    "    \"s3://pert-spectra/PertSpectra_checkpoints/pertspectra_norman/fold_0.h5ad\"\n",
    ")\n",
    "adata.var_names = ref_adata.var_names"
   ]
  },
  {
   "cell_type": "markdown",
   "id": "5b7bf773-5e0c-43b8-8df2-4ce3376be959",
   "metadata": {},
   "source": [
    "# Reconstruction"
   ]
  },
  {
   "cell_type": "markdown",
   "id": "3b4b092b-2120-48c6-a492-84656e8b7169",
   "metadata": {},
   "source": [
    "## Spearman Coefficient\n",
    "- Spearman correlation between predicted and observed expression (on DE genes if available)"
   ]
  },
  {
   "cell_type": "code",
   "execution_count": 3,
   "id": "e2885bd3-5433-47d6-88d5-47be83df5b5a",
   "metadata": {},
   "outputs": [],
   "source": [
    "n_folds = 5\n",
    "model_adatas = []\n",
    "for n in range(0, n_folds):\n",
    "    # new adata\n",
    "    adata_n = adata.copy()\n",
    "    # load model from checkpoint\n",
    "    s3_dir = \"s3://pert-spectra/scETM_checkpoints/\"\n",
    "    experiment_name = \"scetm_norman/\"\n",
    "    model_name = f\"fold_{n}.h5ad\"\n",
    "    m_adata = read_aws_h5ad(s3_dir + experiment_name + model_name)\n",
    "    model_adatas.append(m_adata)"
   ]
  },
  {
   "cell_type": "code",
   "execution_count": 4,
   "id": "cfe07156-f95b-481e-a1ac-495e69f7e954",
   "metadata": {},
   "outputs": [
    {
     "name": "stdout",
     "output_type": "stream",
     "text": [
      "0\n",
      "(18547, 4990)\n",
      "test\n",
      "1\n",
      "(20156, 4990)\n",
      "test\n",
      "2\n",
      "(21410, 4990)\n",
      "test\n",
      "3\n",
      "(20621, 4990)\n",
      "test\n",
      "4\n",
      "(20752, 4990)\n",
      "test\n"
     ]
    }
   ],
   "source": [
    "# iterate through all models and get the losses and correlations\n",
    "# take the mean loss and correlation for the test set\n",
    "from scipy.stats import spearmanr\n",
    "\n",
    "test_corr_singles = []\n",
    "test_corr_combos = []\n",
    "\n",
    "\n",
    "for n in range(n_folds):\n",
    "    adata_n = model_adatas[n]\n",
    "    loss_weights = np.ones(adata_n.shape[0])\n",
    "\n",
    "    for pert in adata_n.obs[\"perturbation_name\"].unique():\n",
    "        hold_idx = [\n",
    "            i for i, x in enumerate(adata_n.obs[\"perturbation_name\"]) if x == pert\n",
    "        ]\n",
    "        recon = adata_n[hold_idx].uns[\"recon\"]\n",
    "        # correlation\n",
    "        mean_reconstruction = recon.mean(axis=0)\n",
    "        mean_observed = np.squeeze(np.array(adata_n[hold_idx].X.mean(axis=0)))\n",
    "        if (\"+\" in pert) and (\"ctrl\" not in pert):\n",
    "            test_corr_combos.append(\n",
    "                [pert, spearmanr(mean_reconstruction, mean_observed)[0], n]\n",
    "            )\n",
    "        else:\n",
    "            test_corr_singles.append(\n",
    "                [pert, spearmanr(mean_reconstruction, mean_observed)[0], n]\n",
    "            )"
   ]
  },
  {
   "cell_type": "code",
   "execution_count": 5,
   "id": "72f27f1d-a5a5-46f8-a9a4-efcd5f3119fb",
   "metadata": {},
   "outputs": [
    {
     "data": {
      "image/png": "[encoded data removed]",
      "text/plain": [
       "<Figure size 640x480 with 1 Axes>"
      ]
     },
     "metadata": {},
     "output_type": "display_data"
    }
   ],
   "source": [
    "# plot train correlation distribution vs test correlation distribution\n",
    "import seaborn as sns\n",
    "\n",
    "test_corr = np.array(test_corr_singles + test_corr_combos)[:, 1].astype(float)\n",
    "sns.histplot(test_corr, label=\"test_corr\")\n",
    "plt.title(\"Correlation between predicted and observed expression per perturbation\")\n",
    "plt.xlabel(\"Spearman Correlation\")\n",
    "plt.show()"
   ]
  },
  {
   "cell_type": "code",
   "execution_count": 6,
   "id": "e4dcca93-bc7e-4bae-b434-50f2a2fb52ab",
   "metadata": {},
   "outputs": [],
   "source": [
    "np.savetxt(\n",
    "    \"figures/reconstruction_spearmans/scETM_norman_spearman_correlations.csv\",\n",
    "    test_corr,\n",
    "    delimiter=\",\",\n",
    "    fmt=\"%.2f\",\n",
    ")"
   ]
  },
  {
   "cell_type": "markdown",
   "id": "64fc0b35-f87e-4d8a-87f1-e6080a3ee83f",
   "metadata": {},
   "source": [
    "# Perturbation Embedding Heatmap"
   ]
  },
  {
   "cell_type": "markdown",
   "id": "c36ebe2b-2835-44ed-9f71-a52b522125b1",
   "metadata": {},
   "source": [
    "## Hierarchical Clustering + Enrichment\n",
    "- Perform enrichment tests (gprofiler) on hierarchical clustering of perturbation embeddings"
   ]
  },
  {
   "cell_type": "code",
   "execution_count": null,
   "id": "0aaf8dc3-7e5b-4748-8685-fc8560bf7fc7",
   "metadata": {},
   "outputs": [],
   "source": [
    "import seaborn as sns\n",
    "from scipy.cluster.hierarchy import dendrogram, fcluster, linkage\n",
    "from scipy.spatial.distance import pdist, squareform\n",
    "\n",
    "# aggregate cell embeddings to perturbation embeddings\n",
    "cell_emb = adata.uns[\"cell_emb\"] @ adata.uns[\"topics\"]\n",
    "perts = []\n",
    "pert_emb = []\n",
    "for i in adata.obs[\"perturbation_name\"].unique():\n",
    "    if \"+\" not in i and i != \"nan\":\n",
    "        perts.append(i)\n",
    "        pert_emb.append(cell_emb[adata.obs[\"perturbation_name\"] == i].mean(axis=0))\n",
    "pert_emb = np.array(pert_emb)\n",
    "pert_emb_df = pd.DataFrame(pert_emb, index=perts)\n",
    "\n",
    "# Compute the pairwise distances\n",
    "df = pert_emb_df.drop(index=[\"control\"])\n",
    "\n",
    "distance = \"euclidean\"\n",
    "distances = pdist(df.values, metric=distance)\n",
    "\n",
    "# Convert the distances into a square distance matrix\n",
    "distance_matrix = pd.DataFrame(squareform(distances), index=df.index, columns=df.index)\n",
    "\n",
    "# Compute the linkage matrix using the condensed distance matrix\n",
    "linkage_matrix = linkage(distance_matrix, method=\"ward\")\n",
    "\n",
    "# Plot the dendrogram (optional)\n",
    "dendro = dendrogram(linkage_matrix, no_plot=True)\n",
    "\n",
    "# Assign clusters\n",
    "max_d = 1.2  # Max distance for flat clusters\n",
    "clusters = fcluster(linkage_matrix, max_d, criterion=\"distance\")\n",
    "\n",
    "# Create a color palette for clusters\n",
    "palette = sns.color_palette(\"husl\", len(np.unique(clusters)))\n",
    "\n",
    "# Map each cluster id to a color\n",
    "cluster_colors = [palette[i - 1] for i in clusters]\n",
    "\n",
    "# Show the plot\n",
    "plt.show()\n",
    "\n",
    "clustermap = sns.clustermap(\n",
    "    distance_matrix, cmap=\"viridis_r\", row_colors=cluster_colors\n",
    ")\n",
    "clustermap.fig.suptitle(f\"Pairwise {distance} distance of perturbation latent vectors\")\n",
    "# clustermap.ax_row_dendrogram.set_visible(False)\n",
    "clustermap.ax_col_dendrogram.set_visible(False)\n",
    "# clustermap.cax.set_visible(False)\n",
    "plt.show()"
   ]
  },
  {
   "cell_type": "code",
   "execution_count": 72,
   "id": "c655f7dc-7d39-43dd-9af5-6ca0faf6d8eb",
   "metadata": {},
   "outputs": [],
   "source": [
    "# extract clusters and perform gprofiler\n",
    "index_names = list(distance_matrix.index)\n",
    "cluster_df = pd.DataFrame({\"Pert\": index_names, \"Cluster\": clusters})\n",
    "cluster_process = {}\n",
    "for cluster_id in np.unique(clusters):\n",
    "    points_in_cluster = cluster_df[cluster_df[\"Cluster\"] == cluster_id][\"Pert\"].tolist()\n",
    "    gprofiler_in = pd.DataFrame(points_in_cluster, columns=[\"gene_symbol\"])\n",
    "    res = get_gprofiler(gprofiler_in)\n",
    "    cluster_process[cluster_id] = res[res[\"p_value\"] <= 0.05]"
   ]
  },
  {
   "cell_type": "code",
   "execution_count": null,
   "id": "e41dff85-043e-46d2-8737-4db7d7bf969c",
   "metadata": {},
   "outputs": [],
   "source": [
    "# Create descriptions for each cluster (for demonstration purpose)\n",
    "cluster_descriptions = {\n",
    "    1: \"Protein tyrosine phosphatase activity\",\n",
    "    2: \"\",\n",
    "    3: \"protein serine/threonine kinase activity\",\n",
    "    4: \"DNA-binding transcription factor activity, RNA polymerase II transcription\",\n",
    "    5: \"MAPK activity, regulation of IRE1-mediated unfolded protein\",\n",
    "    6: \"morphogenesis, DNA-binding transcription factor activity, transcription by RNA polymerase II\",\n",
    "    7: \"negative regulation of ERBB signaling pathway\",\n",
    "    8: \"MAPK activity, procentriole replication\",\n",
    "    9: \"vesicle lumen\",\n",
    "    10: \"collagen trimer\",\n",
    "    11: \"DNA-binding transcription factor activity, RNA polymerase II transcription\",\n",
    "    12: \"\",\n",
    "    13: \"\",\n",
    "    14: \"C/EBP complex\",\n",
    "}\n",
    "\n",
    "# Create a consistent color palette\n",
    "unique_clusters = sorted(np.unique(clusters))\n",
    "palette = sns.color_palette(\"husl\", len(unique_clusters))\n",
    "cluster_colors = [palette[i - 1] for i in clusters]\n",
    "cluster_colors = {cid: palette[i] for i, cid in enumerate(unique_clusters)}\n",
    "\n",
    "# Create clustermap using consistent colors\n",
    "row_colors = [cluster_colors[cid] for cid in clusters]\n",
    "clustermap = sns.clustermap(\n",
    "    distance_matrix, cmap=\"viridis_r\", row_colors=[palette[i - 1] for i in clusters]\n",
    ")\n",
    "clustermap.savefig(\n",
    "    \"figures/figure_pngs/scETM_norman_clustermap.png\", dpi=600, bbox_inches=\"tight\"\n",
    ")\n",
    "\n",
    "# Prepare data for the table\n",
    "cluster_data = {\n",
    "    \"Cluster ID\": unique_clusters,\n",
    "    \"Description\": [cluster_descriptions[cid] for cid in unique_clusters],\n",
    "}\n",
    "\n",
    "cluster_df = pd.DataFrame(cluster_data)\n",
    "\n",
    "# Plot the table with colors matching the clustermap\n",
    "fig, ax = plt.subplots(figsize=(18, 4))\n",
    "ax.axis(\"off\")\n",
    "ax.axis(\"tight\")\n",
    "\n",
    "# Create table while applying the color to the row background\n",
    "table = ax.table(\n",
    "    cellText=cluster_df.values,\n",
    "    colLabels=[\"Cluster ID\", \"Description\"],\n",
    "    cellColours=[[cluster_colors[cid]] * 2 for cid in cluster_df[\"Cluster ID\"]],\n",
    "    cellLoc=\"center\",\n",
    "    loc=\"center\",\n",
    ")\n",
    "\n",
    "# Customize table appearance\n",
    "table.auto_set_font_size(False)\n",
    "table.set_fontsize(10)\n",
    "table.scale(1, 1.5)\n",
    "\n",
    "plt.savefig(\n",
    "    \"figures/figure_pngs/scETM_norman_clustermap_descriptions.png\",\n",
    "    dpi=600,\n",
    "    bbox_inches=\"tight\",\n",
    ")\n",
    "plt.show()"
   ]
  },
  {
   "cell_type": "code",
   "execution_count": 89,
   "id": "a53c2cec-1c3d-465d-a627-47bcc7aa4da7",
   "metadata": {},
   "outputs": [],
   "source": [
    "# save grpofiler results\n",
    "with open(\n",
    "    \"figures/pert_embedding_cluster_gprofiler/scETM_norman_pert_emb_gprofiler.pickle\",\n",
    "    \"wb\",\n",
    ") as handle:\n",
    "    pickle.dump(cluster_process, handle, protocol=pickle.HIGHEST_PROTOCOL)"
   ]
  },
  {
   "cell_type": "markdown",
   "id": "5ad3121b-7c81-435e-9d09-ab431200706a",
   "metadata": {},
   "source": [
    "## PR Curve+AUC\n",
    "- AUCPR using prior graph as binary label"
   ]
  },
  {
   "cell_type": "code",
   "execution_count": 53,
   "id": "4509c613-b436-4143-8246-b9d83125b4bf",
   "metadata": {},
   "outputs": [
    {
     "name": "stdout",
     "output_type": "stream",
     "text": [
      "               AUC\n",
      "StringDB  0.726058\n",
      "CORUM     0.946866\n",
      "                F1  Threshold\n",
      "StringDB  0.820312        1.0\n",
      "CORUM     0.972222        1.0\n"
     ]
    }
   ],
   "source": [
    "aucpr_df, f1_df, pr_dict = auprc(distance_matrix)\n",
    "print(aucpr_df)\n",
    "print(f1_df)\n",
    "aucpr_df.to_csv(\"figures/pert_embedding_recall/scETM_norman_aucpr.csv\")\n",
    "f1_df.to_csv(\"figures/pert_embedding_recall/scETM_norman_f1.csv\")"
   ]
  },
  {
   "cell_type": "markdown",
   "id": "8fdff66a-8f20-4268-8520-d33a0fa4969a",
   "metadata": {},
   "source": [
    "# Interpretability of our learned latent space"
   ]
  },
  {
   "cell_type": "markdown",
   "id": "1ec54f80-8a0f-41f0-8c55-edd2b1fbfb3c",
   "metadata": {},
   "source": [
    "## Factor Enrichment\n",
    "- GSEA on log transformed latent-by-gene factors\n",
    "- Then associate each perturbation to its top latent factors"
   ]
  },
  {
   "cell_type": "code",
   "execution_count": null,
   "id": "35eb8169-15b1-4b5b-b926-d5b7238f372a",
   "metadata": {
    "scrolled": true
   },
   "outputs": [],
   "source": [
    "factor_to_go = factor_enrichment_gsea(adata, np.abs(adata.uns[\"gene_emb\"]), fdr=0.05)"
   ]
  },
  {
   "cell_type": "code",
   "execution_count": null,
   "id": "814189ce-53f3-4716-834a-a4f0ea6efcf9",
   "metadata": {},
   "outputs": [],
   "source": [
    "# filter and add description to processes\n",
    "go_df = read_aws_csv(\"s3://pert-spectra/references/GO_to_Description.txt\")\n",
    "go_df.set_index(\"Term\", inplace=True)\n",
    "go_dict = go_df.to_dict()[\"Description\"]\n",
    "\n",
    "filtered_factor_to_go = {}\n",
    "for i in factor_to_go:\n",
    "    proc = factor_to_go[i]\n",
    "    proc[\"descr\"] = [go_dict[x] for x in proc[\"GO_ID\"]]\n",
    "    filtered_factor_to_go[i] = proc"
   ]
  },
  {
   "cell_type": "code",
   "execution_count": null,
   "id": "8d1e2990-edee-430e-957f-328342271a42",
   "metadata": {},
   "outputs": [],
   "source": [
    "# save latent enrichment results\n",
    "with open(\n",
    "    \"figures/factor_enrichments/scETM_norman_factor_enrichment.pickle\", \"wb\"\n",
    ") as handle:\n",
    "    pickle.dump(filtered_factor_to_go, handle, protocol=pickle.HIGHEST_PROTOCOL)"
   ]
  }
 ],
 "metadata": {
  "kernelspec": {
   "display_name": "pertspectra",
   "language": "python",
   "name": "pertspectra"
  },
  "language_info": {
   "codemirror_mode": {
    "name": "ipython",
    "version": 3
   },
   "file_extension": ".py",
   "mimetype": "text/x-python",
   "name": "python",
   "nbconvert_exporter": "python",
   "pygments_lexer": "ipython3",
   "version": "3.11.0"
  }
 },
 "nbformat": 4,
 "nbformat_minor": 5
}
