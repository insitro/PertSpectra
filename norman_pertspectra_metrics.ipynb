{
 "cells": [
  {
   "cell_type": "code",
   "execution_count": 1,
   "id": "b8270f66-7a27-4263-aa97-25abeb2cf34d",
   "metadata": {},
   "outputs": [],
   "source": [
    "%load_ext autoreload\n",
    "%autoreload 2 "
   ]
  },
  {
   "cell_type": "code",
   "execution_count": 2,
   "id": "529f64f3-c83e-481d-872c-df89b9dd063b",
   "metadata": {},
   "outputs": [],
   "source": [
    "import pickle\n",
    "\n",
    "import matplotlib.pyplot as plt\n",
    "import numpy as np\n",
    "import pandas as pd\n",
    "import seaborn as sns\n",
    "\n",
    "from utils import (\n",
    "    auprc,\n",
    "    factor_enrichment_gsea,\n",
    "    generate_k_fold,\n",
    "    get_gprofiler,\n",
    "    perturbation_signal_recovery,\n",
    "    read_aws_csv,\n",
    "    read_aws_h5ad,\n",
    "    read_aws_pickle,\n",
    "    retrieve_stringdb_neighbors,\n",
    ")"
   ]
  },
  {
   "cell_type": "code",
   "execution_count": 3,
   "id": "e6ad83c5-40dc-4f4e-8412-3e8fcdf847fa",
   "metadata": {},
   "outputs": [],
   "source": [
    "# read in trained model outputs generated from ./PertSpectra_load_checkpoints/pertspectra_norman.ipynb\n",
    "adata = read_aws_h5ad(\n",
    "    \"s3://pert-spectra/PertSpectra_checkpoints/pertspectra_norman/fold_0.h5ad\"\n",
    ")"
   ]
  },
  {
   "cell_type": "markdown",
   "id": "5b7bf773-5e0c-43b8-8df2-4ce3376be959",
   "metadata": {},
   "source": [
    "# Reconstruction"
   ]
  },
  {
   "cell_type": "markdown",
   "id": "3b4b092b-2120-48c6-a492-84656e8b7169",
   "metadata": {},
   "source": [
    "## Spearman Coefficient\n",
    "- Spearman correlation between predicted and observed expression of test set\n",
    "- Compute correlation for the mean expression aggregated on perturbation, across all kfolds"
   ]
  },
  {
   "cell_type": "code",
   "execution_count": 7,
   "id": "e2885bd3-5433-47d6-88d5-47be83df5b5a",
   "metadata": {},
   "outputs": [],
   "source": [
    "n_folds = 5\n",
    "model_adatas = []\n",
    "for n in range(0, n_folds):\n",
    "    # new adata\n",
    "    adata_n = adata.copy()\n",
    "    # load model from checkpoint\n",
    "    s3_dir = \"s3://pert-spectra/PertSpectra_checkpoints/\"\n",
    "    experiment_name = \"pertspectra_norman/\"\n",
    "    model_name = f\"fold_{n}.h5ad\"\n",
    "    m_adata = read_aws_h5ad(s3_dir + experiment_name + model_name)\n",
    "    model_adatas.append(m_adata)"
   ]
  },
  {
   "cell_type": "code",
   "execution_count": 8,
   "id": "c6d0cd6c-c29b-4fa1-98f2-e31e7f5eefa1",
   "metadata": {},
   "outputs": [],
   "source": [
    "# iterate through all models and get the losses and correlations\n",
    "# take the mean loss and correlation for the test set\n",
    "from scipy.stats import spearmanr\n",
    "\n",
    "test_corr_singles = []\n",
    "test_corr_combos = []\n",
    "\n",
    "\n",
    "for n in range(n_folds):\n",
    "    adata_n = model_adatas[n]\n",
    "    train_idx, val_idx, test_idx = generate_k_fold(\n",
    "        adata_n,\n",
    "        adata_n.X,\n",
    "        adata_n.obs[\"perturbation_name\"],\n",
    "        fold_idx=n,\n",
    "        perturbation_key=\"perturbation_name\",\n",
    "    )\n",
    "    loss_weights = np.ones(adata_n.shape[0])\n",
    "    adata_test = adata_n[test_idx]\n",
    "\n",
    "    for pert in adata_test.obs[\"perturbation_name\"].unique():\n",
    "        hold_idx = [\n",
    "            i for i, x in enumerate(adata_test.obs[\"perturbation_name\"]) if x == pert\n",
    "        ]\n",
    "        recon = adata_test[hold_idx].uns[\"recon\"]\n",
    "        # correlation\n",
    "        mean_reconstruction = recon.mean(axis=0)\n",
    "        mean_observed = np.squeeze(np.array(adata_test[hold_idx].X.mean(axis=0)))\n",
    "        if (\"+\" in pert) and (\"ctrl\" not in pert):\n",
    "            test_corr_combos.append(\n",
    "                [pert, spearmanr(mean_reconstruction, mean_observed)[0], n]\n",
    "            )\n",
    "        else:\n",
    "            test_corr_singles.append(\n",
    "                [pert, spearmanr(mean_reconstruction, mean_observed)[0], n]\n",
    "            )"
   ]
  },
  {
   "cell_type": "code",
   "execution_count": 9,
   "id": "c46c85fa-1d93-4baf-9226-6b4423a8c054",
   "metadata": {},
   "outputs": [
    {
     "data": {
      "image/png": "[encoded data removed]",
      "text/plain": [
       "<Figure size 640x480 with 1 Axes>"
      ]
     },
     "metadata": {},
     "output_type": "display_data"
    }
   ],
   "source": [
    "# plot train correlation distribution vs test correlation distribution\n",
    "test_corr = np.array(test_corr_singles + test_corr_combos)[:, 1].astype(float)\n",
    "sns.histplot(test_corr, label=\"test_corr\")\n",
    "plt.title(\"Correlation between predicted and observed expression per perturbation\")\n",
    "plt.xlabel(\"Spearman Correlation\")\n",
    "plt.show()"
   ]
  },
  {
   "cell_type": "code",
   "execution_count": 8,
   "id": "f5ff3e3c-db63-41e3-be86-e2b45ef46b1e",
   "metadata": {},
   "outputs": [],
   "source": [
    "np.savetxt(\n",
    "    \"figures/reconstruction_spearmans/pertspectra_norman_spearman_correlations.csv\",\n",
    "    test_corr,\n",
    "    delimiter=\",\",\n",
    "    fmt=\"%.2f\",\n",
    ")"
   ]
  },
  {
   "cell_type": "markdown",
   "id": "64fc0b35-f87e-4d8a-87f1-e6080a3ee83f",
   "metadata": {},
   "source": [
    "# Perturbation Embedding Heatmap"
   ]
  },
  {
   "cell_type": "markdown",
   "id": "c36ebe2b-2835-44ed-9f71-a52b522125b1",
   "metadata": {},
   "source": [
    "## Hierarchical Clustering + Enrichment\n",
    "- Perform enrichment tests (gprofiler) on hierarchical clustering of perturbation embeddings"
   ]
  },
  {
   "cell_type": "code",
   "execution_count": null,
   "id": "ebf9b816-2a19-44f0-ae84-ab1e041edc65",
   "metadata": {},
   "outputs": [],
   "source": [
    "from scipy.cluster.hierarchy import dendrogram, fcluster, linkage\n",
    "from scipy.spatial.distance import pdist, squareform\n",
    "\n",
    "# Compute the pairwise distances\n",
    "pert_embeddings_df = pd.DataFrame(\n",
    "    adata.uns[\"SPECTRA_pert_scores\"], index=adata.uns[\"Spectra_pert_labels\"]\n",
    ")\n",
    "df = pert_embeddings_df.drop(index=[\"basal\", \"ctrl\"])\n",
    "\n",
    "distance = \"euclidean\"\n",
    "distances = pdist(df.values, metric=distance)\n",
    "\n",
    "# Convert the distances into a square distance matrix\n",
    "distance_matrix = pd.DataFrame(squareform(distances), index=df.index, columns=df.index)\n",
    "# distance_matrix = (distance_matrix - distance_matrix.min()) / (distance_matrix.max() - distance_matrix.min())\n",
    "\n",
    "# Compute the linkage matrix using the condensed distance matrix\n",
    "linkage_matrix = linkage(distance_matrix, method=\"ward\")\n",
    "\n",
    "# Plot the dendrogram (optional)\n",
    "dendro = dendrogram(linkage_matrix, no_plot=True)\n",
    "\n",
    "# Assign clusters\n",
    "max_d = 0.09\n",
    "clusters = fcluster(linkage_matrix, max_d, criterion=\"distance\")\n",
    "\n",
    "# Create a color palette for clusters\n",
    "palette = sns.color_palette(\"husl\", len(np.unique(clusters)))\n",
    "\n",
    "# Map each cluster id to a color\n",
    "cluster_colors = [palette[i - 1] for i in clusters]\n",
    "\n",
    "# Show the plot\n",
    "plt.show()\n",
    "\n",
    "clustermap = sns.clustermap(\n",
    "    distance_matrix, cmap=\"viridis_r\", row_colors=cluster_colors\n",
    ")\n",
    "clustermap.fig.suptitle(f\"Pairwise {distance} distance of perturbation latent vectors\")\n",
    "# clustermap.ax_row_dendrogram.set_visible(False)\n",
    "clustermap.ax_col_dendrogram.set_visible(False)\n",
    "clustermap.cax.set_visible(False)\n",
    "plt.show()"
   ]
  },
  {
   "cell_type": "code",
   "execution_count": 11,
   "id": "2fabc196-a8ff-4660-af5a-0d2b8ebb1804",
   "metadata": {},
   "outputs": [],
   "source": [
    "# extract clusters and perform gprofiler\n",
    "index_names = list(distance_matrix.index)\n",
    "cluster_df = pd.DataFrame({\"Pert\": index_names, \"Cluster\": clusters})\n",
    "cluster_process = {}\n",
    "for cluster_id in np.unique(clusters):\n",
    "    points_in_cluster = cluster_df[cluster_df[\"Cluster\"] == cluster_id][\"Pert\"].tolist()\n",
    "    gprofiler_in = pd.DataFrame(points_in_cluster, columns=[\"gene_symbol\"])\n",
    "    res = get_gprofiler(gprofiler_in)\n",
    "    cluster_process[cluster_id] = res[res[\"p_value\"] <= 0.05]"
   ]
  },
  {
   "cell_type": "code",
   "execution_count": null,
   "id": "1d6d8eae-7390-49c1-bc1c-62b35882406e",
   "metadata": {},
   "outputs": [],
   "source": [
    "# Create descriptions for each cluster (for demonstration purpose)\n",
    "cluster_descriptions = {\n",
    "    1: \"Developmental processes, kinase activity\",\n",
    "    2: \"Tyrosine phosphatase activity\",\n",
    "    3: \"Transcription factor activity, DNA binding\",\n",
    "    4: \"Embryonic development\",\n",
    "    5: \"No signficant gprofiler hits\",\n",
    "    6: \"Kinase inhibitor activity\",\n",
    "    7: \"No signficant gprofiler hits\",\n",
    "    8: \"Embryonic morphogenesis\",\n",
    "    9: \"DNA-binding transcription activator\",\n",
    "    10: \"RNA polymerase II transcription regulation\",\n",
    "    11: \"C/EBP complex\",\n",
    "}\n",
    "\n",
    "# Create a consistent color palette\n",
    "unique_clusters = sorted(np.unique(clusters))\n",
    "palette = sns.color_palette(\"husl\", len(unique_clusters))\n",
    "cluster_colors = [palette[i - 1] for i in clusters]\n",
    "cluster_colors = {cid: palette[i] for i, cid in enumerate(unique_clusters)}\n",
    "\n",
    "# Create clustermap using consistent colors\n",
    "row_colors = [cluster_colors[cid] for cid in clusters]\n",
    "clustermap = sns.clustermap(\n",
    "    distance_matrix, cmap=\"viridis_r\", row_colors=[palette[i - 1] for i in clusters]\n",
    ")\n",
    "clustermap.ax_row_dendrogram.set_visible(False)\n",
    "# clustermap.ax_col_dendrogram.set_visible(False)\n",
    "clustermap.savefig(\n",
    "    \"figures/figure_pngs/pertspectra_norman_clustermap.png\",\n",
    "    dpi=600,\n",
    "    bbox_inches=\"tight\",\n",
    ")\n",
    "\n",
    "# Prepare data for the table\n",
    "cluster_data = {\n",
    "    \"Cluster ID\": unique_clusters,\n",
    "    \"Description\": [cluster_descriptions[cid] for cid in unique_clusters],\n",
    "}\n",
    "\n",
    "cluster_df = pd.DataFrame(cluster_data)\n",
    "\n",
    "# Plot the table with colors matching the clustermap\n",
    "fig, ax = plt.subplots(figsize=(12, 4))\n",
    "ax.axis(\"off\")\n",
    "ax.axis(\"tight\")\n",
    "\n",
    "# Create table while applying the color to the row background\n",
    "table = ax.table(\n",
    "    cellText=cluster_df.values,\n",
    "    colLabels=[\"Cluster ID\", \"Description\"],\n",
    "    cellColours=[[cluster_colors[cid]] * 2 for cid in cluster_df[\"Cluster ID\"]],\n",
    "    cellLoc=\"center\",\n",
    "    loc=\"center\",\n",
    ")\n",
    "\n",
    "# Customize table appearance\n",
    "table.auto_set_font_size(False)\n",
    "table.set_fontsize(10)\n",
    "table.scale(1, 1.5)\n",
    "\n",
    "plt.savefig(\n",
    "    \"figures/figure_pngs/pertspectra_norman_clustermap_descriptions.png\",\n",
    "    dpi=600,\n",
    "    bbox_inches=\"tight\",\n",
    ")\n",
    "plt.show()"
   ]
  },
  {
   "cell_type": "code",
   "execution_count": 181,
   "id": "ee08b960-8bb8-4013-ac51-15196d579af7",
   "metadata": {},
   "outputs": [],
   "source": [
    "# save\n",
    "with open(\n",
    "    \"figures/pert_embedding_cluster_gprofiler/MODEL_norman_pert_emb_gprofiler.pickle\",\n",
    "    \"wb\",\n",
    ") as handle:\n",
    "    pickle.dump(cluster_process, handle, protocol=pickle.HIGHEST_PROTOCOL)"
   ]
  },
  {
   "cell_type": "markdown",
   "id": "efbb23aa-4769-446b-a189-1106752453b3",
   "metadata": {},
   "source": [
    "## PR Curve+AUC\n",
    "- AUCPR using prior graph as binary label"
   ]
  },
  {
   "cell_type": "code",
   "execution_count": 12,
   "id": "33be8fb8-a88c-4718-a38e-7569aa58740d",
   "metadata": {},
   "outputs": [
    {
     "name": "stdout",
     "output_type": "stream",
     "text": [
      "               AUC\n",
      "StringDB  0.753048\n",
      "CORUM     0.946676\n",
      "                F1  Threshold\n",
      "StringDB  0.829457   0.973018\n",
      "CORUM     0.972222   1.000000\n"
     ]
    }
   ],
   "source": [
    "aucpr_df, f1_df, pr_dict = auprc(distance_matrix)\n",
    "print(aucpr_df)\n",
    "print(f1_df)\n",
    "aucpr_df.to_csv(\"figures/pert_embedding_recall/pertspectra_norman_aucpr.csv\")\n",
    "f1_df.to_csv(\"figures/pert_embedding_recall/pertspectra_norman_f1.csv\")"
   ]
  },
  {
   "cell_type": "code",
   "execution_count": 13,
   "id": "7cd2b514-5abb-4060-b0e0-a7a854ccf942",
   "metadata": {},
   "outputs": [
    {
     "data": {
      "image/png": "[encoded data removed]",
      "text/plain": [
       "<Figure size 800x600 with 1 Axes>"
      ]
     },
     "metadata": {},
     "output_type": "display_data"
    }
   ],
   "source": [
    "prior = \"StringDB\"\n",
    "sns.set(style=\"whitegrid\")\n",
    "\n",
    "plt.figure(figsize=(8, 6))\n",
    "sns.lineplot(\n",
    "    x=pr_dict[prior][\"recall\"],\n",
    "    y=pr_dict[prior][\"precision\"],\n",
    "    marker=\"o\",\n",
    "    label=\"Precision-Recall Curve\",\n",
    ")\n",
    "\n",
    "# Add labels and title\n",
    "plt.xlabel(\"Recall\")\n",
    "plt.ylabel(\"Precision\")\n",
    "plt.title(\"Norman: StringDB Precision-Recall Curve for PertSpectra\")\n",
    "plt.legend().set_visible(False)\n",
    "plt.show()"
   ]
  },
  {
   "cell_type": "markdown",
   "id": "8fdff66a-8f20-4268-8520-d33a0fa4969a",
   "metadata": {},
   "source": [
    "# Interpretability of our learned latent space"
   ]
  },
  {
   "cell_type": "markdown",
   "id": "1ec54f80-8a0f-41f0-8c55-edd2b1fbfb3c",
   "metadata": {},
   "source": [
    "## Factor Enrichment\n",
    "- GSEA on log transformed latent-by-gene factors\n",
    "- Then associate each perturbation to its top latent factors"
   ]
  },
  {
   "cell_type": "code",
   "execution_count": null,
   "id": "35eb8169-15b1-4b5b-b926-d5b7238f372a",
   "metadata": {},
   "outputs": [
    {
     "name": "stderr",
     "output_type": "stream",
     "text": [
      "2024-12-13 18:26:07,684 [INFO] Parsing data files for GSEA.............................\n",
      "2024-12-13 18:26:07,780 [INFO] 17889 gene_sets have been filtered out when max_size=300 and min_size=10\n",
      "2024-12-13 18:26:07,781 [INFO] 1096 gene_sets used for further statistical testing.....\n",
      "2024-12-13 18:26:07,781 [INFO] Start to run GSEA...Might take a while..................\n",
      "2024-12-13 18:26:35,994 [INFO] Congratulations. GSEApy runs successfully................\n",
      "\n"
     ]
    },
    {
     "name": "stdout",
     "output_type": "stream",
     "text": [
      "163\n"
     ]
    },
    {
     "name": "stderr",
     "output_type": "stream",
     "text": [
      "2024-12-13 18:26:38,066 [INFO] Parsing data files for GSEA.............................\n",
      "2024-12-13 18:26:38,167 [INFO] 17889 gene_sets have been filtered out when max_size=300 and min_size=10\n",
      "2024-12-13 18:26:38,168 [INFO] 1096 gene_sets used for further statistical testing.....\n",
      "2024-12-13 18:26:38,169 [INFO] Start to run GSEA...Might take a while..................\n",
      "2024-12-13 18:27:06,036 [INFO] Congratulations. GSEApy runs successfully................\n",
      "\n"
     ]
    },
    {
     "name": "stdout",
     "output_type": "stream",
     "text": [
      "298\n"
     ]
    },
    {
     "name": "stderr",
     "output_type": "stream",
     "text": [
      "2024-12-13 18:27:08,089 [WARNING] Duplicated values found in preranked stats: 0.02% of genes\n",
      "The order of those genes will be arbitrary, which may produce unexpected results.\n",
      "2024-12-13 18:27:08,090 [INFO] Parsing data files for GSEA.............................\n",
      "2024-12-13 18:27:08,186 [INFO] 17889 gene_sets have been filtered out when max_size=300 and min_size=10\n",
      "2024-12-13 18:27:08,187 [INFO] 1096 gene_sets used for further statistical testing.....\n"
     ]
    }
   ],
   "source": [
    "factor_to_go = factor_enrichment_gsea(adata, adata.uns[\"SPECTRA_factors\"], fdr=5e-2)"
   ]
  },
  {
   "cell_type": "code",
   "execution_count": null,
   "id": "814189ce-53f3-4716-834a-a4f0ea6efcf9",
   "metadata": {},
   "outputs": [],
   "source": [
    "# filter and add description to processes\n",
    "go_df = read_aws_csv(\"s3://pert-spectra/references/GO_to_Description.txt\")\n",
    "go_df.set_index(\"Term\", inplace=True)\n",
    "go_dict = go_df.to_dict()[\"Description\"]\n",
    "\n",
    "filtered_factor_to_go = {}\n",
    "for i in factor_to_go:\n",
    "    proc = factor_to_go[i]\n",
    "    proc[\"descr\"] = [go_dict[x] for x in proc[\"GO_ID\"]]\n",
    "    filtered_factor_to_go[i] = proc"
   ]
  },
  {
   "cell_type": "code",
   "execution_count": null,
   "id": "fc5264d2-0934-40e3-a209-7e318a46a583",
   "metadata": {},
   "outputs": [],
   "source": [
    "with open(\n",
    "    \"figures/factor_enrichments/pertspectra_norman_factor_enrichment.pickle\", \"wb\"\n",
    ") as handle:\n",
    "    pickle.dump(filtered_factor_to_go, handle, protocol=pickle.HIGHEST_PROTOCOL)"
   ]
  },
  {
   "cell_type": "markdown",
   "id": "b6af72e5-1c50-48d1-8e59-9702b8b3a85d",
   "metadata": {},
   "source": [
    "## Proposed Metric 2 continued: Overlap with prior knowledge/ground truth (stringdb)\n",
    "- Group A: a set of GO terms associated with a perturbation (either drivers from msigdb, or from literature) and its neighbors in stringdb\n",
    "- Group B: a set of GO terms from the interpretability analysis\n",
    "- Hypergeometric test on the overlap of the two groups"
   ]
  },
  {
   "cell_type": "code",
   "execution_count": 15,
   "id": "f5b8dcc5-32bf-42d3-9ce9-3f1bbe5bf530",
   "metadata": {},
   "outputs": [],
   "source": [
    "# load precomputed factor_to_go dict if available\n",
    "filtered_factor_to_go = read_aws_pickle(\n",
    "    \"s3://pert-spectra/figures/factor_enrichments/pertspectra_norman_factor_enrichment.pickle\"\n",
    ")"
   ]
  },
  {
   "cell_type": "code",
   "execution_count": 17,
   "id": "31343240-e846-45a8-89f9-0734617a8b09",
   "metadata": {
    "scrolled": true
   },
   "outputs": [],
   "source": [
    "# get neighbors for each perturbation\n",
    "pert_neighbors = retrieve_stringdb_neighbors(adata.uns[\"Spectra_pert_labels\"])"
   ]
  },
  {
   "cell_type": "code",
   "execution_count": 18,
   "id": "8bfb16c9-bc3d-4942-a10a-e889ee39f2a4",
   "metadata": {},
   "outputs": [],
   "source": [
    "# construct group A - known processes for each perturbation\n",
    "gene_sets = read_aws_pickle(\"s3://pert-spectra/references/GO_to_Gene.pickle\")\n",
    "# BP only go terms\n",
    "go_reference = read_aws_csv(\"s3://pert-spectra/references/GO_terms.txt.gz\", zipped=True)\n",
    "go_bp = go_reference[go_reference[\"go_category\"] == \"biological_process\"]\n",
    "go_bp_ids = set(go_bp[\"go_id\"].values)\n",
    "filtered_go_terms = {key: gene_sets[key] for key in go_bp_ids if key in gene_sets}\n",
    "\n",
    "# GO terms per perturbation AND its neighbors in stringdb\n",
    "pert_to_go = {key: set() for key in adata.uns[\"Spectra_pert_labels\"]}\n",
    "for goterm in filtered_go_terms:\n",
    "    for pert in adata.uns[\"Spectra_pert_labels\"]:\n",
    "        if pert in filtered_go_terms[goterm] and set(\n",
    "            filtered_go_terms[goterm]\n",
    "        ).intersection(pert_neighbors[pert]):\n",
    "            pert_to_go[pert].add(goterm)"
   ]
  },
  {
   "cell_type": "code",
   "execution_count": 19,
   "id": "b2190d7b-8c1d-4fdb-9ed5-221e715ae099",
   "metadata": {},
   "outputs": [],
   "source": [
    "# construct set B - model identified processes for each perturbation\n",
    "n = 10  # number of top factors to get processes from\n",
    "model_pert_to_go = {}\n",
    "for pert in adata.uns[\"Spectra_pert_labels\"]:\n",
    "    if pert in [\"ctrl\", \"intergenic\", \"basal\"]:\n",
    "        continue\n",
    "    # get top factors\n",
    "    pert_embeddings_df = pd.DataFrame(\n",
    "        adata.uns[\"SPECTRA_pert_scores\"], index=adata.uns[\"Spectra_pert_labels\"]\n",
    "    )\n",
    "    pert_loading = pert_embeddings_df.loc[pert]\n",
    "    ctrl_loading = pert_embeddings_df.loc[\"ctrl\"]\n",
    "    delta_loading = np.abs(np.log(pert_loading) - np.log(ctrl_loading))\n",
    "    top_n_factors = np.argpartition(np.array(delta_loading), -n)[-n:]\n",
    "    # get processes\n",
    "    model_processes = set()\n",
    "    for f in top_n_factors:\n",
    "        proc = filtered_factor_to_go[f]\n",
    "        model_processes = model_processes.union(set(proc[\"Term\"]))\n",
    "    model_pert_to_go[pert] = model_processes"
   ]
  },
  {
   "cell_type": "code",
   "execution_count": 20,
   "id": "daa45a87-632e-46f7-8caf-c1de5463c5dc",
   "metadata": {
    "scrolled": true
   },
   "outputs": [
    {
     "name": "stdout",
     "output_type": "stream",
     "text": [
      "Overlap for AHR: 8 out of 12 in researchDB\n",
      "P-value for AHR: 4.845823421588032e-12\n",
      "Overlap for ARID1A: 1 out of 16 in researchDB\n",
      "P-value for ARID1A: 0.18058513844900828\n",
      "Overlap for BAK1: 4 out of 43 in researchDB\n",
      "P-value for BAK1: 8.604968054508552e-05\n",
      "Overlap for BCL2L11: 5 out of 29 in researchDB\n",
      "P-value for BCL2L11: 3.511897516201057e-05\n",
      "Overlap for CBL: 4 out of 28 in researchDB\n",
      "P-value for CBL: 0.00015631895405348394\n",
      "Overlap for CDKN1A: 15 out of 37 in researchDB\n",
      "P-value for CDKN1A: 9.94025808969477e-20\n",
      "Overlap for CDKN1B: 13 out of 38 in researchDB\n",
      "P-value for CDKN1B: 4.2909462790682503e-16\n",
      "Overlap for CDKN1C: 4 out of 15 in researchDB\n",
      "P-value for CDKN1C: 2.365186115944503e-05\n",
      "Overlap for CEBPA: 7 out of 34 in researchDB\n",
      "P-value for CEBPA: 2.2822948081394184e-08\n",
      "Overlap for CEBPB: 10 out of 33 in researchDB\n",
      "P-value for CEBPB: 5.670390667165458e-13\n",
      "Overlap for CEBPE: 2 out of 9 in researchDB\n",
      "P-value for CEBPE: 0.0017532384752871838\n",
      "Overlap for CITED1: 7 out of 14 in researchDB\n",
      "P-value for CITED1: 1.7522486320600642e-10\n",
      "Overlap for COL1A1: 10 out of 29 in researchDB\n",
      "P-value for COL1A1: 1.171842110722407e-11\n",
      "Overlap for COL2A1: 1 out of 12 in researchDB\n",
      "P-value for COL2A1: 0.06012023574110627\n",
      "Overlap for DUSP9: 2 out of 5 in researchDB\n",
      "P-value for DUSP9: 0.00153909025679683\n",
      "Overlap for EGR1: 7 out of 18 in researchDB\n",
      "P-value for EGR1: 4.6232048631669204e-10\n",
      "Overlap for ETS2: 0 out of 5 in researchDB\n",
      "P-value for ETS2: 1.0\n",
      "Overlap for FOSB: 8 out of 11 in researchDB\n",
      "P-value for FOSB: 2.821729541176879e-10\n",
      "Overlap for FOXA1: 7 out of 15 in researchDB\n",
      "P-value for FOXA1: 2.2846765707660486e-10\n",
      "Overlap for FOXL2: 4 out of 7 in researchDB\n",
      "P-value for FOXL2: 1.9453990596871714e-07\n",
      "Overlap for FOXO4: 3 out of 8 in researchDB\n",
      "P-value for FOXO4: 8.312021414586989e-05\n",
      "Overlap for HK2: 0 out of 13 in researchDB\n",
      "P-value for HK2: 1.0\n",
      "Overlap for HNF4A: 8 out of 18 in researchDB\n",
      "P-value for HNF4A: 2.964510745573481e-11\n",
      "Overlap for IKZF3: 2 out of 6 in researchDB\n",
      "P-value for IKZF3: 0.0011041577637246342\n",
      "Overlap for IRF1: 7 out of 19 in researchDB\n",
      "P-value for IRF1: 3.2140371659103896e-11\n",
      "Overlap for JUN: 14 out of 38 in researchDB\n",
      "P-value for JUN: 3.3731394971336345e-20\n",
      "Overlap for KIF18B: 2 out of 5 in researchDB\n",
      "P-value for KIF18B: 0.0009097386111233253\n",
      "Overlap for KIF2C: 2 out of 8 in researchDB\n",
      "P-value for KIF2C: 0.006701346521695229\n",
      "Overlap for KMT2A: 4 out of 14 in researchDB\n",
      "P-value for KMT2A: 1.0435444603803768e-06\n",
      "Overlap for LHX1: 4 out of 15 in researchDB\n",
      "P-value for LHX1: 6.9312991269755605e-06\n",
      "Overlap for MAP2K3: 14 out of 18 in researchDB\n",
      "P-value for MAP2K3: 1.6969977201863256e-18\n",
      "Overlap for MAP2K6: 13 out of 21 in researchDB\n",
      "P-value for MAP2K6: 3.9511035294897324e-15\n",
      "Overlap for MAPK1: 6 out of 55 in researchDB\n",
      "P-value for MAPK1: 9.632130141049859e-06\n",
      "Overlap for MEIS1: 3 out of 11 in researchDB\n",
      "P-value for MEIS1: 0.00011537613165619079\n",
      "Overlap for NCL: 2 out of 8 in researchDB\n",
      "P-value for NCL: 0.004359967761603796\n",
      "Overlap for PLK4: 1 out of 5 in researchDB\n",
      "P-value for PLK4: 0.05842913374150724\n",
      "Overlap for POU3F2: 2 out of 9 in researchDB\n",
      "P-value for POU3F2: 0.0021589123872628973\n",
      "Overlap for PTPN1: 1 out of 14 in researchDB\n",
      "P-value for PTPN1: 0.13016740932186296\n",
      "Overlap for PTPN12: 1 out of 5 in researchDB\n",
      "P-value for PTPN12: 0.03477850399423442\n",
      "Overlap for S1PR2: 1 out of 5 in researchDB\n",
      "P-value for S1PR2: 0.05691742035245258\n",
      "Overlap for SGK1: 6 out of 17 in researchDB\n",
      "P-value for SGK1: 3.3205018690768594e-08\n",
      "Overlap for SLC38A2: 0 out of 11 in researchDB\n",
      "P-value for SLC38A2: 1.0\n",
      "Overlap for SNAI1: 3 out of 13 in researchDB\n",
      "P-value for SNAI1: 0.0001730097629803037\n",
      "Overlap for SPI1: 5 out of 25 in researchDB\n",
      "P-value for SPI1: 3.2646388203028726e-06\n",
      "Overlap for STIL: 3 out of 13 in researchDB\n",
      "P-value for STIL: 0.001438174753528276\n",
      "Overlap for TBX2: 4 out of 8 in researchDB\n",
      "P-value for TBX2: 4.942710375809906e-07\n",
      "Overlap for TBX3: 6 out of 14 in researchDB\n",
      "P-value for TBX3: 1.0268128265777117e-09\n",
      "Overlap for TGFBR2: 13 out of 55 in researchDB\n",
      "P-value for TGFBR2: 2.400695076793383e-16\n",
      "Overlap for TP73: 10 out of 17 in researchDB\n",
      "P-value for TP73: 3.454158558799769e-16\n"
     ]
    }
   ],
   "source": [
    "pvals = perturbation_signal_recovery(\n",
    "    pert_to_go,\n",
    "    model_pert_to_go,\n",
    "    list(filtered_go_terms.keys()),\n",
    "    list(adata.uns[\"Spectra_pert_labels\"]),\n",
    ")"
   ]
  },
  {
   "cell_type": "code",
   "execution_count": 19,
   "id": "85bc6476-2818-40b0-b187-02671693cb8f",
   "metadata": {},
   "outputs": [],
   "source": [
    "# save as csv for visualization\n",
    "pd.DataFrame.from_dict(data=pvals, orient=\"index\").to_csv(\n",
    "    \"figures/process_recovery_hypergeo_pvals/pertspectra_norman_hypergeo_neighbors_recovery_pvalues.csv\",\n",
    "    header=False,\n",
    ")"
   ]
  },
  {
   "cell_type": "code",
   "execution_count": null,
   "id": "78d8aaed-10e6-49fd-a838-70839e8b2561",
   "metadata": {},
   "outputs": [],
   "source": []
  }
 ],
 "metadata": {
  "kernelspec": {
   "display_name": "pertspectra",
   "language": "python",
   "name": "pertspectra"
  },
  "language_info": {
   "codemirror_mode": {
    "name": "ipython",
    "version": 3
   },
   "file_extension": ".py",
   "mimetype": "text/x-python",
   "name": "python",
   "nbconvert_exporter": "python",
   "pygments_lexer": "ipython3",
   "version": "3.11.0"
  }
 },
 "nbformat": 4,
 "nbformat_minor": 5
}
