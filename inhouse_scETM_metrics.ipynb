{
 "cells": [
  {
   "cell_type": "code",
   "execution_count": 1,
   "id": "b8270f66-7a27-4263-aa97-25abeb2cf34d",
   "metadata": {},
   "outputs": [],
   "source": [
    "%load_ext autoreload\n",
    "%autoreload 2 "
   ]
  },
  {
   "cell_type": "code",
   "execution_count": 2,
   "id": "529f64f3-c83e-481d-872c-df89b9dd063b",
   "metadata": {},
   "outputs": [],
   "source": [
    "import pickle\n",
    "\n",
    "import matplotlib.pyplot as plt\n",
    "import numpy as np\n",
    "import pandas as pd\n",
    "import seaborn as sns\n",
    "\n",
    "from utils import (\n",
    "    auprc,\n",
    "    factor_enrichment_gsea,\n",
    "    get_gprofiler,\n",
    "    read_aws_csv,\n",
    "    read_aws_h5ad,\n",
    ")"
   ]
  },
  {
   "cell_type": "code",
   "execution_count": 4,
   "id": "d15b3b79-f031-4029-b4cc-3085534cf1ed",
   "metadata": {},
   "outputs": [],
   "source": [
    "# read in scETM results\n",
    "adata = read_aws_h5ad(\"s3://pert-spectra/scETM_checkpoints/scetm_inhouse/fold_0.h5ad\")\n",
    "# read in pertspectra results to retrieve gene labels\n",
    "ref_adata = read_aws_h5ad(\n",
    "    \"s3://pert-spectra/PertSpectra_checkpoints/pertspectra_inhouse/fold_0.h5ad\"\n",
    ")\n",
    "adata.var_names = ref_adata.var_names"
   ]
  },
  {
   "cell_type": "markdown",
   "id": "5b7bf773-5e0c-43b8-8df2-4ce3376be959",
   "metadata": {},
   "source": [
    "# Reconstruction"
   ]
  },
  {
   "cell_type": "markdown",
   "id": "3b4b092b-2120-48c6-a492-84656e8b7169",
   "metadata": {},
   "source": [
    "## Spearman Coefficient\n",
    "- Spearman correlation between predicted and observed expression of test set\n",
    "- Compute correlation for the mean expression aggregated on perturbation, across all kfolds"
   ]
  },
  {
   "cell_type": "code",
   "execution_count": 5,
   "id": "e2885bd3-5433-47d6-88d5-47be83df5b5a",
   "metadata": {},
   "outputs": [],
   "source": [
    "n_folds = 5\n",
    "model_adatas = []\n",
    "for n in range(0, n_folds):\n",
    "    # new adata\n",
    "    adata_n = adata.copy()\n",
    "    # load model from checkpoint\n",
    "    s3_dir = \"s3://pert-spectra/scETM_checkpoints/\"\n",
    "    experiment_name = \"scetm_inhouse/\"\n",
    "    model_name = f\"fold_{n}.h5ad\"\n",
    "    m_adata = read_aws_h5ad(s3_dir + experiment_name + model_name)\n",
    "    model_adatas.append(m_adata)"
   ]
  },
  {
   "cell_type": "code",
   "execution_count": 6,
   "id": "e0c30413-c2c1-4058-b3bf-4dc74437c0dd",
   "metadata": {},
   "outputs": [],
   "source": [
    "# iterate through all models and get the losses and correlations\n",
    "# take the mean loss and correlation for the test set\n",
    "from scipy.stats import spearmanr\n",
    "\n",
    "test_corr_singles = []\n",
    "test_corr_combos = []\n",
    "\n",
    "for n in range(n_folds):\n",
    "    adata_n = model_adatas[n]\n",
    "    loss_weights = np.ones(adata_n.shape[0])\n",
    "\n",
    "    for pert in adata_n.obs[\"condition\"].unique():\n",
    "        hold_idx = [\n",
    "            i\n",
    "            for i, x in enumerate(\n",
    "                adata_n[adata_n.obs[\"Treatment\"] == \"TNFA+\"].obs[\"condition\"]\n",
    "            )\n",
    "            if x == pert\n",
    "        ]\n",
    "        recon = adata_n[adata_n.obs[\"Treatment\"] == \"TNFA+\"][hold_idx].uns[\"recon\"]\n",
    "        # correlation\n",
    "        mean_reconstruction = recon.mean(axis=0)\n",
    "        mean_observed = np.squeeze(\n",
    "            np.array(\n",
    "                adata_n[adata_n.obs[\"Treatment\"] == \"TNFA+\"][hold_idx].X.mean(axis=0)\n",
    "            )\n",
    "        )\n",
    "        if (\"+\" in pert) and (\"ctrl\" not in pert):\n",
    "            test_corr_combos.append(\n",
    "                [pert, spearmanr(mean_reconstruction, mean_observed)[0], n]\n",
    "            )\n",
    "        else:\n",
    "            test_corr_singles.append(\n",
    "                [pert, spearmanr(mean_reconstruction, mean_observed)[0], n]\n",
    "            )"
   ]
  },
  {
   "cell_type": "code",
   "execution_count": 7,
   "id": "e61e2799-ed83-421e-86d4-565da4876c10",
   "metadata": {},
   "outputs": [
    {
     "data": {
      "image/png": "[encoded data removed]",
      "text/plain": [
       "<Figure size 640x480 with 1 Axes>"
      ]
     },
     "metadata": {},
     "output_type": "display_data"
    }
   ],
   "source": [
    "# plot train correlation distribution vs test correlation distribution\n",
    "test_corr = np.array(test_corr_singles + test_corr_combos)[:, 1].astype(float)\n",
    "sns.histplot(test_corr, label=\"test_corr\")\n",
    "plt.title(\"Correlation between predicted and observed expression per perturbation\")\n",
    "plt.xlabel(\"Spearman Correlation\")\n",
    "plt.show()"
   ]
  },
  {
   "cell_type": "code",
   "execution_count": 7,
   "id": "4b36f1b2-1b9c-4686-b9fb-43c1d9f64b59",
   "metadata": {},
   "outputs": [],
   "source": [
    "np.savetxt(\n",
    "    \"figures/reconstruction_spearmans/scETM_inhouse_spearman_correlations.csv\",\n",
    "    test_corr,\n",
    "    delimiter=\",\",\n",
    "    fmt=\"%.2f\",\n",
    ")"
   ]
  },
  {
   "cell_type": "markdown",
   "id": "64fc0b35-f87e-4d8a-87f1-e6080a3ee83f",
   "metadata": {},
   "source": [
    "# Perturbation Embedding Heatmap"
   ]
  },
  {
   "cell_type": "markdown",
   "id": "c36ebe2b-2835-44ed-9f71-a52b522125b1",
   "metadata": {},
   "source": [
    "## Hierarchical Clustering + Enrichment\n",
    "- Perform enrichment tests (gprofiler) on hierarchical clustering of perturbation embeddings"
   ]
  },
  {
   "cell_type": "code",
   "execution_count": null,
   "id": "0aaf8dc3-7e5b-4748-8685-fc8560bf7fc7",
   "metadata": {},
   "outputs": [],
   "source": [
    "from scipy.spatial.distance import pdist, squareform\n",
    "\n",
    "# aggregate cell embeddings to perturbation embeddings\n",
    "cell_emb = adata.uns[\"cell_emb\"] @ adata.uns[\"topics\"]\n",
    "perts = []\n",
    "pert_emb = []\n",
    "for i in adata.obs[\"condition\"].unique():\n",
    "    if \"+\" not in i and i != \"nan\":\n",
    "        perts.append(i)\n",
    "        pert_emb.append(cell_emb[adata.obs[\"condition\"] == i].mean(axis=0))\n",
    "pert_emb = np.array(pert_emb)\n",
    "pert_emb_df = pd.DataFrame(pert_emb, index=perts)\n",
    "\n",
    "# Compute the pairwise distances\n",
    "df = pert_emb_df.drop(index=[\"ctrl\", \"intergenic\"])\n",
    "\n",
    "distance = \"euclidean\"\n",
    "distances = pdist(df.values, metric=distance)\n",
    "\n",
    "# Convert the distances into a square distance matrix\n",
    "distance_matrix = pd.DataFrame(squareform(distances), index=df.index, columns=df.index)\n",
    "clustermap = sns.clustermap(distance_matrix, cmap=\"viridis_r\")\n",
    "clustermap.fig.suptitle(f\"Pairwise {distance} distance of perturbation latent vectors\")\n",
    "# clustermap.ax_row_dendrogram.set_visible(False)\n",
    "clustermap.ax_col_dendrogram.set_visible(False)\n",
    "plt.show()"
   ]
  },
  {
   "cell_type": "code",
   "execution_count": 9,
   "id": "271cd67a-9441-471b-b125-819e8b7b738a",
   "metadata": {},
   "outputs": [
    {
     "data": {
      "image/png": "[encoded data removed]",
      "text/plain": [
       "<Figure size 640x480 with 1 Axes>"
      ]
     },
     "metadata": {},
     "output_type": "display_data"
    }
   ],
   "source": [
    "from scipy.cluster.hierarchy import dendrogram\n",
    "\n",
    "den = dendrogram(\n",
    "    clustermap.dendrogram_col.linkage,\n",
    "    labels=distance_matrix.index,\n",
    "    color_threshold=0.25,\n",
    ")"
   ]
  },
  {
   "cell_type": "code",
   "execution_count": 10,
   "id": "89af6f64-194f-4f1c-a5ed-dafd7243d371",
   "metadata": {},
   "outputs": [],
   "source": [
    "# extract clusters and perform gprofiler\n",
    "from collections import defaultdict\n",
    "\n",
    "\n",
    "def get_cluster_classes(den, label=\"ivl\"):\n",
    "    cluster_idxs = defaultdict(list)\n",
    "    for c, pi in zip(den[\"color_list\"], den[\"icoord\"]):\n",
    "        for leg in pi[1:3]:\n",
    "            i = (leg - 5.0) / 10.0\n",
    "            if abs(i - int(i)) < 1e-5:\n",
    "                cluster_idxs[c].append(int(i))\n",
    "    cluster_classes = {}\n",
    "    for c, l in cluster_idxs.items():  # noqa\n",
    "        i_l = [den[label][i] for i in l]\n",
    "        cluster_classes[c] = i_l\n",
    "    return cluster_classes\n",
    "\n",
    "\n",
    "clusters = get_cluster_classes(den)\n",
    "# extract functions for clusters\n",
    "cluster_process = {}\n",
    "for c in clusters:\n",
    "    cluster_df = pd.DataFrame(clusters[c], columns=[\"gene_symbol\"])\n",
    "    res = get_gprofiler(cluster_df)\n",
    "    cluster_process[c] = res[res[\"p_value\"] <= 0.05]"
   ]
  },
  {
   "cell_type": "code",
   "execution_count": 57,
   "id": "018bb814-e2b1-47a1-8331-22ec810dfeb3",
   "metadata": {},
   "outputs": [],
   "source": [
    "# save grpofiler results\n",
    "with open(\n",
    "    \"figures/pert_embedding_cluster_gprofiler/scETM_inhouse_pert_emb_gprofiler.pickle\",\n",
    "    \"wb\",\n",
    ") as handle:\n",
    "    pickle.dump(cluster_process, handle, protocol=pickle.HIGHEST_PROTOCOL)"
   ]
  },
  {
   "cell_type": "markdown",
   "id": "126853e8-6814-45b0-9420-6b822cb8f42c",
   "metadata": {},
   "source": [
    "## PR Curve+AUC\n",
    "- AUCPR using prior graph as binary label"
   ]
  },
  {
   "cell_type": "code",
   "execution_count": 11,
   "id": "b02b6a47-b384-457b-b9ed-7840807a880e",
   "metadata": {},
   "outputs": [
    {
     "name": "stdout",
     "output_type": "stream",
     "text": [
      "               AUC\n",
      "StringDB  0.573643\n",
      "CORUM     0.520186\n",
      "                F1  Threshold\n",
      "StringDB  0.679641        0.0\n",
      "CORUM     0.630435        0.0\n"
     ]
    }
   ],
   "source": [
    "aucpr_df, f1_df, pr_dict = auprc(distance_matrix)\n",
    "print(aucpr_df)\n",
    "print(f1_df)\n",
    "aucpr_df.to_csv(\"figures/pert_embedding_recall/scETM_inhouse_aucpr.csv\")\n",
    "f1_df.to_csv(\"figures/pert_embedding_recall/scETM_inhouse_f1.csv\")"
   ]
  },
  {
   "cell_type": "markdown",
   "id": "8fdff66a-8f20-4268-8520-d33a0fa4969a",
   "metadata": {},
   "source": [
    "# Interpretability of our learned latent space"
   ]
  },
  {
   "cell_type": "markdown",
   "id": "1ec54f80-8a0f-41f0-8c55-edd2b1fbfb3c",
   "metadata": {},
   "source": [
    "## Factor Enrichment\n",
    "- GSEA on log transformed latent-by-gene factors\n",
    "- Then associate each perturbation to its top latent factors"
   ]
  },
  {
   "cell_type": "code",
   "execution_count": null,
   "id": "35eb8169-15b1-4b5b-b926-d5b7238f372a",
   "metadata": {
    "scrolled": true
   },
   "outputs": [
    {
     "name": "stderr",
     "output_type": "stream",
     "text": [
      "2024-12-30 15:49:36,590 [INFO] Parsing data files for GSEA.............................\n",
      "2024-12-30 15:49:36,656 [INFO] 17782 gene_sets have been filtered out when max_size=300 and min_size=10\n",
      "2024-12-30 15:49:36,657 [INFO] 1203 gene_sets used for further statistical testing.....\n"
     ]
    }
   ],
   "source": [
    "factor_to_go = factor_enrichment_gsea(adata, np.abs(adata.uns[\"gene_emb\"]), fdr=5e-2)"
   ]
  },
  {
   "cell_type": "code",
   "execution_count": null,
   "id": "814189ce-53f3-4716-834a-a4f0ea6efcf9",
   "metadata": {},
   "outputs": [],
   "source": [
    "# filter and add description to processes\n",
    "go_df = read_aws_csv(\"s3://pert-spectra/references/GO_to_Description.txt\")\n",
    "go_df.set_index(\"Term\", inplace=True)\n",
    "go_dict = go_df.to_dict()[\"Description\"]\n",
    "\n",
    "filtered_factor_to_go = {}\n",
    "for i in factor_to_go:\n",
    "    proc = factor_to_go[i]\n",
    "    proc[\"descr\"] = [go_dict[x] for x in proc[\"GO_ID\"]]\n",
    "    filtered_factor_to_go[i] = proc"
   ]
  },
  {
   "cell_type": "code",
   "execution_count": null,
   "id": "4b785ba3-f9c1-4207-b784-1ffe2ba74c30",
   "metadata": {},
   "outputs": [],
   "source": [
    "# save latent enrichment results\n",
    "with open(\n",
    "    \"figures/factor_enrichments/scETM_inhouse_factor_enrichment.pickle\", \"wb\"\n",
    ") as handle:\n",
    "    pickle.dump(filtered_factor_to_go, handle, protocol=pickle.HIGHEST_PROTOCOL)"
   ]
  }
 ],
 "metadata": {
  "kernelspec": {
   "display_name": "pertspectra",
   "language": "python",
   "name": "pertspectra"
  },
  "language_info": {
   "codemirror_mode": {
    "name": "ipython",
    "version": 3
   },
   "file_extension": ".py",
   "mimetype": "text/x-python",
   "name": "python",
   "nbconvert_exporter": "python",
   "pygments_lexer": "ipython3",
   "version": "3.11.0"
  }
 },
 "nbformat": 4,
 "nbformat_minor": 5
}
