{
 "cells": [
  {
   "cell_type": "code",
   "execution_count": 1,
   "id": "b8270f66-7a27-4263-aa97-25abeb2cf34d",
   "metadata": {},
   "outputs": [],
   "source": [
    "%load_ext autoreload\n",
    "%autoreload 2 "
   ]
  },
  {
   "cell_type": "code",
   "execution_count": 2,
   "id": "529f64f3-c83e-481d-872c-df89b9dd063b",
   "metadata": {},
   "outputs": [],
   "source": [
    "import pickle\n",
    "\n",
    "import matplotlib.pyplot as plt\n",
    "import numpy as np\n",
    "import pandas as pd\n",
    "\n",
    "from utils import (\n",
    "    auprc,\n",
    "    factor_enrichment_gsea,\n",
    "    get_gprofiler,\n",
    "    perturbation_signal_recovery,\n",
    "    read_aws_csv,\n",
    "    read_aws_h5ad,\n",
    "    read_aws_npz,\n",
    "    read_aws_pickle,\n",
    "    retrieve_stringdb_neighbors,\n",
    ")"
   ]
  },
  {
   "cell_type": "code",
   "execution_count": 3,
   "id": "39762015-fa94-4ae8-9038-405f7c56a03b",
   "metadata": {},
   "outputs": [],
   "source": [
    "# read learned parameters\n",
    "Z = read_aws_csv(\n",
    "    \"s3://pert-spectra/gsfa_checkpoints/norman_gsfa_outputs/Z.csv\"\n",
    ").to_numpy()\n",
    "W = read_aws_csv(\n",
    "    \"s3://pert-spectra/gsfa_checkpoints/norman_gsfa_outputs/W.csv\"\n",
    ").to_numpy()\n",
    "F = read_aws_csv(\n",
    "    \"s3://pert-spectra/gsfa_checkpoints/norman_gsfa_outputs/F.csv\"\n",
    ").to_numpy()\n",
    "beta = read_aws_csv(\n",
    "    \"s3://pert-spectra/gsfa_checkpoints/norman_gsfa_outputs/beta.csv\"\n",
    ").to_numpy()\n",
    "lsfr = read_aws_csv(\n",
    "    \"s3://pert-spectra/gsfa_checkpoints/norman_gsfa_outputs/lsfr.csv\"\n",
    ").to_numpy()\n",
    "# read gene and perturbation information\n",
    "gene_labels = read_aws_csv(\"s3://pert-spectra/gsfa_checkpoints/norman_top_genes.csv\")[\n",
    "    \"x\"\n",
    "].to_numpy()\n",
    "pert_labels = read_aws_npz(\"s3://pert-spectra/gsfa_checkpoints/norman_G_labels.npz\")[\n",
    "    \"arr_0\"\n",
    "]\n",
    "pert_labels = [x.split(\"_\")[1] for x in pert_labels[:-1]]\n",
    "pert_labels = pert_labels + [\"ctrl\"]\n",
    "# read inputs and preprocessed input\n",
    "preprocessed_Y = read_aws_npz(\n",
    "    \"s3://pert-spectra/gsfa_checkpoints/norman_GSFA_preprocessed.npz\"\n",
    ")[\"array1\"]\n",
    "G = read_aws_npz(\"s3://pert-spectra/gsfa_checkpoints/norman_GSFA_inputs.npz\")[\"array2\"]"
   ]
  },
  {
   "cell_type": "code",
   "execution_count": 4,
   "id": "601bbfb0-17ed-4694-850c-fcbf1fef961b",
   "metadata": {},
   "outputs": [],
   "source": [
    "# read in adata of raw data for reference\n",
    "adata = read_aws_h5ad(\"path to raw Norman adata here\")\n",
    "adata = adata[:, gene_labels - 1]"
   ]
  },
  {
   "cell_type": "code",
   "execution_count": 6,
   "id": "7888facf-9e1c-4b41-9f48-2e0d194a36af",
   "metadata": {},
   "outputs": [],
   "source": [
    "# subset to powered perturbations\n",
    "obs_df = pd.DataFrame(adata.obs[\"perturbation_name\"])\n",
    "category_counts = obs_df[\"perturbation_name\"].value_counts()\n",
    "filtered_categories = category_counts[category_counts >= 50].index\n",
    "adata = adata[adata.obs[\"perturbation_name\"].isin(filtered_categories)]"
   ]
  },
  {
   "cell_type": "markdown",
   "id": "5b7bf773-5e0c-43b8-8df2-4ce3376be959",
   "metadata": {},
   "source": [
    "# Reconstruction"
   ]
  },
  {
   "cell_type": "markdown",
   "id": "3b4b092b-2120-48c6-a492-84656e8b7169",
   "metadata": {},
   "source": [
    "## Spearman Coefficient\n",
    "- Spearman correlation between predicted and observed expression (on DE genes if available)"
   ]
  },
  {
   "cell_type": "code",
   "execution_count": 7,
   "id": "e2885bd3-5433-47d6-88d5-47be83df5b5a",
   "metadata": {},
   "outputs": [],
   "source": [
    "# for GSFA, measure reconstruction on training\n",
    "from scipy.stats import spearmanr\n",
    "\n",
    "reconstruction = Z @ W.T\n",
    "# rebuild pert labels\n",
    "G_labels = []\n",
    "for row in G:\n",
    "    pert_idx = np.where(row == 1)[0].tolist()\n",
    "    perts = [pert_labels[i] for i in pert_idx]\n",
    "    G_labels.append(\"+\".join(perts))\n",
    "test_corr_singles = []\n",
    "test_corr_combos = []\n",
    "\n",
    "for pert in set(G_labels):\n",
    "    hold_idx = [i for i, x in enumerate(G_labels) if x == pert]\n",
    "    if not hold_idx:\n",
    "        continue\n",
    "    recon = reconstruction[hold_idx]\n",
    "    # correlation\n",
    "    mean_reconstruction = recon.mean(axis=0)\n",
    "    mean_observed = preprocessed_Y[hold_idx].mean(axis=0)\n",
    "    if (\"+\" in pert) and (\"ctrl\" not in pert):\n",
    "        test_corr_combos.append(\n",
    "            [pert, spearmanr(mean_reconstruction, mean_observed)[0]]\n",
    "        )\n",
    "    else:\n",
    "        test_corr_singles.append(\n",
    "            [pert, spearmanr(mean_reconstruction, mean_observed)[0]]\n",
    "        )"
   ]
  },
  {
   "cell_type": "code",
   "execution_count": 8,
   "id": "bc94b654-4864-485b-94e7-c1cb1f6f8baf",
   "metadata": {},
   "outputs": [
    {
     "data": {
      "image/png": "[encoded data removed]",
      "text/plain": [
       "<Figure size 640x480 with 1 Axes>"
      ]
     },
     "metadata": {},
     "output_type": "display_data"
    }
   ],
   "source": [
    "# plot train correlation distribution vs test correlation distribution\n",
    "import seaborn as sns\n",
    "\n",
    "test_corr = np.array(test_corr_singles + test_corr_combos)[:, 1].astype(float)\n",
    "sns.histplot(test_corr, label=\"test_corr\")\n",
    "plt.title(\"Correlation between predicted and observed expression per perturbation\")\n",
    "plt.xlabel(\"Spearman Correlation\")\n",
    "plt.show()"
   ]
  },
  {
   "cell_type": "code",
   "execution_count": 91,
   "id": "e7033192-d47d-4568-aa9a-63a7aac918c0",
   "metadata": {},
   "outputs": [],
   "source": [
    "np.savetxt(\n",
    "    \"figures/reconstruction_spearmans/GSFA_norman_spearman_correlations.csv\",\n",
    "    test_corr,\n",
    "    delimiter=\",\",\n",
    "    fmt=\"%.2f\",\n",
    ")"
   ]
  },
  {
   "cell_type": "markdown",
   "id": "64fc0b35-f87e-4d8a-87f1-e6080a3ee83f",
   "metadata": {},
   "source": [
    "# Perturbation Embedding Heatmap"
   ]
  },
  {
   "cell_type": "markdown",
   "id": "c36ebe2b-2835-44ed-9f71-a52b522125b1",
   "metadata": {},
   "source": [
    "## Hierarchical Clustering + Enrichment\n",
    "- Perform enrichment tests (gprofiler) on hierarchical clustering of perturbation embeddings"
   ]
  },
  {
   "cell_type": "code",
   "execution_count": null,
   "id": "0aaf8dc3-7e5b-4748-8685-fc8560bf7fc7",
   "metadata": {},
   "outputs": [],
   "source": [
    "import pandas as pd\n",
    "import seaborn as sns\n",
    "from scipy.cluster.hierarchy import dendrogram, fcluster, linkage\n",
    "from scipy.spatial.distance import pdist, squareform\n",
    "\n",
    "# Put into df\n",
    "pert_emb_df = pd.DataFrame(beta[:-1], index=pert_labels)\n",
    "pert_emb_df = pert_emb_df.drop(columns=[0]).astype(\"float\")\n",
    "\n",
    "# Compute the pairwise distances\n",
    "df = pert_emb_df.drop(index=[\"ctrl\"])\n",
    "\n",
    "distance = \"euclidean\"\n",
    "distances = pdist(df.values, metric=distance)\n",
    "\n",
    "# Convert the distances into a square distance matrix\n",
    "distance_matrix = pd.DataFrame(squareform(distances), index=df.index, columns=df.index)\n",
    "\n",
    "# Compute the linkage matrix using the condensed distance matrix\n",
    "linkage_matrix = linkage(distance_matrix, method=\"ward\")\n",
    "\n",
    "# Plot the dendrogram (optional)\n",
    "dendro = dendrogram(linkage_matrix, no_plot=True)\n",
    "\n",
    "# Assign clusters\n",
    "max_d = 10  # Max distance for flat clusters\n",
    "clusters = fcluster(linkage_matrix, max_d, criterion=\"distance\")\n",
    "\n",
    "# Create a color palette for clusters\n",
    "palette = sns.color_palette(\"husl\", len(np.unique(clusters)))\n",
    "\n",
    "# Map each cluster id to a color\n",
    "cluster_colors = [palette[i - 1] for i in clusters]\n",
    "\n",
    "# Show the plot\n",
    "plt.show()\n",
    "\n",
    "clustermap = sns.clustermap(\n",
    "    distance_matrix, cmap=\"viridis_r\", row_colors=cluster_colors\n",
    ")\n",
    "clustermap.fig.suptitle(f\"Pairwise {distance} distance of perturbation latent vectors\")\n",
    "# clustermap.ax_row_dendrogram.set_visible(False)\n",
    "clustermap.ax_col_dendrogram.set_visible(False)\n",
    "# clustermap.cax.set_visible(False)\n",
    "plt.show()"
   ]
  },
  {
   "cell_type": "code",
   "execution_count": 10,
   "id": "d187a4f5-b9d8-4dfd-a98b-c759446de3e6",
   "metadata": {},
   "outputs": [],
   "source": [
    "# extract clusters and perform gprofiler\n",
    "index_names = list(distance_matrix.index)\n",
    "cluster_df = pd.DataFrame({\"Pert\": index_names, \"Cluster\": clusters})\n",
    "cluster_process = {}\n",
    "for cluster_id in np.unique(clusters):\n",
    "    points_in_cluster = cluster_df[cluster_df[\"Cluster\"] == cluster_id][\"Pert\"].tolist()\n",
    "    gprofiler_in = pd.DataFrame(points_in_cluster, columns=[\"gene_symbol\"])\n",
    "    res = get_gprofiler(gprofiler_in)\n",
    "    cluster_process[cluster_id] = res[res[\"p_value\"] <= 0.05]"
   ]
  },
  {
   "cell_type": "code",
   "execution_count": null,
   "id": "a7dedf5b-de4c-4142-bbd4-1a2e4a4a4ec0",
   "metadata": {},
   "outputs": [],
   "source": [
    "# Create descriptions for each cluster (for demonstration purpose)\n",
    "cluster_descriptions = {\n",
    "    1: \"\",\n",
    "    2: \"Embryonic development\",\n",
    "    3: \"Transcription cis-regulatory region binding, metabolic process\",\n",
    "    4: \"protein serine/threonine kinase activity\",\n",
    "    5: \"\",\n",
    "    6: \"DNA-binding transcription factor activity, RNA polymerase II transcription regulatory region\",\n",
    "    7: \"\",\n",
    "    8: \"DNA binding, negative regulation of biosynthetic process\",\n",
    "    9: \"\",\n",
    "    10: \"chromatin\",\n",
    "    11: \"epidermal growth factor\",\n",
    "    12: \"collagen type II trimer\",\n",
    "    13: \"\",\n",
    "    14: \"\",\n",
    "    15: \"C/EBP complex\",\n",
    "    16: \"\",\n",
    "}\n",
    "\n",
    "# Create a consistent color palette\n",
    "unique_clusters = sorted(np.unique(clusters))\n",
    "palette = sns.color_palette(\"husl\", len(unique_clusters))\n",
    "cluster_colors = [palette[i - 1] for i in clusters]\n",
    "cluster_colors = {cid: palette[i] for i, cid in enumerate(unique_clusters)}\n",
    "\n",
    "# Create clustermap using consistent colors\n",
    "row_colors = [cluster_colors[cid] for cid in clusters]\n",
    "clustermap = sns.clustermap(\n",
    "    distance_matrix, cmap=\"viridis_r\", row_colors=[palette[i - 1] for i in clusters]\n",
    ")\n",
    "clustermap.savefig(\n",
    "    \"figures/figure_pngs/GSFA_norman_clustermap.png\", dpi=600, bbox_inches=\"tight\"\n",
    ")\n",
    "\n",
    "# Prepare data for the table\n",
    "cluster_data = {\n",
    "    \"Cluster ID\": unique_clusters,\n",
    "    \"Description\": [cluster_descriptions[cid] for cid in unique_clusters],\n",
    "}\n",
    "\n",
    "cluster_df = pd.DataFrame(cluster_data)\n",
    "\n",
    "# Plot the table with colors matching the clustermap\n",
    "fig, ax = plt.subplots(figsize=(18, 4))\n",
    "ax.axis(\"off\")\n",
    "ax.axis(\"tight\")\n",
    "\n",
    "# Create table while applying the color to the row background\n",
    "table = ax.table(\n",
    "    cellText=cluster_df.values,\n",
    "    colLabels=[\"Cluster ID\", \"Description\"],\n",
    "    cellColours=[[cluster_colors[cid]] * 2 for cid in cluster_df[\"Cluster ID\"]],\n",
    "    cellLoc=\"center\",\n",
    "    loc=\"center\",\n",
    ")\n",
    "\n",
    "# Customize table appearance\n",
    "table.auto_set_font_size(False)\n",
    "table.set_fontsize(10)\n",
    "table.scale(1, 1.5)\n",
    "\n",
    "plt.savefig(\n",
    "    \"figures/figure_pngs/GSFA_norman_clustermap_descriptions.png\",\n",
    "    dpi=600,\n",
    "    bbox_inches=\"tight\",\n",
    ")\n",
    "plt.show()"
   ]
  },
  {
   "cell_type": "code",
   "execution_count": 250,
   "id": "23b3a2e6-f20f-4626-bcc9-32e9e4ef0d54",
   "metadata": {},
   "outputs": [],
   "source": [
    "# save grpofiler results\n",
    "with open(\n",
    "    \"figures/pert_embedding_cluster_gprofiler/GSFA_norman_pert_emb_gprofiler.pickle\",\n",
    "    \"wb\",\n",
    ") as handle:\n",
    "    pickle.dump(cluster_process, handle, protocol=pickle.HIGHEST_PROTOCOL)"
   ]
  },
  {
   "cell_type": "markdown",
   "id": "dc06a81d-1fbe-4b46-82f2-0464e55727e7",
   "metadata": {},
   "source": [
    "## PR Curve+AUC\n",
    "- AUCPR using prior graph as binary label"
   ]
  },
  {
   "cell_type": "code",
   "execution_count": 237,
   "id": "73b5c140-05f1-486b-9d28-7592ed1556bb",
   "metadata": {},
   "outputs": [
    {
     "name": "stdout",
     "output_type": "stream",
     "text": [
      "               AUC\n",
      "StringDB  0.732776\n",
      "CORUM     0.946837\n",
      "                F1  Threshold\n",
      "StringDB  0.820312        1.0\n",
      "CORUM     0.972222        1.0\n"
     ]
    }
   ],
   "source": [
    "aucpr_df, f1_df, pr_dict = auprc(distance_matrix)\n",
    "print(aucpr_df)\n",
    "print(f1_df)\n",
    "aucpr_df.to_csv(\"figures/pert_embedding_recall/GSFA_norman_aucpr.csv\")\n",
    "f1_df.to_csv(\"figures/pert_embedding_recall/GSFA_norman_f1.csv\")"
   ]
  },
  {
   "cell_type": "markdown",
   "id": "8fdff66a-8f20-4268-8520-d33a0fa4969a",
   "metadata": {},
   "source": [
    "# Interpretability of our learned latent space"
   ]
  },
  {
   "cell_type": "markdown",
   "id": "1ec54f80-8a0f-41f0-8c55-edd2b1fbfb3c",
   "metadata": {},
   "source": [
    "## Factor Enrichment\n",
    "- GSEA on log transformed latent-by-gene factors\n",
    "- Then associate each perturbation to its top latent factors"
   ]
  },
  {
   "cell_type": "code",
   "execution_count": null,
   "id": "35eb8169-15b1-4b5b-b926-d5b7238f372a",
   "metadata": {
    "scrolled": true
   },
   "outputs": [],
   "source": [
    "factor_to_go = factor_enrichment_gsea(adata, W.T, fdr=5e-2)"
   ]
  },
  {
   "cell_type": "code",
   "execution_count": null,
   "id": "814189ce-53f3-4716-834a-a4f0ea6efcf9",
   "metadata": {},
   "outputs": [],
   "source": [
    "# filter and add description to processes\n",
    "go_df = read_aws_csv(\"s3://pert-spectra/references/GO_to_Description.txt\")\n",
    "go_df.set_index(\"Term\", inplace=True)\n",
    "go_dict = go_df.to_dict()[\"Description\"]\n",
    "\n",
    "filtered_factor_to_go = {}\n",
    "for i in factor_to_go:\n",
    "    proc = factor_to_go[i]\n",
    "    proc[\"descr\"] = [go_dict[x] for x in proc[\"GO_ID\"]]\n",
    "    filtered_factor_to_go[i] = proc"
   ]
  },
  {
   "cell_type": "code",
   "execution_count": 105,
   "id": "ff945301-46b0-4beb-9f4e-9bc17ede92d0",
   "metadata": {},
   "outputs": [],
   "source": [
    "with open(\n",
    "    \"figures/factor_enrichments/GSFA_norman_factor_enrichment.pickle\", \"wb\"\n",
    ") as handle:\n",
    "    pickle.dump(filtered_factor_to_go, handle, protocol=pickle.HIGHEST_PROTOCOL)"
   ]
  },
  {
   "cell_type": "markdown",
   "id": "6e5f583b-5c2e-45ea-a210-33b0f6ab2b3e",
   "metadata": {},
   "source": [
    "## Overlap with prior knowledge/ground truth (stringdb)\n",
    "- Group A: a set of GO terms associated with a perturbation (either drivers from msigdb, or from literature) and its neighbors in stringdb\n",
    "- Group B: a set of GO terms from the interpretability analysis\n",
    "- Hypergeometric test on the overlap of the two groups"
   ]
  },
  {
   "cell_type": "code",
   "execution_count": 4,
   "id": "3f70b845-17f9-429e-9bdf-6d36d6fb0a44",
   "metadata": {},
   "outputs": [],
   "source": [
    "# load precomputed factor_to_go dict if available\n",
    "filtered_factor_to_go = read_aws_pickle(\n",
    "    \"s3://pert-spectra/figures/factor_enrichments/GSFA_norman_factor_enrichment.pickle\"\n",
    ")"
   ]
  },
  {
   "cell_type": "code",
   "execution_count": 5,
   "id": "0a0ca673-3177-412f-937d-f0ec50c3824f",
   "metadata": {},
   "outputs": [],
   "source": [
    "# get neighbors for each perturbation\n",
    "pert_neighbors = retrieve_stringdb_neighbors(pert_labels)"
   ]
  },
  {
   "cell_type": "code",
   "execution_count": 8,
   "id": "28d8b858-9326-489e-be3f-00a756eb3fb0",
   "metadata": {},
   "outputs": [],
   "source": [
    "# construct group A - known processes for each perturbation\n",
    "gene_sets = read_aws_pickle(\"s3://pert-spectra/references/GO_to_Gene.pickle\")\n",
    "# BP only go terms\n",
    "go_reference = read_aws_csv(\"s3://pert-spectra/references/GO_terms.txt.gz\", zipped=True)\n",
    "go_bp = go_reference[go_reference[\"go_category\"] == \"biological_process\"]\n",
    "go_bp_ids = set(go_bp[\"go_id\"].values)\n",
    "filtered_go_terms = {key: gene_sets[key] for key in go_bp_ids if key in gene_sets}\n",
    "\n",
    "# GO terms per perturbation AND its neighbors in stringdb\n",
    "pert_to_go = {key: set() for key in df.index}\n",
    "for goterm in filtered_go_terms:\n",
    "    for pert in df.index:\n",
    "        if pert in filtered_go_terms[goterm] and set(\n",
    "            filtered_go_terms[goterm]\n",
    "        ).intersection(pert_neighbors[pert]):\n",
    "            pert_to_go[pert].add(goterm)"
   ]
  },
  {
   "cell_type": "code",
   "execution_count": 9,
   "id": "b3b81d9d-7264-4dac-b14b-1f35c84479c2",
   "metadata": {},
   "outputs": [],
   "source": [
    "# construct set B - model identified processes for each perturbation\n",
    "n = 10  # number of top factors to get processes from\n",
    "model_pert_to_go = {}\n",
    "for pert in pert_emb_df.index:\n",
    "    if pert in [\"ctrl\", \"intergenic\", \"basal\"]:\n",
    "        continue\n",
    "    # get top factors\n",
    "    pert_emb_df = pd.DataFrame(beta[:-1], index=pert_labels)\n",
    "    pert_loading = pert_emb_df.loc[pert].to_numpy()[1:].astype(float)\n",
    "    ctrl_loading = pert_emb_df.loc[\"ctrl\"].to_numpy()[1:].astype(float)\n",
    "    delta_loading = np.abs(np.log(np.abs(pert_loading)) - np.log(np.abs(ctrl_loading)))\n",
    "    top_n_factors = np.argpartition(np.array(delta_loading), -n)[-n:]\n",
    "    # get processes\n",
    "    model_processes = set()\n",
    "    for f in top_n_factors:\n",
    "        proc = filtered_factor_to_go[f]\n",
    "        model_processes = model_processes.union(set(proc[\"Term\"]))\n",
    "    model_pert_to_go[pert] = model_processes"
   ]
  },
  {
   "cell_type": "code",
   "execution_count": 10,
   "id": "f3a8ecfa-1184-4a30-b787-1ce5e56a5562",
   "metadata": {
    "scrolled": true
   },
   "outputs": [
    {
     "name": "stdout",
     "output_type": "stream",
     "text": [
      "Overlap for AHR: 5 out of 12 in researchDB\n",
      "P-value for AHR: 2.1319858454369287e-07\n",
      "Overlap for ARID1A: 5 out of 16 in researchDB\n",
      "P-value for ARID1A: 2.2083684093482343e-06\n",
      "Overlap for BAK1: 5 out of 43 in researchDB\n",
      "P-value for BAK1: 0.00046615592180678417\n",
      "Overlap for BCL2L11: 3 out of 29 in researchDB\n",
      "P-value for BCL2L11: 0.008310750164771933\n",
      "Overlap for CBL: 5 out of 28 in researchDB\n",
      "P-value for CBL: 0.00014285653454198518\n",
      "Overlap for CDKN1A: 3 out of 37 in researchDB\n",
      "P-value for CDKN1A: 0.0090102759706699\n",
      "Overlap for CDKN1B: 2 out of 38 in researchDB\n",
      "P-value for CDKN1B: 0.08621078058192475\n",
      "Overlap for CDKN1C: 3 out of 15 in researchDB\n",
      "P-value for CDKN1C: 0.0008590529302742615\n",
      "Overlap for CEBPA: 10 out of 34 in researchDB\n",
      "P-value for CEBPA: 9.605689713987963e-11\n",
      "Overlap for CEBPB: 8 out of 33 in researchDB\n",
      "P-value for CEBPB: 3.5589724354327065e-08\n",
      "Overlap for CEBPE: 5 out of 9 in researchDB\n",
      "P-value for CEBPE: 9.287161274422125e-08\n",
      "Overlap for CITED1: 6 out of 14 in researchDB\n",
      "P-value for CITED1: 1.0848735073457748e-08\n",
      "Overlap for COL1A1: 3 out of 29 in researchDB\n",
      "P-value for COL1A1: 0.005941572402352278\n",
      "Overlap for COL2A1: 0 out of 12 in researchDB\n",
      "P-value for COL2A1: 1.0\n",
      "Overlap for DUSP9: 0 out of 5 in researchDB\n",
      "P-value for DUSP9: 1.0\n",
      "Overlap for EGR1: 9 out of 18 in researchDB\n",
      "P-value for EGR1: 6.076427546891436e-13\n",
      "Overlap for ETS2: 4 out of 5 in researchDB\n",
      "P-value for ETS2: 1.2643534179980056e-07\n",
      "Overlap for FOSB: 3 out of 11 in researchDB\n",
      "P-value for FOSB: 0.0005638568648125962\n",
      "Overlap for FOXA1: 7 out of 15 in researchDB\n",
      "P-value for FOXA1: 1.0193815225213786e-09\n",
      "Overlap for FOXL2: 4 out of 7 in researchDB\n",
      "P-value for FOXL2: 1.5792583093509072e-06\n",
      "Overlap for FOXO4: 4 out of 8 in researchDB\n",
      "P-value for FOXO4: 3.8416764921953e-06\n",
      "Overlap for HK2: 1 out of 13 in researchDB\n",
      "P-value for HK2: 0.15293459959857644\n",
      "Overlap for HNF4A: 6 out of 18 in researchDB\n",
      "P-value for HNF4A: 2.0064461479781388e-07\n",
      "Overlap for IKZF3: 2 out of 6 in researchDB\n",
      "P-value for IKZF3: 0.0033188033960969143\n",
      "Overlap for IRF1: 4 out of 19 in researchDB\n",
      "P-value for IRF1: 0.00011774780147504422\n",
      "Overlap for JUN: 9 out of 38 in researchDB\n",
      "P-value for JUN: 6.800257732829314e-10\n",
      "Overlap for KIF18B: 4 out of 5 in researchDB\n",
      "P-value for KIF18B: 1.02966073190364e-07\n",
      "Overlap for KIF2C: 1 out of 8 in researchDB\n",
      "P-value for KIF2C: 0.11717918583009142\n",
      "Overlap for KMT2A: 4 out of 14 in researchDB\n",
      "P-value for KMT2A: 5.737318595565771e-05\n",
      "Overlap for LHX1: 3 out of 15 in researchDB\n",
      "P-value for LHX1: 0.001550750199766002\n",
      "Overlap for MAP2K3: 5 out of 18 in researchDB\n",
      "P-value for MAP2K3: 6.727417522597989e-06\n",
      "Overlap for MAP2K6: 2 out of 21 in researchDB\n",
      "P-value for MAP2K6: 0.027671721378544775\n",
      "Overlap for MAPK1: 9 out of 55 in researchDB\n",
      "P-value for MAPK1: 1.2457826721768169e-08\n",
      "Overlap for MEIS1: 2 out of 11 in researchDB\n",
      "P-value for MEIS1: 0.011117126714865002\n",
      "Overlap for NCL: 3 out of 8 in researchDB\n",
      "P-value for NCL: 0.0002326125897755479\n",
      "Overlap for PLK4: 1 out of 5 in researchDB\n",
      "P-value for PLK4: 0.059561646093364874\n",
      "Overlap for POU3F2: 2 out of 9 in researchDB\n",
      "P-value for POU3F2: 0.008122844993866516\n",
      "Overlap for PTPN1: 1 out of 14 in researchDB\n",
      "P-value for PTPN1: 0.1896342601320953\n",
      "Overlap for PTPN12: 0 out of 5 in researchDB\n",
      "P-value for PTPN12: 1.0\n",
      "Overlap for S1PR2: 0 out of 5 in researchDB\n",
      "P-value for S1PR2: 1.0\n",
      "Overlap for SGK1: 7 out of 17 in researchDB\n",
      "P-value for SGK1: 4.12440746718372e-09\n",
      "Overlap for SLC38A2: 1 out of 11 in researchDB\n",
      "P-value for SLC38A2: 0.12020964276782159\n",
      "Overlap for SNAI1: 3 out of 13 in researchDB\n",
      "P-value for SNAI1: 0.0005804369395604471\n",
      "Overlap for SPI1: 12 out of 25 in researchDB\n",
      "P-value for SPI1: 8.848408979799951e-16\n",
      "Overlap for STIL: 1 out of 13 in researchDB\n",
      "P-value for STIL: 0.15204982937479228\n",
      "Overlap for TBX2: 4 out of 8 in researchDB\n",
      "P-value for TBX2: 1.9410436163852128e-06\n",
      "Overlap for TBX3: 4 out of 14 in researchDB\n",
      "P-value for TBX3: 2.0954324972493857e-05\n",
      "Overlap for TGFBR2: 3 out of 55 in researchDB\n",
      "P-value for TGFBR2: 0.020165641355063494\n",
      "Overlap for TP73: 4 out of 17 in researchDB\n",
      "P-value for TP73: 5.875369519782811e-05\n"
     ]
    }
   ],
   "source": [
    "pvals = perturbation_signal_recovery(\n",
    "    pert_to_go,\n",
    "    model_pert_to_go,\n",
    "    list(filtered_go_terms.keys()),\n",
    "    list(pert_emb_df.index),\n",
    ")"
   ]
  },
  {
   "cell_type": "code",
   "execution_count": 12,
   "id": "712834c7-e823-4117-a2f6-dc704c391d7c",
   "metadata": {},
   "outputs": [],
   "source": [
    "# save as csv for visualization\n",
    "pd.DataFrame.from_dict(data=pvals, orient=\"index\").to_csv(\n",
    "    \"figures/process_recovery_hypergeo_pvals/GSFA_norman_hypergeo_neighbors_recovery_pvalues.csv\",\n",
    "    header=False,\n",
    ")"
   ]
  },
  {
   "cell_type": "code",
   "execution_count": null,
   "id": "cde32c38-f16b-4f39-9dcd-5e5f480b3720",
   "metadata": {},
   "outputs": [],
   "source": []
  }
 ],
 "metadata": {
  "kernelspec": {
   "display_name": "pertspectra",
   "language": "python",
   "name": "pertspectra"
  },
  "language_info": {
   "codemirror_mode": {
    "name": "ipython",
    "version": 3
   },
   "file_extension": ".py",
   "mimetype": "text/x-python",
   "name": "python",
   "nbconvert_exporter": "python",
   "pygments_lexer": "ipython3",
   "version": "3.11.0"
  }
 },
 "nbformat": 4,
 "nbformat_minor": 5
}
