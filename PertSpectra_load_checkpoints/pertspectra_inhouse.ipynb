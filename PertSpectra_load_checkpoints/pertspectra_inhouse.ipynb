{
 "cells": [
  {
   "cell_type": "code",
   "execution_count": 1,
   "id": "65f8246a",
   "metadata": {},
   "outputs": [],
   "source": [
    "%load_ext autoreload\n",
    "%autoreload 2"
   ]
  },
  {
   "cell_type": "code",
   "execution_count": 2,
   "id": "bb2ff34c",
   "metadata": {},
   "outputs": [
    {
     "name": "stdout",
     "output_type": "stream",
     "text": [
      "Seed set\n"
     ]
    }
   ],
   "source": [
    "import sys\n",
    "\n",
    "import matplotlib.pyplot as plt\n",
    "import numpy as np\n",
    "import pandas as pd\n",
    "import seaborn as sns\n",
    "import torch\n",
    "\n",
    "sys.path.append(\"..\")\n",
    "from utils import (\n",
    "    filter_noisy_genes,\n",
    "    generate_k_fold,\n",
    "    load_model,\n",
    "    read_aws_h5ad,\n",
    "    set_seed,\n",
    "    write_adata_to_s3,\n",
    ")\n",
    "\n",
    "set_seed(0)"
   ]
  },
  {
   "cell_type": "markdown",
   "id": "d6389804-10c8-4626-8982-bf994a98c18b",
   "metadata": {},
   "source": [
    "## Load Model from Checkpoint"
   ]
  },
  {
   "cell_type": "code",
   "execution_count": null,
   "id": "5280863b",
   "metadata": {},
   "outputs": [],
   "source": [
    "# use anndata generate by ..data_processing/inhouse_prior_graph_preprocessing.ipynb\n",
    "unfilterd_adata = read_aws_h5ad(\"path to preprocessed h5ad\")\n",
    "adata = filter_noisy_genes(unfilterd_adata)\n",
    "adata.layers[\"logcounts\"] = adata.X.copy()\n",
    "adata.X = adata.X.todense()\n",
    "device = torch.device(\"cuda:0\")\n",
    "gene_network = adata.uns[\"sparse_gene_network\"].todense()"
   ]
  },
  {
   "cell_type": "code",
   "execution_count": 4,
   "id": "2972c1e4",
   "metadata": {},
   "outputs": [],
   "source": [
    "# subset to powered perturbations\n",
    "adata.obs[\"condition\"] = adata.obs[\"condition\"].astype(str)\n",
    "adata.obs[\"Treatment\"] = adata.obs[\"Treatment\"].astype(str)\n",
    "adata.obs[\"pert_treat\"] = adata.obs[\"condition\"] + \"+\" + adata.obs[\"Treatment\"]\n",
    "obs_df = pd.DataFrame(adata.obs[\"pert_treat\"])\n",
    "category_counts = obs_df[\"pert_treat\"].value_counts()\n",
    "filtered_categories = category_counts[category_counts >= 50].index\n",
    "adata = adata[adata.obs[\"pert_treat\"].isin(filtered_categories)]\n",
    "labels = adata.obs[\"Treatment\"].values"
   ]
  },
  {
   "cell_type": "code",
   "execution_count": 22,
   "id": "0a65f48c",
   "metadata": {},
   "outputs": [],
   "source": [
    "# load model from checkpoint\n",
    "s3_dir = \"s3://pert-spectra/PertSpectra_checkpoints/\"\n",
    "experiment_name = \"pertspectra_inhouse/\"\n",
    "model_name = \"kfold_4\"\n",
    "wrapper, adata = load_model(\n",
    "    adata=adata,\n",
    "    s3_dir=s3_dir,\n",
    "    experiment_name=experiment_name,\n",
    "    model_name=model_name,\n",
    "    use_cell_types=True,\n",
    "    cell_type_key=\"Treatment\",\n",
    ")"
   ]
  },
  {
   "cell_type": "code",
   "execution_count": 23,
   "id": "89206201",
   "metadata": {},
   "outputs": [],
   "source": [
    "# save trained PertSpectra parameters\n",
    "adata.uns[\"SPECTRA_factors\"] = wrapper.factors\n",
    "adata.uns[\"SPECTRA_L\"] = wrapper.internal_model.L\n",
    "adata.uns[\"SPECTRA_pert_scores\"] = wrapper.cell_scores"
   ]
  },
  {
   "cell_type": "code",
   "execution_count": 24,
   "id": "4d3a17dc",
   "metadata": {},
   "outputs": [],
   "source": [
    "# reconstruct binarized perturbation matrix\n",
    "pert_idx = list(wrapper.internal_model.pert_idx)\n",
    "pert_labels = [x.split(\"_\")[-1] for x in wrapper.internal_model.pert_labels]\n",
    "adata.uns[\"Spectra_pert_labels\"] = pert_labels\n",
    "D = []\n",
    "for i in adata.obs[\"condition\"]:\n",
    "    d = [0.0 for _ in range(len(pert_idx))]\n",
    "    # add intercept\n",
    "    d[-1] = 1\n",
    "    if i == \"nan\":\n",
    "        D.append(d)\n",
    "        continue\n",
    "    # control\n",
    "    if i == \"ctrl\":\n",
    "        d[-2] = 1.0\n",
    "        D.append(d)\n",
    "        continue\n",
    "    guides = i.split(\"+\")\n",
    "\n",
    "    # pert or intergenic\n",
    "    if guides[0] in adata.var_names:\n",
    "        adata_idx = adata.var_names.get_loc(guides[0])\n",
    "        one_hot_idx = pert_idx.index(adata_idx)\n",
    "        d[one_hot_idx] = 1.0\n",
    "    else:\n",
    "        one_hot_idx = pert_labels.index(guides[0])\n",
    "        d[one_hot_idx] = 1.0\n",
    "\n",
    "    if len(guides) > 1:\n",
    "        if guides[1] in adata.var_names:\n",
    "            adata_idx = adata.var_names.get_loc(guides[1])\n",
    "            one_hot_idx = pert_idx.index(adata_idx)\n",
    "            d[one_hot_idx] = 1.0\n",
    "        else:\n",
    "            one_hot_idx = pert_labels.index(guides[1])\n",
    "            d[one_hot_idx] = 1.0\n",
    "    D.append(d)\n",
    "D = np.stack(D).astype(np.float32)"
   ]
  },
  {
   "cell_type": "markdown",
   "id": "1a483a3b-44d7-455b-957e-b2b89ff527ff",
   "metadata": {},
   "source": [
    "## Reconstructed Gene Expression\n",
    "- Visualize reconstructed gene expression for a single perturbation\n",
    "- Save reconstructed gene expression for all heldout cells"
   ]
  },
  {
   "cell_type": "code",
   "execution_count": 49,
   "id": "4184472e",
   "metadata": {
    "scrolled": true
   },
   "outputs": [
    {
     "data": {
      "text/plain": [
       "SPECTRA(\n",
       "  (theta): ParameterDict(\n",
       "      (global): Parameter containing: [torch.cuda.FloatTensor of size 4997x20 (cuda:0)]\n",
       "      (TNFA+): Parameter containing: [torch.cuda.FloatTensor of size 4997x5 (cuda:0)]\n",
       "      (TNFA-): Parameter containing: [torch.cuda.FloatTensor of size 4997x5 (cuda:0)]\n",
       "  )\n",
       "  (alpha): ParameterDict(\n",
       "      (TNFA+): Parameter containing: [torch.cuda.FloatTensor of size 24x25 (cuda:0)]\n",
       "      (TNFA-): Parameter containing: [torch.cuda.FloatTensor of size 24x25 (cuda:0)]\n",
       "  )\n",
       "  (eta): ParameterDict(\n",
       "      (global): Parameter containing: [torch.cuda.FloatTensor of size 20x20 (cuda:0)]\n",
       "      (TNFA+): Parameter containing: [torch.cuda.FloatTensor of size 5x5 (cuda:0)]\n",
       "      (TNFA-): Parameter containing: [torch.cuda.FloatTensor of size 5x5 (cuda:0)]\n",
       "  )\n",
       "  (gene_scaling): ParameterDict(\n",
       "      (global): Parameter containing: [torch.cuda.FloatTensor of size 4997 (cuda:0)]\n",
       "      (TNFA+): Parameter containing: [torch.cuda.FloatTensor of size 4997 (cuda:0)]\n",
       "      (TNFA-): Parameter containing: [torch.cuda.FloatTensor of size 4997 (cuda:0)]\n",
       "  )\n",
       "  (kappa): ParameterDict(\n",
       "      (global): Parameter containing: [torch.cuda.FloatTensor of size  (cuda:0)]\n",
       "      (TNFA+): Parameter containing: [torch.cuda.FloatTensor of size  (cuda:0)]\n",
       "      (TNFA-): Parameter containing: [torch.cuda.FloatTensor of size  (cuda:0)]\n",
       "  )\n",
       ")"
      ]
     },
     "execution_count": 49,
     "metadata": {},
     "output_type": "execute_result"
    }
   ],
   "source": [
    "wrapper.internal_model.to(torch.device(\"cuda:0\"))"
   ]
  },
  {
   "cell_type": "code",
   "execution_count": null,
   "id": "a6a88483",
   "metadata": {},
   "outputs": [],
   "source": [
    "# retrieve heldout cells\n",
    "train_idx, val_idx, test_idx = generate_k_fold(\n",
    "    adata, adata.X, adata.obs[\"condition\"], fold_idx=4\n",
    ")\n",
    "loss_weights = np.ones(adata.shape[0])\n",
    "holdout_adata = adata[test_idx]\n",
    "train_adata = adata[train_idx]"
   ]
  },
  {
   "cell_type": "code",
   "execution_count": 48,
   "id": "1328f936",
   "metadata": {},
   "outputs": [],
   "source": [
    "# visualize reconstructed vs observed expression for cells of a given perturbation\n",
    "holdout_perts = \"RIPK1\"\n",
    "hold_idx = [\n",
    "    i for i, x in enumerate(holdout_adata.obs[\"condition\"]) if x == holdout_perts\n",
    "]\n",
    "X_holdout = torch.from_numpy(holdout_adata.X[hold_idx])\n",
    "D_holdout = torch.from_numpy(D[hold_idx])\n",
    "labels_holdout = labels[hold_idx]\n",
    "loss_weights_holdout = torch.from_numpy(loss_weights[hold_idx])"
   ]
  },
  {
   "cell_type": "code",
   "execution_count": 50,
   "id": "9657f513",
   "metadata": {},
   "outputs": [],
   "source": [
    "with torch.no_grad():\n",
    "    loss, recon = wrapper.internal_model.loss(\n",
    "        X=X_holdout,\n",
    "        D=D_holdout,\n",
    "        labels=labels_holdout,\n",
    "        loss_weights=loss_weights_holdout,\n",
    "        forward=True,\n",
    "    )"
   ]
  },
  {
   "cell_type": "code",
   "execution_count": 53,
   "id": "d91358d1",
   "metadata": {},
   "outputs": [],
   "source": [
    "mean_reconstruction = torch.mean(recon[\"TNFA+\"], dim=0).detach().cpu().numpy()\n",
    "observed = torch.from_numpy(\n",
    "    holdout_adata[\n",
    "        (holdout_adata.obs[\"Treatment\"] == \"TNFA+\")\n",
    "        & (holdout_adata.obs[\"condition\"] == holdout_perts)\n",
    "    ].X\n",
    ")\n",
    "mean_observed = torch.mean(observed, dim=0).detach().cpu().numpy()"
   ]
  },
  {
   "cell_type": "code",
   "execution_count": null,
   "id": "08ccadde-8c6c-494f-bfeb-feddfd668d1b",
   "metadata": {},
   "outputs": [],
   "source": [
    "from scipy.stats import spearmanr\n",
    "\n",
    "spearmans = spearmanr(mean_reconstruction, mean_observed)"
   ]
  },
  {
   "cell_type": "code",
   "execution_count": 57,
   "id": "bd66f54b-a52a-48e7-8529-f3d2a31a15b1",
   "metadata": {},
   "outputs": [
    {
     "data": {
      "image/png": "[encoded data removed]",
      "text/plain": [
       "<Figure size 800x600 with 1 Axes>"
      ]
     },
     "metadata": {},
     "output_type": "display_data"
    },
    {
     "name": "stdout",
     "output_type": "stream",
     "text": [
      "Spearman correlation: SignificanceResult(statistic=0.9771781192927307, pvalue=0.0)\n"
     ]
    }
   ],
   "source": [
    "# Plot with Seaborn\n",
    "plt.figure(figsize=(8, 6))\n",
    "sns.set(style=\"whitegrid\")\n",
    "\n",
    "sns.scatterplot(x=mean_observed, y=mean_reconstruction, s=5)\n",
    "plt.title(f\"Observed vs Predicted Mean Expression of {holdout_perts} Perturbed Cells\")\n",
    "plt.ylabel(\"Predicted\")\n",
    "plt.xlabel(\"Observed\")\n",
    "\n",
    "plt.show()\n",
    "\n",
    "# Print Spearman correlation\n",
    "print(f\"Spearman correlation: {spearmans}\")"
   ]
  },
  {
   "cell_type": "code",
   "execution_count": 38,
   "id": "cc37848e-715c-4e13-88ee-6299afc776ea",
   "metadata": {},
   "outputs": [],
   "source": [
    "# get reconstruction for all heldout samples\n",
    "X_holdout = torch.from_numpy(holdout_adata.X)\n",
    "D_holdout = torch.from_numpy(D[test_idx])\n",
    "labels_holdout = labels[test_idx]\n",
    "loss_weights_holdout = torch.from_numpy(np.ones(holdout_adata.shape[0]))\n",
    "recons = []\n",
    "losses = []\n",
    "with torch.no_grad():\n",
    "    for i in range(0, len(X_holdout), 10000):\n",
    "        loss, recon = wrapper.internal_model.loss(\n",
    "            X=X_holdout[i : i + 10000],\n",
    "            D=D_holdout[i : i + 10000],\n",
    "            labels=labels_holdout[i : i + 10000],\n",
    "            loss_weights=loss_weights_holdout[i : i + 10000],\n",
    "            forward=True,\n",
    "        )\n",
    "        losses.append(loss[\"TNFA+\"].detach().cpu().numpy())\n",
    "        recons.append(recon[\"TNFA+\"].detach().cpu().numpy())\n",
    "adata.uns[\"recon\"] = np.concatenate(recons)\n",
    "adata.uns[\"losses\"] = np.array(losses)"
   ]
  },
  {
   "cell_type": "markdown",
   "id": "f51bf3e9-ef18-4dcd-b964-7891bf9346df",
   "metadata": {},
   "source": [
    "## Save anndata for downstream analysis"
   ]
  },
  {
   "cell_type": "code",
   "execution_count": 39,
   "id": "973e78cf",
   "metadata": {},
   "outputs": [],
   "source": [
    "# save anndata for downstream analysis\n",
    "from scipy import sparse\n",
    "\n",
    "adata.X = sparse.csr_matrix(adata.X)\n",
    "write_adata_to_s3(s3_dir + experiment_name, \"fold_4\", adata)"
   ]
  },
  {
   "cell_type": "code",
   "execution_count": null,
   "id": "511f8aae",
   "metadata": {},
   "outputs": [],
   "source": []
  }
 ],
 "metadata": {
  "kernelspec": {
   "display_name": "pertspectra",
   "language": "python",
   "name": "pertspectra"
  },
  "language_info": {
   "codemirror_mode": {
    "name": "ipython",
    "version": 3
   },
   "file_extension": ".py",
   "mimetype": "text/x-python",
   "name": "python",
   "nbconvert_exporter": "python",
   "pygments_lexer": "ipython3",
   "version": "3.11.0"
  }
 },
 "nbformat": 4,
 "nbformat_minor": 5
}
