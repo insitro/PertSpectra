{
 "cells": [
  {
   "cell_type": "code",
   "execution_count": 1,
   "id": "65f8246a",
   "metadata": {},
   "outputs": [],
   "source": [
    "%load_ext autoreload\n",
    "%autoreload 2"
   ]
  },
  {
   "cell_type": "code",
   "execution_count": 2,
   "id": "bb2ff34c",
   "metadata": {},
   "outputs": [
    {
     "name": "stdout",
     "output_type": "stream",
     "text": [
      "Seed set\n"
     ]
    }
   ],
   "source": [
    "import sys\n",
    "\n",
    "import matplotlib.pyplot as plt\n",
    "import numpy as np\n",
    "import pandas as pd\n",
    "import torch\n",
    "\n",
    "sys.path.append(\"..\")\n",
    "from utils import (\n",
    "    filter_noisy_genes,\n",
    "    generate_k_fold,\n",
    "    load_model,\n",
    "    read_aws_h5ad,\n",
    "    set_seed,\n",
    "    write_adata_to_s3,\n",
    ")\n",
    "\n",
    "set_seed(0)"
   ]
  },
  {
   "cell_type": "markdown",
   "id": "45dd3375-ab1b-423d-9179-7da6da1e6151",
   "metadata": {},
   "source": [
    "## Load Model from Checkpoint"
   ]
  },
  {
   "cell_type": "code",
   "execution_count": null,
   "id": "5280863b",
   "metadata": {},
   "outputs": [],
   "source": [
    "# use anndata generate by ..data_processing/norman_prior_graph_preprocessing.ipynb\n",
    "unfiltered_adata = read_aws_h5ad(\"path to preprocessed h5ad\")\n",
    "adata = filter_noisy_genes(unfiltered_adata)\n",
    "adata.layers[\"logcounts\"] = adata.X.copy()\n",
    "adata.X = adata.X.todense()\n",
    "device = torch.device(\"cuda:0\")\n",
    "gene_network = adata.uns[\"sparse_gene_network\"].todense()"
   ]
  },
  {
   "cell_type": "code",
   "execution_count": 4,
   "id": "78ccb7d2",
   "metadata": {},
   "outputs": [],
   "source": [
    "# subset to powered perturbations\n",
    "obs_df = pd.DataFrame(adata.obs[\"perturbation_name\"])\n",
    "category_counts = obs_df[\"perturbation_name\"].value_counts()\n",
    "filtered_categories = category_counts[category_counts >= 50].index\n",
    "adata = adata[adata.obs[\"perturbation_name\"].isin(filtered_categories)]"
   ]
  },
  {
   "cell_type": "code",
   "execution_count": 6,
   "id": "266cc119",
   "metadata": {},
   "outputs": [],
   "source": [
    "# load model from checkpoint\n",
    "s3_dir = \"s3://pert-spectra/PertSpectra_checkpoints/\"\n",
    "experiment_name = \"pertspectra_norman/\"\n",
    "model_name = \"kfold_4\"\n",
    "wrapper, adata = load_model(\n",
    "    adata=adata,\n",
    "    s3_dir=s3_dir,\n",
    "    experiment_name=experiment_name,\n",
    "    model_name=model_name,\n",
    "    use_cell_types=False,\n",
    ")"
   ]
  },
  {
   "cell_type": "code",
   "execution_count": null,
   "id": "fba884f4-488e-444c-9421-12068d735c70",
   "metadata": {},
   "outputs": [],
   "source": [
    "# save trained PertSpectra parameters\n",
    "adata.uns[\"SPECTRA_factors\"] = wrapper.factors\n",
    "adata.uns[\"SPECTRA_L\"] = wrapper.internal_model.L\n",
    "adata.uns[\"SPECTRA_pert_scores\"] = wrapper.cell_scores"
   ]
  },
  {
   "cell_type": "code",
   "execution_count": 7,
   "id": "9292bf1c",
   "metadata": {},
   "outputs": [],
   "source": [
    "# reconstruct binarized perturbation matrix\n",
    "pert_idx = list(wrapper.internal_model.pert_idx)\n",
    "pert_labels = [x.split(\"_\")[-1] for x in wrapper.internal_model.pert_labels]\n",
    "adata.uns[\"Spectra_pert_labels\"] = pert_labels\n",
    "D = []\n",
    "for i in adata.obs[\"perturbation_name\"]:\n",
    "    d = [0.0 for _ in range(len(pert_idx))]\n",
    "    # add intercept\n",
    "    d[-1] = 1\n",
    "    if i == \"control\":\n",
    "        d[-2] = 1.0\n",
    "        D.append(d)\n",
    "        continue\n",
    "    guides = i.split(\"+\")\n",
    "\n",
    "    # pert or intergenic\n",
    "    one_hot_idx = pert_labels.index(guides[0])\n",
    "    d[one_hot_idx] = 1.0\n",
    "\n",
    "    if len(guides) > 1:\n",
    "        one_hot_idx = pert_labels.index(guides[1])\n",
    "        d[one_hot_idx] = 1.0\n",
    "    D.append(d)\n",
    "D = np.stack(D).astype(np.float32)"
   ]
  },
  {
   "cell_type": "markdown",
   "id": "d3fef4ad-89a7-4fb6-a8ba-b865ef6e3cf8",
   "metadata": {},
   "source": [
    "## Reconstructed Gene Expression\n",
    "- Visualize reconstructed gene expression for a single perturbation\n",
    "- Save reconstructed gene expression for all heldout cells"
   ]
  },
  {
   "cell_type": "code",
   "execution_count": 16,
   "id": "4184472e",
   "metadata": {},
   "outputs": [
    {
     "data": {
      "text/plain": [
       "SPECTRA()"
      ]
     },
     "execution_count": 16,
     "metadata": {},
     "output_type": "execute_result"
    }
   ],
   "source": [
    "wrapper.internal_model.to(torch.device(\"cuda:0\"))"
   ]
  },
  {
   "cell_type": "code",
   "execution_count": 9,
   "id": "a55ef361",
   "metadata": {},
   "outputs": [],
   "source": [
    "# train-val-test split\n",
    "train_idx, val_idx, test_idx = generate_k_fold(\n",
    "    adata,\n",
    "    adata.X,\n",
    "    adata.obs[\"perturbation_name\"],\n",
    "    fold_idx=4,\n",
    "    perturbation_key=\"perturbation_name\",\n",
    ")\n",
    "loss_weights = np.ones(adata.shape[0])"
   ]
  },
  {
   "cell_type": "code",
   "execution_count": 14,
   "id": "671c346f",
   "metadata": {},
   "outputs": [],
   "source": [
    "holdout_adata = adata[test_idx]\n",
    "train_adata = adata[train_idx]"
   ]
  },
  {
   "cell_type": "code",
   "execution_count": 15,
   "id": "1328f936",
   "metadata": {},
   "outputs": [],
   "source": [
    "holdout_perts = \"CBL\"\n",
    "hold_idx = [\n",
    "    i\n",
    "    for i, x in enumerate(holdout_adata.obs[\"perturbation_name\"])\n",
    "    if x == holdout_perts\n",
    "]\n",
    "X_holdout = torch.from_numpy(holdout_adata.X[hold_idx])\n",
    "D_holdout = torch.from_numpy(D[hold_idx])\n",
    "loss_weights_holdout = torch.from_numpy(loss_weights[hold_idx])"
   ]
  },
  {
   "cell_type": "code",
   "execution_count": 17,
   "id": "9657f513",
   "metadata": {},
   "outputs": [],
   "source": [
    "with torch.no_grad():\n",
    "    loss, recon = wrapper.internal_model.loss_no_cell_types(\n",
    "        X=X_holdout, D=D_holdout, loss_weights=loss_weights_holdout, forward=True\n",
    "    )"
   ]
  },
  {
   "cell_type": "code",
   "execution_count": 19,
   "id": "f5fc4fdc",
   "metadata": {},
   "outputs": [],
   "source": [
    "mean_reconstruction = recon.detach().cpu().numpy().mean(axis=0)\n",
    "observed = torch.from_numpy(\n",
    "    holdout_adata[(holdout_adata.obs[\"perturbation_name\"] == holdout_perts)].X\n",
    ")\n",
    "mean_observed = torch.mean(observed, dim=0).detach().cpu().numpy()"
   ]
  },
  {
   "cell_type": "code",
   "execution_count": null,
   "id": "dca3a452-df0a-4a84-9573-3511c77bb470",
   "metadata": {},
   "outputs": [],
   "source": [
    "from scipy.stats import spearmanr\n",
    "\n",
    "spearmans = spearmanr(mean_reconstruction, mean_observed)"
   ]
  },
  {
   "cell_type": "code",
   "execution_count": 21,
   "id": "5f2a50e8",
   "metadata": {},
   "outputs": [
    {
     "data": {
      "image/png": "[encoded data removed]",
      "text/plain": [
       "<Figure size 640x480 with 1 Axes>"
      ]
     },
     "metadata": {},
     "output_type": "display_data"
    },
    {
     "name": "stdout",
     "output_type": "stream",
     "text": [
      "Spearman correlation: SignificanceResult(statistic=0.9697197539302803, pvalue=9.701068316902012e-35)\n"
     ]
    }
   ],
   "source": [
    "plt.scatter(\n",
    "    mean_observed, mean_reconstruction, s=[5 for _ in range(len(mean_observed))]\n",
    ")\n",
    "plt.title(f\"Observed vs predicted mean expression of {holdout_perts} perturbed cells\")\n",
    "plt.ylabel(\"Predicted\")\n",
    "plt.xlabel(\"Observed\")\n",
    "plt.show()\n",
    "print(f\"Spearman correlation: {spearmans}\")"
   ]
  },
  {
   "cell_type": "code",
   "execution_count": 23,
   "id": "ed5cd7ac-d347-439e-ae0f-9cd99b541be3",
   "metadata": {},
   "outputs": [],
   "source": [
    "# get reconstruction for all heldout samples\n",
    "X_holdout = torch.from_numpy(holdout_adata.X)\n",
    "D_holdout = torch.from_numpy(D[test_idx])\n",
    "loss_weights_holdout = torch.from_numpy(np.ones(holdout_adata.shape[0]))\n",
    "recons = []\n",
    "losses = []\n",
    "with torch.no_grad():\n",
    "    for i in range(0, len(X_holdout), 1000):\n",
    "        loss, recon = wrapper.internal_model.loss_no_cell_types(\n",
    "            X=X_holdout[i : i + 1000],\n",
    "            D=D_holdout[i : i + 1000],\n",
    "            loss_weights=loss_weights_holdout[i : i + 1000],\n",
    "            forward=True,\n",
    "        )\n",
    "        losses.append(loss.detach().cpu().numpy())\n",
    "        recons.append(recon.detach().cpu().numpy())\n",
    "adata.uns[\"recon\"] = np.concatenate(recons)\n",
    "adata.uns[\"losses\"] = np.array(losses)"
   ]
  },
  {
   "cell_type": "markdown",
   "id": "3754cfd3-adb5-4091-bcbb-44d7739514a7",
   "metadata": {},
   "source": [
    "## Save anndata for downstream analysis"
   ]
  },
  {
   "cell_type": "code",
   "execution_count": 24,
   "id": "973e78cf",
   "metadata": {},
   "outputs": [],
   "source": [
    "# save anndata for downstream analysis\n",
    "from scipy import sparse\n",
    "\n",
    "adata.X = sparse.csr_matrix(adata.X)\n",
    "write_adata_to_s3(s3_dir + experiment_name, \"fold_4\", adata)"
   ]
  },
  {
   "cell_type": "code",
   "execution_count": null,
   "id": "e0e80c98-9b9b-4d73-91d8-9b750d1c7e7e",
   "metadata": {},
   "outputs": [],
   "source": []
  }
 ],
 "metadata": {
  "kernelspec": {
   "display_name": "pertspectra",
   "language": "python",
   "name": "pertspectra"
  },
  "language_info": {
   "codemirror_mode": {
    "name": "ipython",
    "version": 3
   },
   "file_extension": ".py",
   "mimetype": "text/x-python",
   "name": "python",
   "nbconvert_exporter": "python",
   "pygments_lexer": "ipython3",
   "version": "3.11.0"
  }
 },
 "nbformat": 4,
 "nbformat_minor": 5
}
