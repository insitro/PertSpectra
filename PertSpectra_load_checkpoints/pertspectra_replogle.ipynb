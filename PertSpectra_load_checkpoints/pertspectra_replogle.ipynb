{
 "cells": [
  {
   "cell_type": "code",
   "execution_count": 1,
   "id": "65f8246a",
   "metadata": {},
   "outputs": [],
   "source": [
    "%load_ext autoreload\n",
    "%autoreload 2"
   ]
  },
  {
   "cell_type": "code",
   "execution_count": 5,
   "id": "bb2ff34c",
   "metadata": {},
   "outputs": [
    {
     "name": "stdout",
     "output_type": "stream",
     "text": [
      "Seed set\n"
     ]
    }
   ],
   "source": [
    "import sys\n",
    "\n",
    "import matplotlib.pyplot as plt\n",
    "import numpy as np\n",
    "import pandas as pd\n",
    "import torch\n",
    "\n",
    "sys.path.append(\"..\")\n",
    "from utils import (\n",
    "    filter_noisy_genes,\n",
    "    load_model,\n",
    "    read_aws_h5ad,\n",
    "    set_seed,\n",
    "    split_data_by_cell,\n",
    "    write_adata_to_s3,\n",
    ")\n",
    "\n",
    "set_seed(0)"
   ]
  },
  {
   "cell_type": "markdown",
   "id": "1c40154b-7828-4142-9187-170e7909ed72",
   "metadata": {},
   "source": [
    "## Load Model from Checkpoint"
   ]
  },
  {
   "cell_type": "code",
   "execution_count": null,
   "id": "5280863b",
   "metadata": {},
   "outputs": [],
   "source": [
    "# use anndata generate by ..data_processing/replogle_prior_graph_preprocessing.ipynb\n",
    "unfilterd_adata = read_aws_h5ad(\"path to preprocessed h5ad\")\n",
    "adata = filter_noisy_genes(unfilterd_adata)\n",
    "adata.X = adata.X.todense()\n",
    "device = torch.device(\"cuda:0\")\n",
    "gene_network = adata.uns[\"sparse_gene_network\"].todense()"
   ]
  },
  {
   "cell_type": "code",
   "execution_count": 8,
   "id": "5375d253",
   "metadata": {},
   "outputs": [],
   "source": [
    "# filter adata to perturbations with at least 50 samples\n",
    "obs_df = pd.DataFrame(adata.obs[\"gene\"])\n",
    "category_counts = obs_df[\"gene\"].value_counts()\n",
    "filtered_categories = category_counts[category_counts >= 50].index\n",
    "adata = adata[adata.obs[\"gene\"].isin(filtered_categories)]"
   ]
  },
  {
   "cell_type": "code",
   "execution_count": 9,
   "id": "1551462a",
   "metadata": {},
   "outputs": [],
   "source": [
    "# get the filtered 'strong' perturbations, but do not use the limited gene expression\n",
    "# references the svae filtered replogle anndata to subset to those cells (https://github.com/Genentech/sVAE/blob/main/entry_points/replogle-preprocessing.ipynb)\n",
    "filtered_replogle = read_aws_h5ad(\"path to svae filtered replogle h5ad\")\n",
    "filtered_perts = set(filtered_replogle.obs[\"gene\"].unique()).union(\n",
    "    set([\"SKP2\", \"CUL1\", \"UBE2N\"])\n",
    ")\n",
    "adata = adata[adata.obs[\"gene\"].isin(filtered_perts)]"
   ]
  },
  {
   "cell_type": "code",
   "execution_count": null,
   "id": "15bdbc4d",
   "metadata": {},
   "outputs": [],
   "source": [
    "# load model from checkpoint\n",
    "s3_dir = \"s3://pert-spectra/PertSpectra_checkpoints/\"\n",
    "experiment_name = \"pertspectra_replogle/\"\n",
    "model_name = \"replogle\"\n",
    "wrapper, adata = load_model(\n",
    "    adata=adata,\n",
    "    s3_dir=s3_dir,\n",
    "    experiment_name=experiment_name,\n",
    "    model_name=model_name,\n",
    "    use_cell_types=False,\n",
    ")"
   ]
  },
  {
   "cell_type": "code",
   "execution_count": null,
   "id": "b375310a-07eb-47f0-a4d1-c17b19697eae",
   "metadata": {},
   "outputs": [],
   "source": [
    "# save trained PertSpectra parameters\n",
    "adata.uns[\"SPECTRA_factors\"] = wrapper.factors\n",
    "adata.uns[\"SPECTRA_L\"] = wrapper.internal_model.L\n",
    "adata.uns[\"SPECTRA_pert_scores\"] = wrapper.cell_scores"
   ]
  },
  {
   "cell_type": "code",
   "execution_count": 11,
   "id": "6da069f6",
   "metadata": {},
   "outputs": [],
   "source": [
    "# reconstruct binarized perturbation matrix\n",
    "pert_idx = list(wrapper.internal_model.pert_idx)\n",
    "pert_labels = [x.split(\"_\")[-1] for x in wrapper.internal_model.pert_labels]\n",
    "adata.uns[\"Spectra_pert_labels\"] = pert_labels\n",
    "D = []\n",
    "for i in adata.obs[\"gene\"]:\n",
    "    d = [0.0 for _ in range(len(pert_idx))]\n",
    "    # add intercept\n",
    "    d[-1] = 1\n",
    "    if i == \"non-targeting\":\n",
    "        d[-2] = 1.0\n",
    "        D.append(d)\n",
    "        continue\n",
    "    guides = i.split(\"+\")\n",
    "\n",
    "    # pert or intergenic\n",
    "    one_hot_idx = pert_labels.index(guides[0])\n",
    "    d[one_hot_idx] = 1.0\n",
    "\n",
    "    if len(guides) > 1:\n",
    "        one_hot_idx = pert_labels.index(guides[1])\n",
    "        d[one_hot_idx] = 1.0\n",
    "    D.append(d)\n",
    "D = np.stack(D).astype(np.float32)"
   ]
  },
  {
   "cell_type": "markdown",
   "id": "e7fd5be1-49a2-47b0-bc6c-7a84d489c1f2",
   "metadata": {},
   "source": [
    "## Reconstructed Gene Expression\n",
    "- Visualize reconstructed gene expression for a single perturbation\n",
    "- Save reconstructed gene expression for all heldout cells"
   ]
  },
  {
   "cell_type": "code",
   "execution_count": 18,
   "id": "4184472e",
   "metadata": {},
   "outputs": [],
   "source": [
    "# wrap in cpu\n",
    "wrapper.internal_model.to(torch.device(\"cpu\"))\n",
    "wrapper.internal_model.device = torch.device(\"cpu\")"
   ]
  },
  {
   "cell_type": "code",
   "execution_count": 16,
   "id": "83785bb5",
   "metadata": {},
   "outputs": [],
   "source": [
    "train_idx, val_idx, test_idx = split_data_by_cell(\n",
    "    adata.X, adata.obs[\"gene\"], test_size=0.2, val_size=0.2\n",
    ")"
   ]
  },
  {
   "cell_type": "code",
   "execution_count": 17,
   "id": "1328f936",
   "metadata": {},
   "outputs": [],
   "source": [
    "holdout_perts = \"RIOK2\"\n",
    "X_holdout = torch.from_numpy(adata.X[test_idx])\n",
    "D_holdout = torch.from_numpy(D[test_idx])\n",
    "loss_weights = torch.from_numpy(np.ones(X_holdout.shape[0]))"
   ]
  },
  {
   "cell_type": "code",
   "execution_count": 19,
   "id": "9657f513",
   "metadata": {},
   "outputs": [],
   "source": [
    "with torch.no_grad():\n",
    "    loss, recon = wrapper.internal_model.loss_no_cell_types(\n",
    "        X=X_holdout, D=D_holdout, loss_weights=loss_weights, forward=True\n",
    "    )"
   ]
  },
  {
   "cell_type": "code",
   "execution_count": 20,
   "id": "f5fc4fdc",
   "metadata": {},
   "outputs": [],
   "source": [
    "mean_reconstruction = torch.mean(recon, dim=0).detach().cpu().numpy()\n",
    "observed = torch.from_numpy(adata[(adata.obs[\"gene\"] == holdout_perts)].X)\n",
    "mean_observed = torch.mean(observed, dim=0).detach().cpu().numpy()"
   ]
  },
  {
   "cell_type": "code",
   "execution_count": null,
   "id": "2cd3319c-e86e-4d1b-bfcf-79b066430efd",
   "metadata": {},
   "outputs": [],
   "source": [
    "from scipy.stats import spearmanr\n",
    "\n",
    "spearmans = spearmanr(mean_reconstruction, mean_observed)"
   ]
  },
  {
   "cell_type": "code",
   "execution_count": 22,
   "id": "5f2a50e8",
   "metadata": {},
   "outputs": [
    {
     "data": {
      "image/png": "[encoded data removed]",
      "text/plain": [
       "<Figure size 640x480 with 1 Axes>"
      ]
     },
     "metadata": {},
     "output_type": "display_data"
    },
    {
     "name": "stdout",
     "output_type": "stream",
     "text": [
      "Spearman correlation: SignificanceResult(statistic=0.9748835210506989, pvalue=0.0)\n"
     ]
    }
   ],
   "source": [
    "plt.scatter(\n",
    "    mean_observed, mean_reconstruction, s=[5 for _ in range(len(mean_observed))]\n",
    ")\n",
    "plt.title(f\"Observed vs predicted mean expression of {holdout_perts} perturbed cells\")\n",
    "plt.ylabel(\"Predicted\")\n",
    "plt.xlabel(\"Observed\")\n",
    "plt.show()\n",
    "spearmans = spearmanr(mean_reconstruction, mean_observed)\n",
    "print(f\"Spearman correlation: {spearmans}\")"
   ]
  },
  {
   "cell_type": "code",
   "execution_count": 24,
   "id": "d3d8e895",
   "metadata": {},
   "outputs": [],
   "source": [
    "# get reconstruction for all heldout samples\n",
    "X_holdout = torch.from_numpy(adata.X[test_idx])\n",
    "D_holdout = torch.from_numpy(D[test_idx])\n",
    "loss_weights = torch.from_numpy(np.ones(X_holdout.shape[0]))\n",
    "recons = []\n",
    "losses = []\n",
    "with torch.no_grad():\n",
    "    for i in range(0, len(X_holdout), 10000):\n",
    "        loss, recon = wrapper.internal_model.loss_no_cell_types(\n",
    "            X=X_holdout[i : i + 10000],\n",
    "            D=D_holdout[i : i + 10000],\n",
    "            loss_weights=loss_weights[i : i + 10000],\n",
    "            forward=True,\n",
    "        )\n",
    "        losses.append(loss.detach().cpu().numpy())\n",
    "        recons.append(recon.detach().cpu().numpy())\n",
    "adata.uns[\"recon\"] = np.concatenate(recons)\n",
    "adata.uns[\"losses\"] = np.array(losses)"
   ]
  },
  {
   "cell_type": "markdown",
   "id": "c1312828-84ee-4a2b-81d8-6713cde9ce67",
   "metadata": {},
   "source": [
    "## Save anndata for downstream analysis"
   ]
  },
  {
   "cell_type": "code",
   "execution_count": 29,
   "id": "973e78cf",
   "metadata": {},
   "outputs": [],
   "source": [
    "# save anndata for downstream analysis\n",
    "from scipy import sparse\n",
    "\n",
    "adata.X = sparse.csr_matrix(adata.X)\n",
    "write_adata_to_s3(s3_dir + experiment_name, \"replogle\", adata)"
   ]
  },
  {
   "cell_type": "code",
   "execution_count": null,
   "id": "c0e29cc0",
   "metadata": {},
   "outputs": [],
   "source": []
  }
 ],
 "metadata": {
  "kernelspec": {
   "display_name": "pertspectra",
   "language": "python",
   "name": "pertspectra"
  },
  "language_info": {
   "codemirror_mode": {
    "name": "ipython",
    "version": 3
   },
   "file_extension": ".py",
   "mimetype": "text/x-python",
   "name": "python",
   "nbconvert_exporter": "python",
   "pygments_lexer": "ipython3",
   "version": "3.11.0"
  }
 },
 "nbformat": 4,
 "nbformat_minor": 5
}
