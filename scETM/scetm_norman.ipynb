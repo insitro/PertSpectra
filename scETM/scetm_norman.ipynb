{
 "cells": [
  {
   "cell_type": "code",
   "execution_count": 1,
   "id": "41d53f3e",
   "metadata": {},
   "outputs": [],
   "source": [
    "%load_ext autoreload\n",
    "%autoreload 2"
   ]
  },
  {
   "cell_type": "code",
   "execution_count": null,
   "id": "a6e32fbd",
   "metadata": {},
   "outputs": [],
   "source": [
    "import sys\n",
    "\n",
    "import anndata as ad\n",
    "import numpy as np\n",
    "import pandas as pd\n",
    "import scanpy as sc\n",
    "import torch\n",
    "from scetm_utils import read_aws_h5ad\n",
    "\n",
    "from scETM import UnsupervisedTrainer, scETM\n",
    "from scETM.batch_sampler import CellSampler\n",
    "\n",
    "sys.path.append(\"..\")\n",
    "from utils import (\n",
    "    filter_noisy_genes,\n",
    "    generate_k_fold,\n",
    "    write_adata_to_s3,\n",
    ")\n",
    "\n",
    "sc.set_figure_params(\n",
    "    dpi=120, dpi_save=250, fontsize=10, figsize=(10, 10), facecolor=\"white\"\n",
    ")"
   ]
  },
  {
   "cell_type": "code",
   "execution_count": null,
   "id": "ca066698",
   "metadata": {},
   "outputs": [],
   "source": [
    "# use anndata generate by ..data_processing/norman_prior_graph_preprocessing.ipynb\n",
    "unfiltered_adata = read_aws_h5ad(\"path to h5ad\")\n",
    "adata = filter_noisy_genes(unfiltered_adata)\n",
    "adata.layers[\"logcounts\"] = adata.X.copy()\n",
    "adata.X = adata.X.todense()\n",
    "device = torch.device(\"cuda:0\")\n",
    "gene_network = adata.uns[\"sparse_gene_network\"].todense()"
   ]
  },
  {
   "cell_type": "code",
   "execution_count": 6,
   "id": "03d7f2d0",
   "metadata": {},
   "outputs": [],
   "source": [
    "# subset to powered perturbations\n",
    "obs_df = pd.DataFrame(adata.obs[\"perturbation_name\"])\n",
    "category_counts = obs_df[\"perturbation_name\"].value_counts()\n",
    "filtered_categories = category_counts[category_counts >= 50].index\n",
    "adata = adata[adata.obs[\"perturbation_name\"].isin(filtered_categories)]"
   ]
  },
  {
   "cell_type": "code",
   "execution_count": 7,
   "id": "eb6a0457",
   "metadata": {},
   "outputs": [],
   "source": [
    "adata.X = adata.layers[\"counts\"].todense()\n",
    "sc.pp.normalize_total(adata, target_sum=1e4)\n",
    "adata.X = np.array(adata.X)"
   ]
  },
  {
   "cell_type": "code",
   "execution_count": 9,
   "id": "ad199270",
   "metadata": {},
   "outputs": [],
   "source": [
    "train_idx, val_idx, test_idx = generate_k_fold(\n",
    "    adata,\n",
    "    adata.X,\n",
    "    adata.obs[\"perturbation_name\"],\n",
    "    fold_idx=4,\n",
    "    perturbation_key=\"perturbation_name\",\n",
    ")"
   ]
  },
  {
   "cell_type": "code",
   "execution_count": 10,
   "id": "cf5abfb8",
   "metadata": {},
   "outputs": [],
   "source": [
    "adata_train = ad.AnnData(np.array(adata[train_idx].X))\n",
    "adata_train.obs[\"perturbation_name\"] = list(adata[train_idx].obs[\"perturbation_name\"])\n",
    "adata_train.obs[\"cell_types\"] = [\"K562\" for _ in range(adata_train.shape[0])]\n",
    "adata_test = ad.AnnData(np.array(adata[test_idx].X))\n",
    "adata_test.obs[\"perturbation_name\"] = list(adata[test_idx].obs[\"perturbation_name\"])\n",
    "adata_test.obs[\"cell_types\"] = [\"K562\" for _ in range(adata_test.shape[0])]"
   ]
  },
  {
   "cell_type": "code",
   "execution_count": 12,
   "id": "019763d8",
   "metadata": {},
   "outputs": [
    {
     "name": "stderr",
     "output_type": "stream",
     "text": [
      "[2024-11-13 07:17:51,864] INFO - scETM.src.scETM.logging_utils: scETM.__init__(4990, 210, n_topics = 200, trainable_gene_emb_dim = 400)\n",
      "[2024-11-13 07:17:52,037] INFO - scETM.src.scETM.logging_utils: UnsupervisedTrainer.__init__(scETM(\n",
      "  (q_delta): Sequential(\n",
      "    (0): Linear(in_features=4990, out_features=128, bias=True)\n",
      "    (1): ReLU()\n",
      "    (2): BatchNorm1d(128, eps=1e-05, momentum=0.1, affine=True, track_running_stats=True)\n",
      "    (3): Dropout(p=0.1, inplace=False)\n",
      "  )\n",
      "  (mu_q_delta): Linear(in_features=128, out_features=200, bias=True)\n",
      "  (logsigma_q_delta): Linear(in_features=128, out_features=200, bias=True)\n",
      "  (rho_trainable_emb): PartlyTrainableParameter2D(height=400, fixed=0, trainable=4990)\n",
      "), AnnData object with n_obs × n_vars = 64585 × 4990\n",
      "    obs: 'perturbation_name', 'cell_types', test_ratio = 0.1, seed = 0)\n",
      "[2024-11-13 07:17:52,038] INFO - scETM.src.scETM.trainers.trainer_utils: Set seed to 0.\n",
      "[2024-11-13 07:17:52,059] INFO - scETM.src.scETM.trainers.trainer_utils: Keeping 6458 cells (0.1) as test data.\n"
     ]
    }
   ],
   "source": [
    "norman_model = scETM(\n",
    "    adata_train.n_vars,\n",
    "    adata_train.obs.perturbation_name.nunique(),\n",
    "    n_topics=200,\n",
    "    trainable_gene_emb_dim=400,\n",
    ")\n",
    "trainer = UnsupervisedTrainer(norman_model, adata_train, test_ratio=0.1, seed=0)"
   ]
  },
  {
   "cell_type": "code",
   "execution_count": null,
   "id": "4594136c",
   "metadata": {},
   "outputs": [],
   "source": [
    "import time\n",
    "\n",
    "start = time.time()\n",
    "trainer.train(\n",
    "    n_epochs=12000,\n",
    "    eval_every=2000,\n",
    "    batch_col=\"perturbation_name\",\n",
    "    eval_kwargs=dict(batch_col=\"perturbation_name\"),\n",
    "    save_model_ckpt=False,\n",
    ")\n",
    "end = time.time()\n",
    "print(f\"Training time: {end-start}\")"
   ]
  },
  {
   "cell_type": "code",
   "execution_count": null,
   "id": "e5566fa6",
   "metadata": {},
   "outputs": [],
   "source": [
    "# retrieve reconstructed gene expression\n",
    "recon = []\n",
    "theta = []\n",
    "for i in range(3):\n",
    "    adata_sub = adata_test[i * 10000 : min((i + 1) * 10000, len(adata))]\n",
    "    sampler = CellSampler(\n",
    "        adata_sub,\n",
    "        10000,\n",
    "        sample_batch_id=True,\n",
    "        n_epochs=1,\n",
    "        batch_col=\"perturbation_name\",\n",
    "    )\n",
    "    dataloader = iter(sampler)\n",
    "    data_dict = {k: v.to(torch.device(\"cuda:0\")) for k, v in next(dataloader).items()}\n",
    "    out = norman_model.forward(data_dict=data_dict, hyper_param_dict={\"decode\": True})\n",
    "    recon.append(out[\"recon_log\"].clone().detach().cpu().numpy())\n",
    "    theta.append(out[\"theta\"].clone().detach().cpu().numpy())\n",
    "all_recon = np.concatenate(recon)\n",
    "all_theta = np.concatenate(theta)\n",
    "assert len(adata_test) == all_recon.shape[0]\n",
    "assert len(adata_test) == all_theta.shape[0]"
   ]
  },
  {
   "cell_type": "code",
   "execution_count": null,
   "id": "adff89de",
   "metadata": {},
   "outputs": [],
   "source": [
    "# save model parameters\n",
    "adata_test.uns[\"topics\"] = norman_model.alpha.clone().detach().cpu().numpy()\n",
    "adata_test.uns[\"gene_emb\"] = (\n",
    "    norman_model.rho_trainable_emb.trainable.clone().detach().cpu().numpy()\n",
    ")\n",
    "adata_test.uns[\"cell_emb\"] = all_theta\n",
    "adata_test.uns[\"recon\"] = all_recon\n",
    "adata_test.X = np.array(adata_test.X)"
   ]
  },
  {
   "cell_type": "code",
   "execution_count": null,
   "id": "267de607",
   "metadata": {},
   "outputs": [],
   "source": [
    "# save to s3\n",
    "write_adata_to_s3(\n",
    "    s3_url=\"s3://pert-spectra/scETM_checkpoints/scETM_norman/\",\n",
    "    adata_name=\"fold_4\",\n",
    "    adata=adata_test,\n",
    ")"
   ]
  },
  {
   "cell_type": "code",
   "execution_count": null,
   "id": "b84f007a",
   "metadata": {},
   "outputs": [],
   "source": []
  }
 ],
 "metadata": {
  "kernelspec": {
   "display_name": "pertspectra",
   "language": "python",
   "name": "pertspectra"
  },
  "language_info": {
   "codemirror_mode": {
    "name": "ipython",
    "version": 3
   },
   "file_extension": ".py",
   "mimetype": "text/x-python",
   "name": "python",
   "nbconvert_exporter": "python",
   "pygments_lexer": "ipython3",
   "version": "3.11.0"
  }
 },
 "nbformat": 4,
 "nbformat_minor": 5
}
