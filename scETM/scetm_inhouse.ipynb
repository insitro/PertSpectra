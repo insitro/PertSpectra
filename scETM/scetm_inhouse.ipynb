{
 "cells": [
  {
   "cell_type": "code",
   "execution_count": 1,
   "id": "41d53f3e",
   "metadata": {},
   "outputs": [],
   "source": [
    "%load_ext autoreload\n",
    "%autoreload 2"
   ]
  },
  {
   "cell_type": "code",
   "execution_count": null,
   "id": "a6e32fbd",
   "metadata": {},
   "outputs": [],
   "source": [
    "import sys\n",
    "\n",
    "import anndata as ad\n",
    "import numpy as np\n",
    "import pandas as pd\n",
    "import scanpy as sc\n",
    "import torch\n",
    "from scetm_utils import read_aws_h5ad\n",
    "\n",
    "from scETM import UnsupervisedTrainer, scETM\n",
    "from scETM.batch_sampler import CellSampler\n",
    "\n",
    "sys.path.append(\"..\")\n",
    "from utils import (\n",
    "    filter_noisy_genes,\n",
    "    generate_k_fold,\n",
    "    write_adata_to_s3,\n",
    ")\n",
    "\n",
    "sc.set_figure_params(\n",
    "    dpi=120, dpi_save=250, fontsize=10, figsize=(10, 10), facecolor=\"white\"\n",
    ")"
   ]
  },
  {
   "cell_type": "code",
   "execution_count": null,
   "id": "ca066698",
   "metadata": {},
   "outputs": [],
   "source": [
    "# use anndata generate by ..data_processing/inhouse_prior_graph_preprocessing.ipynb\n",
    "unfilterd_adata = read_aws_h5ad(\"path to preprocessed h5ad\")\n",
    "adata = filter_noisy_genes(unfilterd_adata)\n",
    "adata.layers[\"logcounts\"] = adata.X.copy()\n",
    "adata.X = adata.X.todense()\n",
    "device = torch.device(\"cuda:0\")\n",
    "gene_network = adata.uns[\"sparse_gene_network\"].todense()"
   ]
  },
  {
   "cell_type": "code",
   "execution_count": 6,
   "id": "8fba4cc4-03d3-447a-924d-c878f9cd3c9d",
   "metadata": {},
   "outputs": [],
   "source": [
    "# powered perturbations\n",
    "adata.obs[\"condition\"] = adata.obs[\"condition\"].astype(str)\n",
    "adata.obs[\"Treatment\"] = adata.obs[\"Treatment\"].astype(str)\n",
    "adata.obs[\"pert_treat\"] = adata.obs[\"condition\"] + \"+\" + adata.obs[\"Treatment\"]\n",
    "obs_df = pd.DataFrame(adata.obs[\"pert_treat\"])\n",
    "category_counts = obs_df[\"pert_treat\"].value_counts()\n",
    "filtered_categories = category_counts[category_counts >= 50].index\n",
    "adata = adata[adata.obs[\"pert_treat\"].isin(filtered_categories)]"
   ]
  },
  {
   "cell_type": "code",
   "execution_count": 7,
   "id": "cbb5ef4f",
   "metadata": {},
   "outputs": [
    {
     "data": {
      "text/plain": [
       "View of AnnData object with n_obs × n_vars = 65648 × 4997\n",
       "    obs: 'num_features', 'feature_call', 'num_umis', 'target_gene_name', 'SampleIndex', 'ssid', 'Treatment', 'assigned_archetype', 'node_centrality', 'clusters', 'condition', 'control', 'pert_treat'\n",
       "    var: 'gene_symbol', 'feature_types', 'genome', 'gene_id', 'highly_variable', 'means', 'dispersions', 'dispersions_norm', 'gene_symbols'\n",
       "    uns: 'hvg', 'metadata', 'obsm_annot', 'sparse_gene_network', 'varm_annot'\n",
       "    obsm: 'ACTION', 'ACTION_B', 'ACTION_normalized', 'C_stacked', 'C_unified', 'H_stacked', 'H_unified', 'X_ACTIONet2D', 'X_ACTIONet3D', 'X_ACTIONred', 'X_denovo_color', 'archetype_footprint'\n",
       "    varm: 'ACTION_A', 'ACTION_V', 'unified_feature_profile', 'unified_feature_specificity'\n",
       "    layers: 'counts', 'logcounts'\n",
       "    obsp: 'ACTIONet'"
      ]
     },
     "execution_count": 7,
     "metadata": {},
     "output_type": "execute_result"
    }
   ],
   "source": [
    "adata"
   ]
  },
  {
   "cell_type": "code",
   "execution_count": null,
   "id": "eb6a0457",
   "metadata": {},
   "outputs": [],
   "source": [
    "adata.X = adata.layers[\"counts\"].todense()\n",
    "sc.pp.normalize_total(adata, target_sum=1e4)\n",
    "adata.X = np.array(adata.X)"
   ]
  },
  {
   "cell_type": "code",
   "execution_count": 9,
   "id": "afef639c",
   "metadata": {},
   "outputs": [
    {
     "name": "stderr",
     "output_type": "stream",
     "text": [
      "/tmp/ipykernel_13522/996553587.py:1: ImplicitModificationWarning: Trying to modify attribute `.obs` of view, initializing view as actual.\n",
      "  adata.obs['cell_types'] = ['A549' for _ in range(adata.shape[0])]\n"
     ]
    }
   ],
   "source": [
    "adata.obs[\"cell_types\"] = [\"A549\" for _ in range(adata.shape[0])]"
   ]
  },
  {
   "cell_type": "code",
   "execution_count": 36,
   "id": "e9d26f2a",
   "metadata": {},
   "outputs": [],
   "source": [
    "train_idx, val_idx, test_idx = generate_k_fold(\n",
    "    adata, adata.X, adata.obs[\"condition\"], fold_idx=4\n",
    ")"
   ]
  },
  {
   "cell_type": "code",
   "execution_count": 37,
   "id": "cc6ed3ff",
   "metadata": {},
   "outputs": [],
   "source": [
    "adata_train = ad.AnnData(np.array(adata[train_idx].X))\n",
    "adata_train.obs[\"condition\"] = list(adata[train_idx].obs[\"condition\"])\n",
    "adata_train.obs[\"Treatment\"] = list(adata[train_idx].obs[\"Treatment\"])\n",
    "adata_train.obs[\"cell_types\"] = [\"A549\" for _ in range(adata_train.shape[0])]\n",
    "adata_test = ad.AnnData(np.array(adata[test_idx].X))\n",
    "adata_test.obs[\"condition\"] = list(adata[test_idx].obs[\"condition\"])\n",
    "adata_test.obs[\"Treatment\"] = list(adata[test_idx].obs[\"Treatment\"])\n",
    "adata_test.obs[\"cell_types\"] = [\"A549\" for _ in range(adata_test.shape[0])]\n",
    "# for scETM, subset to TNFA+ for better signal\n",
    "adata_train = adata_train[adata_train.obs[\"Treatment\"] == \"TNFA+\"]\n",
    "adata_test = adata_test[adata_test.obs[\"Treatment\"] == \"TNFA+\"]"
   ]
  },
  {
   "cell_type": "code",
   "execution_count": 39,
   "id": "019763d8",
   "metadata": {},
   "outputs": [
    {
     "name": "stderr",
     "output_type": "stream",
     "text": [
      "[2024-11-13 00:25:06,897] INFO - scETM.src.scETM.logging_utils: scETM.__init__(4997, 151, n_topics = 200, trainable_gene_emb_dim = 400)\n",
      "[2024-11-13 00:25:06,927] INFO - scETM.src.scETM.logging_utils: UnsupervisedTrainer.__init__(scETM(\n",
      "  (q_delta): Sequential(\n",
      "    (0): Linear(in_features=4997, out_features=128, bias=True)\n",
      "    (1): ReLU()\n",
      "    (2): BatchNorm1d(128, eps=1e-05, momentum=0.1, affine=True, track_running_stats=True)\n",
      "    (3): Dropout(p=0.1, inplace=False)\n",
      "  )\n",
      "  (mu_q_delta): Linear(in_features=128, out_features=200, bias=True)\n",
      "  (logsigma_q_delta): Linear(in_features=128, out_features=200, bias=True)\n",
      "  (rho_trainable_emb): PartlyTrainableParameter2D(height=400, fixed=0, trainable=4997)\n",
      "), View of AnnData object with n_obs × n_vars = 25701 × 4997\n",
      "    obs: 'condition', 'Treatment', 'cell_types', test_ratio = 0.2, seed = 0)\n",
      "[2024-11-13 00:25:06,928] INFO - scETM.src.scETM.trainers.trainer_utils: Set seed to 0.\n",
      "[2024-11-13 00:25:06,940] INFO - scETM.src.scETM.trainers.trainer_utils: Keeping 5140 cells (0.2) as test data.\n"
     ]
    }
   ],
   "source": [
    "inhouse_model = scETM(\n",
    "    adata_train.n_vars,\n",
    "    adata_train.obs.condition.nunique(),\n",
    "    n_topics=200,\n",
    "    trainable_gene_emb_dim=400,\n",
    ")\n",
    "trainer = UnsupervisedTrainer(inhouse_model, adata_train, test_ratio=0.2, seed=0)"
   ]
  },
  {
   "cell_type": "code",
   "execution_count": null,
   "id": "4594136c",
   "metadata": {
    "scrolled": true
   },
   "outputs": [],
   "source": [
    "import time\n",
    "\n",
    "start = time.time()\n",
    "trainer.train(\n",
    "    n_epochs=12000,\n",
    "    eval_every=2000,\n",
    "    batch_col=\"condition\",\n",
    "    eval_kwargs=dict(batch_col=\"condition\"),\n",
    "    save_model_ckpt=False,\n",
    ")\n",
    "end = time.time()\n",
    "print(f\"Training time: {end-start}\")"
   ]
  },
  {
   "cell_type": "code",
   "execution_count": null,
   "id": "fe4981b6",
   "metadata": {},
   "outputs": [],
   "source": [
    "# retrieve reconstructed gene expression\n",
    "recon = []\n",
    "theta = []\n",
    "for i in range(2):\n",
    "    adata_sub = adata_test[i * 10000 : min((i + 1) * 10000, len(adata))]\n",
    "    sampler = CellSampler(\n",
    "        adata_sub, 10000, sample_batch_id=True, n_epochs=1, batch_col=\"condition\"\n",
    "    )\n",
    "    dataloader = iter(sampler)\n",
    "    data_dict = {k: v.to(torch.device(\"cuda:0\")) for k, v in next(dataloader).items()}\n",
    "    out = inhouse_model.forward(data_dict=data_dict, hyper_param_dict={\"decode\": True})\n",
    "    recon.append(out[\"recon_log\"].clone().detach().cpu().numpy())\n",
    "    theta.append(out[\"theta\"].clone().detach().cpu().numpy())\n",
    "all_recon = np.concatenate(recon)\n",
    "all_theta = np.concatenate(theta)\n",
    "assert len(adata_test) == all_recon.shape[0]"
   ]
  },
  {
   "cell_type": "code",
   "execution_count": null,
   "id": "adff89de",
   "metadata": {},
   "outputs": [],
   "source": [
    "# save model parameters\n",
    "adata_test.uns[\"topics\"] = inhouse_model.alpha.clone().detach().cpu().numpy()\n",
    "adata_test.uns[\"gene_emb\"] = (\n",
    "    inhouse_model.rho_trainable_emb.trainable.clone().detach().cpu().numpy()\n",
    ")\n",
    "adata_test.uns[\"cell_emb\"] = all_theta\n",
    "adata_test.uns[\"recon\"] = all_recon"
   ]
  },
  {
   "cell_type": "code",
   "execution_count": null,
   "id": "bbade626",
   "metadata": {},
   "outputs": [],
   "source": [
    "# save to s3\n",
    "write_adata_to_s3(\n",
    "    s3_url=\"s3://pert-spectra/scETM_checkpoints/scETM_inhouse/\",\n",
    "    adata_name=\"fold_4\",\n",
    "    adata=adata_test,\n",
    ")"
   ]
  },
  {
   "cell_type": "code",
   "execution_count": null,
   "id": "5dc11d8d-6e5b-4073-b923-f43c69bc22c0",
   "metadata": {},
   "outputs": [],
   "source": []
  }
 ],
 "metadata": {
  "kernelspec": {
   "display_name": "pertspectra",
   "language": "python",
   "name": "pertspectra"
  },
  "language_info": {
   "codemirror_mode": {
    "name": "ipython",
    "version": 3
   },
   "file_extension": ".py",
   "mimetype": "text/x-python",
   "name": "python",
   "nbconvert_exporter": "python",
   "pygments_lexer": "ipython3",
   "version": "3.11.0"
  }
 },
 "nbformat": 4,
 "nbformat_minor": 5
}
