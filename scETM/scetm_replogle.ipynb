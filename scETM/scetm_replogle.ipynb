{
 "cells": [
  {
   "cell_type": "code",
   "execution_count": 2,
   "id": "41d53f3e",
   "metadata": {},
   "outputs": [],
   "source": [
    "%load_ext autoreload\n",
    "%autoreload 2"
   ]
  },
  {
   "cell_type": "code",
   "execution_count": null,
   "id": "a6e32fbd",
   "metadata": {},
   "outputs": [],
   "source": [
    "import sys\n",
    "\n",
    "import anndata as ad\n",
    "import numpy as np\n",
    "import pandas as pd\n",
    "import scanpy as sc\n",
    "import torch\n",
    "from scetm_utils import read_aws_h5ad\n",
    "\n",
    "from scETM import UnsupervisedTrainer, scETM\n",
    "from scETM.batch_sampler import CellSampler\n",
    "\n",
    "sys.path.append(\"..\")\n",
    "from utils import filter_noisy_genes, split_data_by_cell, write_adata_to_s3\n",
    "\n",
    "sc.set_figure_params(\n",
    "    dpi=120, dpi_save=250, fontsize=10, figsize=(10, 10), facecolor=\"white\"\n",
    ")"
   ]
  },
  {
   "cell_type": "code",
   "execution_count": null,
   "id": "ca066698",
   "metadata": {},
   "outputs": [],
   "source": [
    "# use anndata generate by ..data_processing/replogle_prior_graph_preprocessing.ipynb\n",
    "unfiltered_adata = read_aws_h5ad(\"path to h5ad\")\n",
    "adata = filter_noisy_genes(unfiltered_adata)\n",
    "adata.layers[\"logcounts\"] = adata.X.copy()\n",
    "adata.X = adata.X.todense()\n",
    "device = torch.device(\"cuda:0\")\n",
    "gene_network = adata.uns[\"sparse_gene_network\"].todense()"
   ]
  },
  {
   "cell_type": "code",
   "execution_count": 6,
   "id": "03d7f2d0",
   "metadata": {},
   "outputs": [],
   "source": [
    "# filter adata to perturbations with at least 50 samples\n",
    "obs_df = pd.DataFrame(adata.obs[\"gene\"])\n",
    "category_counts = obs_df[\"gene\"].value_counts()\n",
    "filtered_categories = category_counts[category_counts >= 50].index\n",
    "adata = adata[adata.obs[\"gene\"].isin(filtered_categories)]"
   ]
  },
  {
   "cell_type": "code",
   "execution_count": 7,
   "id": "0f15f5b5-aead-49bb-98ca-6926a3791ec4",
   "metadata": {},
   "outputs": [],
   "source": [
    "# reference the svae filtered replogle anndata to subset to those cells (see ../data for instructions on generating the anndata object)\n",
    "filtered_replogle = read_aws_h5ad(\"path to svae filtered replogle h5ad\")\n",
    "filtered_perts = set(filtered_replogle.obs[\"gene\"].unique()).union(\n",
    "    set([\"SKP2\", \"CUL1\", \"UBE2N\"])\n",
    ")\n",
    "adata = adata[adata.obs[\"gene\"].isin(filtered_perts)]"
   ]
  },
  {
   "cell_type": "code",
   "execution_count": 8,
   "id": "eb6a0457",
   "metadata": {},
   "outputs": [],
   "source": [
    "adata.X = adata.layers[\"counts\"]\n",
    "sc.pp.normalize_total(adata, target_sum=1e4)\n",
    "adata.X = np.asarray(adata.X)"
   ]
  },
  {
   "cell_type": "code",
   "execution_count": 10,
   "id": "281e46e2",
   "metadata": {},
   "outputs": [],
   "source": [
    "train_idx, val_idx, test_idx = split_data_by_cell(\n",
    "    adata.X, adata.obs[\"gene\"], test_size=0.2, val_size=0.2\n",
    ")"
   ]
  },
  {
   "cell_type": "code",
   "execution_count": 11,
   "id": "038e5082",
   "metadata": {},
   "outputs": [],
   "source": [
    "adata_train = ad.AnnData(np.array(adata[train_idx].X))\n",
    "adata_train.obs[\"gene\"] = list(adata[train_idx].obs[\"gene\"])\n",
    "adata_train.obs[\"cell_types\"] = [\"K562\" for _ in range(adata_train.shape[0])]\n",
    "adata_test = ad.AnnData(np.array(adata[test_idx].X))\n",
    "adata_test.obs[\"gene\"] = list(adata[test_idx].obs[\"gene\"])\n",
    "adata_test.obs[\"cell_types\"] = [\"K562\" for _ in range(adata_test.shape[0])]"
   ]
  },
  {
   "cell_type": "code",
   "execution_count": 13,
   "id": "019763d8",
   "metadata": {},
   "outputs": [
    {
     "name": "stderr",
     "output_type": "stream",
     "text": [
      "[2024-11-13 07:15:56,365] INFO - scETM.src.scETM.logging_utils: scETM.__init__(4935, 517, n_topics = 200, trainable_gene_emb_dim = 400)\n",
      "[2024-11-13 07:15:57,358] INFO - scETM.src.scETM.logging_utils: UnsupervisedTrainer.__init__(scETM(\n",
      "  (q_delta): Sequential(\n",
      "    (0): Linear(in_features=4935, out_features=128, bias=True)\n",
      "    (1): ReLU()\n",
      "    (2): BatchNorm1d(128, eps=1e-05, momentum=0.1, affine=True, track_running_stats=True)\n",
      "    (3): Dropout(p=0.1, inplace=False)\n",
      "  )\n",
      "  (mu_q_delta): Linear(in_features=128, out_features=200, bias=True)\n",
      "  (logsigma_q_delta): Linear(in_features=128, out_features=200, bias=True)\n",
      "  (rho_trainable_emb): PartlyTrainableParameter2D(height=400, fixed=0, trainable=4935)\n",
      "), AnnData object with n_obs × n_vars = 67803 × 4935\n",
      "    obs: 'gene', 'cell_types', test_ratio = 0.1, seed = 0)\n",
      "[2024-11-13 07:15:57,361] INFO - scETM.src.scETM.trainers.trainer_utils: Set seed to 0.\n",
      "[2024-11-13 07:15:57,422] INFO - scETM.src.scETM.trainers.trainer_utils: Keeping 6780 cells (0.1) as test data.\n"
     ]
    }
   ],
   "source": [
    "model = scETM(\n",
    "    adata_train.n_vars,\n",
    "    adata_train.obs.gene.nunique(),\n",
    "    n_topics=200,\n",
    "    trainable_gene_emb_dim=400,\n",
    ")\n",
    "trainer = UnsupervisedTrainer(model, adata_train, test_ratio=0.1, seed=0)"
   ]
  },
  {
   "cell_type": "code",
   "execution_count": null,
   "id": "3e8b62a5-7a64-438b-aeec-6519faed6dbe",
   "metadata": {},
   "outputs": [],
   "source": [
    "trainer.train(\n",
    "    n_epochs=12000,\n",
    "    eval_every=2000,\n",
    "    batch_col=\"gene\",\n",
    "    eval_kwargs=dict(batch_col=\"gene\"),\n",
    "    save_model_ckpt=False,\n",
    ")"
   ]
  },
  {
   "cell_type": "code",
   "execution_count": 20,
   "id": "15d29ee4",
   "metadata": {},
   "outputs": [],
   "source": [
    "# retrieve reconstructed gene expression\n",
    "recon = []\n",
    "theta = []\n",
    "for i in range(3):\n",
    "    adata_sub = adata_test[i * 10000 : min((i + 1) * 10000, len(adata))]\n",
    "    sampler = CellSampler(\n",
    "        adata_sub, 10000, sample_batch_id=True, n_epochs=1, batch_col=\"gene\"\n",
    "    )\n",
    "    dataloader = iter(sampler)\n",
    "    data_dict = {k: v.to(torch.device(\"cuda:0\")) for k, v in next(dataloader).items()}\n",
    "    out = model.forward(data_dict=data_dict, hyper_param_dict={\"decode\": True})\n",
    "    recon.append(out[\"recon_log\"].clone().detach().cpu().numpy())\n",
    "    theta.append(out[\"theta\"].clone().detach().cpu().numpy())\n",
    "all_recon = np.concatenate(recon)\n",
    "all_theta = np.concatenate(theta)\n",
    "assert len(adata_test) == all_recon.shape[0]\n",
    "assert len(adata_test) == all_theta.shape[0]"
   ]
  },
  {
   "cell_type": "code",
   "execution_count": 21,
   "id": "adff89de",
   "metadata": {},
   "outputs": [],
   "source": [
    "# save model parameters\n",
    "adata_test.uns[\"topics\"] = model.alpha.clone().detach().cpu().numpy()\n",
    "adata_test.uns[\"gene_emb\"] = (\n",
    "    model.rho_trainable_emb.trainable.clone().detach().cpu().numpy()\n",
    ")\n",
    "adata_test.uns[\"cell_emb\"] = all_theta\n",
    "adata_test.uns[\"recon\"] = all_recon\n",
    "adata_test.X = np.array(adata_test.X)"
   ]
  },
  {
   "cell_type": "code",
   "execution_count": 22,
   "id": "267de607",
   "metadata": {},
   "outputs": [],
   "source": [
    "# save to s3\n",
    "write_adata_to_s3(\n",
    "    s3_url=\"s3://pert-spectra/scETM_checkpoints/scETM_replogle/\",\n",
    "    adata_name=\"scETM_replogle\",\n",
    "    adata=adata_test,\n",
    ")"
   ]
  },
  {
   "cell_type": "code",
   "execution_count": null,
   "id": "b01b22c0",
   "metadata": {},
   "outputs": [],
   "source": []
  }
 ],
 "metadata": {
  "kernelspec": {
   "display_name": "pertspectra",
   "language": "python",
   "name": "pertspectra"
  },
  "language_info": {
   "codemirror_mode": {
    "name": "ipython",
    "version": 3
   },
   "file_extension": ".py",
   "mimetype": "text/x-python",
   "name": "python",
   "nbconvert_exporter": "python",
   "pygments_lexer": "ipython3",
   "version": "3.11.0"
  }
 },
 "nbformat": 4,
 "nbformat_minor": 5
}
